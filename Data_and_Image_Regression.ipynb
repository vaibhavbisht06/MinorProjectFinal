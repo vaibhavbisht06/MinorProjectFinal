{
 "cells": [
  {
   "cell_type": "code",
   "execution_count": 0,
   "metadata": {
    "colab": {},
    "colab_type": "code",
    "id": "e9ZEmZO-MNeG"
   },
   "outputs": [],
   "source": [
    "import pandas as pd\n",
    "import numpy as np"
   ]
  },
  {
   "cell_type": "code",
   "execution_count": 4,
   "metadata": {
    "colab": {
     "base_uri": "https://localhost:8080/",
     "height": 124
    },
    "colab_type": "code",
    "executionInfo": {
     "elapsed": 19678,
     "status": "ok",
     "timestamp": 1557259852698,
     "user": {
      "displayName": "Guilherme Regos Zamorano",
      "photoUrl": "",
      "userId": "17407596423518156867"
     },
     "user_tz": 300
    },
    "id": "iRhgC1SEMT_k",
    "outputId": "56c0f51d-fd68-403d-ea56-6cfaf269e9d8"
   },
   "outputs": [
    {
     "name": "stdout",
     "output_type": "stream",
     "text": [
      "Go to this URL in a browser: https://accounts.google.com/o/oauth2/auth?client_id=947318989803-6bn6qk8qdgf4n4g3pfee6491hc0brc4i.apps.googleusercontent.com&redirect_uri=urn%3Aietf%3Awg%3Aoauth%3A2.0%3Aoob&scope=email%20https%3A%2F%2Fwww.googleapis.com%2Fauth%2Fdocs.test%20https%3A%2F%2Fwww.googleapis.com%2Fauth%2Fdrive%20https%3A%2F%2Fwww.googleapis.com%2Fauth%2Fdrive.photos.readonly%20https%3A%2F%2Fwww.googleapis.com%2Fauth%2Fpeopleapi.readonly&response_type=code\n",
      "\n",
      "Enter your authorization code:\n",
      "··········\n",
      "Mounted at /content/gdrive\n"
     ]
    }
   ],
   "source": [
    "from google.colab import drive\n",
    "drive.mount('/content/gdrive', force_remount=True)\n",
    "root_dir = \"/content/gdrive/My Drive/\""
   ]
  },
  {
   "cell_type": "code",
   "execution_count": 0,
   "metadata": {
    "colab": {},
    "colab_type": "code",
    "id": "jbOkIeSCMWxM"
   },
   "outputs": [],
   "source": [
    "path_img = \"/content/gdrive/My Drive/profile_display_images_concat_np.npy\"\n",
    "path_df = \"/content/gdrive/My Drive/InstagramDatasetRegression.csv\"\n",
    "Regression_data = pd.read_csv(path_df, encoding='utf-8-sig')\n",
    "image_data = np.load(path_img, allow_pickle=True)"
   ]
  },
  {
   "cell_type": "code",
   "execution_count": 6,
   "metadata": {
    "colab": {
     "base_uri": "https://localhost:8080/",
     "height": 72
    },
    "colab_type": "code",
    "executionInfo": {
     "elapsed": 911,
     "status": "ok",
     "timestamp": 1557251597920,
     "user": {
      "displayName": "Guilherme Regos Zamorano",
      "photoUrl": "",
      "userId": "17407596423518156867"
     },
     "user_tz": 300
    },
    "id": "DZVmZP98YduO",
    "outputId": "695514a3-e7ed-4425-a13d-bf718a6f4ba6"
   },
   "outputs": [
    {
     "name": "stderr",
     "output_type": "stream",
     "text": [
      "/usr/local/lib/python3.6/dist-packages/sklearn/preprocessing/data.py:334: DataConversionWarning: Data with input dtype int64, float64 were all converted to float64 by MinMaxScaler.\n",
      "  return self.partial_fit(X, y)\n"
     ]
    }
   ],
   "source": [
    "from sklearn.preprocessing import MinMaxScaler\n",
    "continuous = [\"edge_felix_video_timeline\", \"edge_follow\", \"edge_followed_by\", \"edge_owner_to_timeline_media\", \"highlight_reel_count\", \"time_between\", \"hour_of_day\", \"hr_sin\", \"hr_cos\", \"mean_likes\", \"mean_comments\"]\n",
    " \n",
    "# performin min-max scaling each continuous feature column to\n",
    "# the range [0, 1]\n",
    "cs = MinMaxScaler()\n",
    "Data_Continuous = cs.fit_transform(Regression_data[continuous])"
   ]
  },
  {
   "cell_type": "code",
   "execution_count": 0,
   "metadata": {
    "colab": {},
    "colab_type": "code",
    "id": "fr9758kFZfNq"
   },
   "outputs": [],
   "source": [
    "Data_Continuous_df = pd.DataFrame(Data_Continuous, columns=continuous)"
   ]
  },
  {
   "cell_type": "code",
   "execution_count": 0,
   "metadata": {
    "colab": {},
    "colab_type": "code",
    "id": "gCbj8blHaIOy"
   },
   "outputs": [],
   "source": [
    "Regression_data_continuous = Regression_data.drop(continuous,axis=1)"
   ]
  },
  {
   "cell_type": "code",
   "execution_count": 0,
   "metadata": {
    "colab": {},
    "colab_type": "code",
    "id": "WQdZvsh4agxJ"
   },
   "outputs": [],
   "source": [
    "Regression_data_continuous = pd.concat([Regression_data_continuous, Data_Continuous_df], axis = 1)"
   ]
  },
  {
   "cell_type": "code",
   "execution_count": 10,
   "metadata": {
    "colab": {
     "base_uri": "https://localhost:8080/",
     "height": 52
    },
    "colab_type": "code",
    "executionInfo": {
     "elapsed": 653,
     "status": "ok",
     "timestamp": 1557251605640,
     "user": {
      "displayName": "Guilherme Regos Zamorano",
      "photoUrl": "",
      "userId": "17407596423518156867"
     },
     "user_tz": 300
    },
    "id": "Vnbgz546MYzF",
    "outputId": "1290d776-bf84-4530-fd9a-889da3cd73e2"
   },
   "outputs": [
    {
     "name": "stdout",
     "output_type": "stream",
     "text": [
      "(20668, 76800)\n",
      "(20668, 128, 200, 3)\n"
     ]
    }
   ],
   "source": [
    "print(image_data.shape)\n",
    "image_data = image_data.reshape(20668, 128, 200, 3)\n",
    "print(image_data.shape)"
   ]
  },
  {
   "cell_type": "code",
   "execution_count": 9,
   "metadata": {
    "colab": {
     "base_uri": "https://localhost:8080/",
     "height": 145
    },
    "colab_type": "code",
    "executionInfo": {
     "elapsed": 1699,
     "status": "ok",
     "timestamp": 1557185636144,
     "user": {
      "displayName": "Guilherme Regos Zamorano",
      "photoUrl": "",
      "userId": "17407596423518156867"
     },
     "user_tz": 300
    },
    "id": "CBGkWRt8Maxt",
    "outputId": "0c7cd414-69ed-42e8-e131-706bb58ff02e"
   },
   "outputs": [
    {
     "data": {
      "image/png": "[encoded data removed]",
      "text/plain": [
       "<PIL.Image.Image image mode=RGB size=200x128 at 0x7F0E5F0746A0>"
      ]
     },
     "execution_count": 9,
     "metadata": {
      "tags": []
     },
     "output_type": "execute_result"
    }
   ],
   "source": [
    "from PIL import Image\n",
    "img = Image.fromarray(image_data[13])\n",
    "img"
   ]
  },
  {
   "cell_type": "code",
   "execution_count": 10,
   "metadata": {
    "colab": {
     "base_uri": "https://localhost:8080/",
     "height": 107
    },
    "colab_type": "code",
    "executionInfo": {
     "elapsed": 1969,
     "status": "ok",
     "timestamp": 1557185639368,
     "user": {
      "displayName": "Guilherme Regos Zamorano",
      "photoUrl": "",
      "userId": "17407596423518156867"
     },
     "user_tz": 300
    },
    "id": "GKh1tz20ZTDE",
    "outputId": "a2a02602-4918-43d7-d8da-daf9dbf14daa"
   },
   "outputs": [
    {
     "name": "stderr",
     "output_type": "stream",
     "text": [
      "Using TensorFlow backend.\n"
     ]
    },
    {
     "name": "stdout",
     "output_type": "stream",
     "text": [
      "WARNING:tensorflow:From /usr/local/lib/python3.6/dist-packages/tensorflow/python/framework/op_def_library.py:263: colocate_with (from tensorflow.python.framework.ops) is deprecated and will be removed in a future version.\n",
      "Instructions for updating:\n",
      "Colocations handled automatically by placer.\n"
     ]
    }
   ],
   "source": [
    "from keras.models import Sequential\n",
    "from keras.optimizers import Adam\n",
    "from keras.layers.normalization import BatchNormalization\n",
    "from keras.layers.convolutional import Conv2D\n",
    "from keras.layers.convolutional import MaxPooling2D\n",
    "from keras.layers.core import Activation\n",
    "from keras.layers.core import Dropout\n",
    "from keras.layers.core import Dense\n",
    "from keras.layers import Flatten\n",
    "from keras.layers import Input\n",
    "from keras.models import Model\n",
    " \n",
    "\n",
    "# define our MLP network\n",
    "model1 = Sequential()\n",
    "model1.add(Dense(64, input_dim=46, activation=\"relu\"))\n",
    "model1.add(Dense(32, activation=\"relu\"))\n",
    "model1.add(Dense(16, activation=\"relu\"))\n",
    "model1.add(Dense(8, activation=\"relu\"))\n",
    "model1.add(Dense(4, activation=\"relu\"))\n",
    "#model1.add(Dense(1, activation=\"linear\"))\n",
    "#opt = Adam(lr=1e-4, decay=1e-4 / 200)\n",
    "#model1.compile(loss=\"mean_squared_error\", optimizer=opt)"
   ]
  },
  {
   "cell_type": "code",
   "execution_count": 11,
   "metadata": {
    "colab": {
     "base_uri": "https://localhost:8080/",
     "height": 89
    },
    "colab_type": "code",
    "executionInfo": {
     "elapsed": 1446,
     "status": "ok",
     "timestamp": 1557185645141,
     "user": {
      "displayName": "Guilherme Regos Zamorano",
      "photoUrl": "",
      "userId": "17407596423518156867"
     },
     "user_tz": 300
    },
    "id": "PXyCqwD4ZULn",
    "outputId": "463285b5-2f6a-4bad-a661-9b2f13bd5f63"
   },
   "outputs": [
    {
     "name": "stdout",
     "output_type": "stream",
     "text": [
      "WARNING:tensorflow:From /usr/local/lib/python3.6/dist-packages/keras/backend/tensorflow_backend.py:3445: calling dropout (from tensorflow.python.ops.nn_ops) with keep_prob is deprecated and will be removed in a future version.\n",
      "Instructions for updating:\n",
      "Please use `rate` instead of `keep_prob`. Rate should be set to `rate = 1 - keep_prob`.\n"
     ]
    }
   ],
   "source": [
    "from keras import models, optimizers\n",
    "import keras.layers\n",
    "from keras.layers.convolutional import Conv2D\n",
    "from keras.layers.pooling import MaxPooling2D\n",
    "from keras.layers.core import Flatten\n",
    "from keras.layers.core import Dense\n",
    "from keras.layers.core import Dropout\n",
    "\n",
    "model = models.Sequential()\n",
    "model.add(Conv2D(16, kernel_size=(3, 3), input_shape=(128, 200, 3), activation='relu'))\n",
    "model.add(MaxPooling2D(pool_size=(2, 2)))\n",
    "model.add(Conv2D(32, kernel_size=(3, 3), activation='relu'))\n",
    "model.add(MaxPooling2D(pool_size=(2, 2)))\n",
    "model.add(Conv2D(64, kernel_size=(3, 3), activation='relu'))\n",
    "model.add(MaxPooling2D(pool_size=(2, 2)))\n",
    "model.add(Conv2D(128, kernel_size=(3, 3), activation='relu'))\n",
    "model.add(MaxPooling2D(pool_size=(2, 2)))\n",
    "model.add(Flatten())\n",
    "model.add(Dense(1250, activation='relu'))\n",
    "model.add(Dropout(.5))\n",
    "model.add(Dense(250, activation='relu'))\n",
    "model.add(Dropout(.25))\n",
    "model.add(Dense(25, activation='relu'))\n",
    "model.add(Dense(4, activation = 'relu'))\n",
    "#model.add(Dense(1, activation=\"linear\"))\n",
    "#model.compile(optimizer=optimizers.Adam(lr=1e-04, decay = 1e-04/200), loss='mean_squared_error')"
   ]
  },
  {
   "cell_type": "code",
   "execution_count": 0,
   "metadata": {
    "colab": {},
    "colab_type": "code",
    "id": "UvCENHw-MdbU"
   },
   "outputs": [],
   "source": [
    "from sklearn.model_selection import train_test_split\n",
    "split = train_test_split(Regression_data_continuous, image_data, test_size=0.25, random_state=42)\n",
    "(trainAttrX, testAttrX, trainImagesX, testImagesX) = split\n",
    "trainX = trainAttrX.drop('number_of_likes/mean', axis = 1).values\n",
    "testX = testAttrX.drop('number_of_likes/mean', axis = 1).values\n",
    "maxPrice = Regression_data_continuous[\"number_of_likes/mean\"].max()\n",
    "trainY = trainAttrX[\"number_of_likes/mean\"]/ maxPrice\n",
    "testY = testAttrX[\"number_of_likes/mean\"]/ maxPrice\n"
   ]
  },
  {
   "cell_type": "code",
   "execution_count": 0,
   "metadata": {
    "colab": {},
    "colab_type": "code",
    "id": "x1Mk1LkTMwnC"
   },
   "outputs": [],
   "source": [
    "from keras.layers import concatenate\n",
    "combinedInput = concatenate([model1.output, model.output])"
   ]
  },
  {
   "cell_type": "code",
   "execution_count": 0,
   "metadata": {
    "colab": {},
    "colab_type": "code",
    "id": "AbXsxpnpWUV3"
   },
   "outputs": [],
   "source": [
    "x = Dense(4, activation=\"relu\")(combinedInput)\n",
    "x = Dense(1, activation=\"linear\")(x)\n",
    " \n",
    "# our final model will accept categorical/numerical data on the MLP\n",
    "# input and images on the CNN input, outputting a single value (the\n",
    "# predicted price of the house)\n",
    "model2 = Model(inputs=[model1.input, model.input], outputs=x)\n",
    " \n",
    "# our final model will accept categorical/numerical data on the MLP\n",
    "# input and images on the CNN input, outputting a single value (the\n",
    "# predicted price of the house)\n",
    "opt = Adam(lr=1e-4, decay=1e-4 / 200)\n",
    "model2.compile(loss=\"mean_squared_error\", optimizer=opt)\n",
    "\n",
    " \n"
   ]
  },
  {
   "cell_type": "code",
   "execution_count": 19,
   "metadata": {
    "colab": {
     "base_uri": "https://localhost:8080/",
     "height": 1941
    },
    "colab_type": "code",
    "executionInfo": {
     "elapsed": 1641581,
     "status": "error",
     "timestamp": 1557187395170,
     "user": {
      "displayName": "Guilherme Regos Zamorano",
      "photoUrl": "",
      "userId": "17407596423518156867"
     },
     "user_tz": 300
    },
    "id": "Rv4znkHydYp4",
    "outputId": "9bbf682e-88c8-44bd-8678-f020a2f1b0bb"
   },
   "outputs": [
    {
     "name": "stdout",
     "output_type": "stream",
     "text": [
      "Train on 15501 samples, validate on 5167 samples\n",
      "Epoch 1/100\n",
      "15501/15501 [==============================] - 38s 2ms/step - loss: 0.0108 - val_loss: 0.0072\n",
      "Epoch 2/100\n",
      "15501/15501 [==============================] - 37s 2ms/step - loss: 0.0075 - val_loss: 0.0071\n",
      "Epoch 3/100\n",
      "15501/15501 [==============================] - 37s 2ms/step - loss: 0.0068 - val_loss: 0.0071\n",
      "Epoch 4/100\n",
      "15501/15501 [==============================] - 36s 2ms/step - loss: 0.0067 - val_loss: 0.0071\n",
      "Epoch 5/100\n",
      "15501/15501 [==============================] - 36s 2ms/step - loss: 0.0067 - val_loss: 0.0072\n",
      "Epoch 6/100\n",
      "15501/15501 [==============================] - 36s 2ms/step - loss: 0.0067 - val_loss: 0.0071\n",
      "Epoch 7/100\n",
      "15501/15501 [==============================] - 37s 2ms/step - loss: 0.0067 - val_loss: 0.0072\n",
      "Epoch 8/100\n",
      "15501/15501 [==============================] - 36s 2ms/step - loss: 0.0067 - val_loss: 0.0071\n",
      "Epoch 9/100\n",
      "15501/15501 [==============================] - 36s 2ms/step - loss: 0.0067 - val_loss: 0.0072\n",
      "Epoch 10/100\n",
      "15501/15501 [==============================] - 36s 2ms/step - loss: 0.0067 - val_loss: 0.0071\n",
      "Epoch 11/100\n",
      "15501/15501 [==============================] - 37s 2ms/step - loss: 0.0066 - val_loss: 0.0072\n",
      "Epoch 12/100\n",
      "15501/15501 [==============================] - 36s 2ms/step - loss: 0.0066 - val_loss: 0.0071\n",
      "Epoch 13/100\n",
      "15501/15501 [==============================] - 36s 2ms/step - loss: 0.0066 - val_loss: 0.0071\n",
      "Epoch 14/100\n",
      "15501/15501 [==============================] - 36s 2ms/step - loss: 0.0066 - val_loss: 0.0072\n",
      "Epoch 15/100\n",
      "15501/15501 [==============================] - 36s 2ms/step - loss: 0.0088 - val_loss: 0.0071\n",
      "Epoch 16/100\n",
      "15501/15501 [==============================] - 36s 2ms/step - loss: 0.0066 - val_loss: 0.0071\n",
      "Epoch 17/100\n",
      "15501/15501 [==============================] - 36s 2ms/step - loss: 0.0066 - val_loss: 0.0072\n",
      "Epoch 18/100\n",
      "15501/15501 [==============================] - 36s 2ms/step - loss: 0.0066 - val_loss: 0.0072\n",
      "Epoch 19/100\n",
      "15501/15501 [==============================] - 37s 2ms/step - loss: 0.0066 - val_loss: 0.0072\n",
      "Epoch 20/100\n",
      "15501/15501 [==============================] - 37s 2ms/step - loss: 0.0065 - val_loss: 0.0072\n",
      "Epoch 21/100\n",
      "15501/15501 [==============================] - 37s 2ms/step - loss: 0.0065 - val_loss: 0.0072\n",
      "Epoch 22/100\n",
      "15501/15501 [==============================] - 36s 2ms/step - loss: 0.0065 - val_loss: 0.0073\n",
      "Epoch 23/100\n",
      "15501/15501 [==============================] - 37s 2ms/step - loss: 0.0065 - val_loss: 0.0072\n",
      "Epoch 24/100\n",
      "15501/15501 [==============================] - 36s 2ms/step - loss: 0.0065 - val_loss: 0.0072\n",
      "Epoch 25/100\n",
      "15501/15501 [==============================] - 37s 2ms/step - loss: 0.0065 - val_loss: 0.0072\n",
      "Epoch 26/100\n",
      "15501/15501 [==============================] - 36s 2ms/step - loss: 0.0065 - val_loss: 0.0072\n",
      "Epoch 27/100\n",
      "15501/15501 [==============================] - 36s 2ms/step - loss: 0.0065 - val_loss: 0.0072\n",
      "Epoch 28/100\n",
      "15501/15501 [==============================] - 37s 2ms/step - loss: 0.0065 - val_loss: 0.0072\n",
      "Epoch 29/100\n",
      "15501/15501 [==============================] - 36s 2ms/step - loss: 0.0065 - val_loss: 0.0072\n",
      "Epoch 30/100\n",
      "15501/15501 [==============================] - 36s 2ms/step - loss: 0.0065 - val_loss: 0.0073\n",
      "Epoch 31/100\n",
      "15501/15501 [==============================] - 36s 2ms/step - loss: 0.0065 - val_loss: 0.0072\n",
      "Epoch 32/100\n",
      "15501/15501 [==============================] - 36s 2ms/step - loss: 0.0064 - val_loss: 0.0072\n",
      "Epoch 33/100\n",
      "15501/15501 [==============================] - 36s 2ms/step - loss: 0.0064 - val_loss: 0.0072\n",
      "Epoch 34/100\n",
      "15501/15501 [==============================] - 37s 2ms/step - loss: 0.0064 - val_loss: 0.0073\n",
      "Epoch 35/100\n",
      "15501/15501 [==============================] - 36s 2ms/step - loss: 0.0064 - val_loss: 0.0073\n",
      "Epoch 36/100\n",
      "15501/15501 [==============================] - 37s 2ms/step - loss: 0.0064 - val_loss: 0.0073\n",
      "Epoch 37/100\n",
      "15501/15501 [==============================] - 36s 2ms/step - loss: 0.0064 - val_loss: 0.0073\n",
      "Epoch 38/100\n",
      "15501/15501 [==============================] - 36s 2ms/step - loss: 0.0064 - val_loss: 0.0073\n",
      "Epoch 39/100\n",
      "15501/15501 [==============================] - 36s 2ms/step - loss: 0.0064 - val_loss: 0.0073\n",
      "Epoch 40/100\n",
      "15501/15501 [==============================] - 36s 2ms/step - loss: 0.0064 - val_loss: 0.0073\n",
      "Epoch 41/100\n",
      "15501/15501 [==============================] - 36s 2ms/step - loss: 0.0064 - val_loss: 0.0073\n",
      "Epoch 42/100\n",
      "15501/15501 [==============================] - 36s 2ms/step - loss: 0.0064 - val_loss: 0.0073\n",
      "Epoch 43/100\n",
      "15501/15501 [==============================] - 37s 2ms/step - loss: 0.0064 - val_loss: 0.0073\n",
      "Epoch 44/100\n",
      "15501/15501 [==============================] - 36s 2ms/step - loss: 0.0063 - val_loss: 0.0073\n",
      "Epoch 45/100\n",
      "15501/15501 [==============================] - 37s 2ms/step - loss: 0.0063 - val_loss: 0.0073\n",
      "Epoch 46/100\n",
      "  848/15501 [>.............................] - ETA: 31s - loss: 0.0063"
     ]
    },
    {
     "ename": "KeyboardInterrupt",
     "evalue": "ignored",
     "output_type": "error",
     "traceback": [
      "\u001b[0;31m---------------------------------------------------------------------------\u001b[0m",
      "\u001b[0;31mKeyboardInterrupt\u001b[0m                         Traceback (most recent call last)",
      "\u001b[0;32m<ipython-input-19-17f8d1f0761f>\u001b[0m in \u001b[0;36m<module>\u001b[0;34m()\u001b[0m\n\u001b[1;32m      1\u001b[0m model2.fit([trainX, trainImagesX], trainY,validation_data=([testX, testImagesX], testY),\n\u001b[0;32m----> 2\u001b[0;31m \tepochs=100, batch_size=8)\n\u001b[0m",
      "\u001b[0;32m/usr/local/lib/python3.6/dist-packages/keras/engine/training.py\u001b[0m in \u001b[0;36mfit\u001b[0;34m(self, x, y, batch_size, epochs, verbose, callbacks, validation_split, validation_data, shuffle, class_weight, sample_weight, initial_epoch, steps_per_epoch, validation_steps, **kwargs)\u001b[0m\n\u001b[1;32m   1037\u001b[0m                                         \u001b[0minitial_epoch\u001b[0m\u001b[0;34m=\u001b[0m\u001b[0minitial_epoch\u001b[0m\u001b[0;34m,\u001b[0m\u001b[0;34m\u001b[0m\u001b[0;34m\u001b[0m\u001b[0m\n\u001b[1;32m   1038\u001b[0m                                         \u001b[0msteps_per_epoch\u001b[0m\u001b[0;34m=\u001b[0m\u001b[0msteps_per_epoch\u001b[0m\u001b[0;34m,\u001b[0m\u001b[0;34m\u001b[0m\u001b[0;34m\u001b[0m\u001b[0m\n\u001b[0;32m-> 1039\u001b[0;31m                                         validation_steps=validation_steps)\n\u001b[0m\u001b[1;32m   1040\u001b[0m \u001b[0;34m\u001b[0m\u001b[0m\n\u001b[1;32m   1041\u001b[0m     def evaluate(self, x=None, y=None,\n",
      "\u001b[0;32m/usr/local/lib/python3.6/dist-packages/keras/engine/training_arrays.py\u001b[0m in \u001b[0;36mfit_loop\u001b[0;34m(model, f, ins, out_labels, batch_size, epochs, verbose, callbacks, val_f, val_ins, shuffle, callback_metrics, initial_epoch, steps_per_epoch, validation_steps)\u001b[0m\n\u001b[1;32m    202\u001b[0m                     \u001b[0mbatch_logs\u001b[0m\u001b[0;34m[\u001b[0m\u001b[0ml\u001b[0m\u001b[0;34m]\u001b[0m \u001b[0;34m=\u001b[0m \u001b[0mo\u001b[0m\u001b[0;34m\u001b[0m\u001b[0;34m\u001b[0m\u001b[0m\n\u001b[1;32m    203\u001b[0m \u001b[0;34m\u001b[0m\u001b[0m\n\u001b[0;32m--> 204\u001b[0;31m                 \u001b[0mcallbacks\u001b[0m\u001b[0;34m.\u001b[0m\u001b[0mon_batch_end\u001b[0m\u001b[0;34m(\u001b[0m\u001b[0mbatch_index\u001b[0m\u001b[0;34m,\u001b[0m \u001b[0mbatch_logs\u001b[0m\u001b[0;34m)\u001b[0m\u001b[0;34m\u001b[0m\u001b[0;34m\u001b[0m\u001b[0m\n\u001b[0m\u001b[1;32m    205\u001b[0m                 \u001b[0;32mif\u001b[0m \u001b[0mcallback_model\u001b[0m\u001b[0;34m.\u001b[0m\u001b[0mstop_training\u001b[0m\u001b[0;34m:\u001b[0m\u001b[0;34m\u001b[0m\u001b[0;34m\u001b[0m\u001b[0m\n\u001b[1;32m    206\u001b[0m                     \u001b[0;32mbreak\u001b[0m\u001b[0;34m\u001b[0m\u001b[0;34m\u001b[0m\u001b[0m\n",
      "\u001b[0;32m/usr/local/lib/python3.6/dist-packages/keras/callbacks.py\u001b[0m in \u001b[0;36mon_batch_end\u001b[0;34m(self, batch, logs)\u001b[0m\n\u001b[1;32m    113\u001b[0m         \u001b[0mt_before_callbacks\u001b[0m \u001b[0;34m=\u001b[0m \u001b[0mtime\u001b[0m\u001b[0;34m.\u001b[0m\u001b[0mtime\u001b[0m\u001b[0;34m(\u001b[0m\u001b[0;34m)\u001b[0m\u001b[0;34m\u001b[0m\u001b[0;34m\u001b[0m\u001b[0m\n\u001b[1;32m    114\u001b[0m         \u001b[0;32mfor\u001b[0m \u001b[0mcallback\u001b[0m \u001b[0;32min\u001b[0m \u001b[0mself\u001b[0m\u001b[0;34m.\u001b[0m\u001b[0mcallbacks\u001b[0m\u001b[0;34m:\u001b[0m\u001b[0;34m\u001b[0m\u001b[0;34m\u001b[0m\u001b[0m\n\u001b[0;32m--> 115\u001b[0;31m             \u001b[0mcallback\u001b[0m\u001b[0;34m.\u001b[0m\u001b[0mon_batch_end\u001b[0m\u001b[0;34m(\u001b[0m\u001b[0mbatch\u001b[0m\u001b[0;34m,\u001b[0m \u001b[0mlogs\u001b[0m\u001b[0;34m)\u001b[0m\u001b[0;34m\u001b[0m\u001b[0;34m\u001b[0m\u001b[0m\n\u001b[0m\u001b[1;32m    116\u001b[0m         \u001b[0mself\u001b[0m\u001b[0;34m.\u001b[0m\u001b[0m_delta_ts_batch_end\u001b[0m\u001b[0;34m.\u001b[0m\u001b[0mappend\u001b[0m\u001b[0;34m(\u001b[0m\u001b[0mtime\u001b[0m\u001b[0;34m.\u001b[0m\u001b[0mtime\u001b[0m\u001b[0;34m(\u001b[0m\u001b[0;34m)\u001b[0m \u001b[0;34m-\u001b[0m \u001b[0mt_before_callbacks\u001b[0m\u001b[0;34m)\u001b[0m\u001b[0;34m\u001b[0m\u001b[0;34m\u001b[0m\u001b[0m\n\u001b[1;32m    117\u001b[0m         \u001b[0mdelta_t_median\u001b[0m \u001b[0;34m=\u001b[0m \u001b[0mnp\u001b[0m\u001b[0;34m.\u001b[0m\u001b[0mmedian\u001b[0m\u001b[0;34m(\u001b[0m\u001b[0mself\u001b[0m\u001b[0;34m.\u001b[0m\u001b[0m_delta_ts_batch_end\u001b[0m\u001b[0;34m)\u001b[0m\u001b[0;34m\u001b[0m\u001b[0;34m\u001b[0m\u001b[0m\n",
      "\u001b[0;32m/usr/local/lib/python3.6/dist-packages/keras/callbacks.py\u001b[0m in \u001b[0;36mon_batch_end\u001b[0;34m(self, batch, logs)\u001b[0m\n\u001b[1;32m    328\u001b[0m         \u001b[0;31m# will be handled by on_epoch_end.\u001b[0m\u001b[0;34m\u001b[0m\u001b[0;34m\u001b[0m\u001b[0;34m\u001b[0m\u001b[0m\n\u001b[1;32m    329\u001b[0m         \u001b[0;32mif\u001b[0m \u001b[0mself\u001b[0m\u001b[0;34m.\u001b[0m\u001b[0mverbose\u001b[0m \u001b[0;32mand\u001b[0m \u001b[0mself\u001b[0m\u001b[0;34m.\u001b[0m\u001b[0mseen\u001b[0m \u001b[0;34m<\u001b[0m \u001b[0mself\u001b[0m\u001b[0;34m.\u001b[0m\u001b[0mtarget\u001b[0m\u001b[0;34m:\u001b[0m\u001b[0;34m\u001b[0m\u001b[0;34m\u001b[0m\u001b[0m\n\u001b[0;32m--> 330\u001b[0;31m             \u001b[0mself\u001b[0m\u001b[0;34m.\u001b[0m\u001b[0mprogbar\u001b[0m\u001b[0;34m.\u001b[0m\u001b[0mupdate\u001b[0m\u001b[0;34m(\u001b[0m\u001b[0mself\u001b[0m\u001b[0;34m.\u001b[0m\u001b[0mseen\u001b[0m\u001b[0;34m,\u001b[0m \u001b[0mself\u001b[0m\u001b[0;34m.\u001b[0m\u001b[0mlog_values\u001b[0m\u001b[0;34m)\u001b[0m\u001b[0;34m\u001b[0m\u001b[0;34m\u001b[0m\u001b[0m\n\u001b[0m\u001b[1;32m    331\u001b[0m \u001b[0;34m\u001b[0m\u001b[0m\n\u001b[1;32m    332\u001b[0m     \u001b[0;32mdef\u001b[0m \u001b[0mon_epoch_end\u001b[0m\u001b[0;34m(\u001b[0m\u001b[0mself\u001b[0m\u001b[0;34m,\u001b[0m \u001b[0mepoch\u001b[0m\u001b[0;34m,\u001b[0m \u001b[0mlogs\u001b[0m\u001b[0;34m=\u001b[0m\u001b[0;32mNone\u001b[0m\u001b[0;34m)\u001b[0m\u001b[0;34m:\u001b[0m\u001b[0;34m\u001b[0m\u001b[0;34m\u001b[0m\u001b[0m\n",
      "\u001b[0;32m/usr/local/lib/python3.6/dist-packages/keras/utils/generic_utils.py\u001b[0m in \u001b[0;36mupdate\u001b[0;34m(self, current, values)\u001b[0m\n\u001b[1;32m    422\u001b[0m \u001b[0;34m\u001b[0m\u001b[0m\n\u001b[1;32m    423\u001b[0m             \u001b[0msys\u001b[0m\u001b[0;34m.\u001b[0m\u001b[0mstdout\u001b[0m\u001b[0;34m.\u001b[0m\u001b[0mwrite\u001b[0m\u001b[0;34m(\u001b[0m\u001b[0minfo\u001b[0m\u001b[0;34m)\u001b[0m\u001b[0;34m\u001b[0m\u001b[0;34m\u001b[0m\u001b[0m\n\u001b[0;32m--> 424\u001b[0;31m             \u001b[0msys\u001b[0m\u001b[0;34m.\u001b[0m\u001b[0mstdout\u001b[0m\u001b[0;34m.\u001b[0m\u001b[0mflush\u001b[0m\u001b[0;34m(\u001b[0m\u001b[0;34m)\u001b[0m\u001b[0;34m\u001b[0m\u001b[0;34m\u001b[0m\u001b[0m\n\u001b[0m\u001b[1;32m    425\u001b[0m \u001b[0;34m\u001b[0m\u001b[0m\n\u001b[1;32m    426\u001b[0m         \u001b[0;32melif\u001b[0m \u001b[0mself\u001b[0m\u001b[0;34m.\u001b[0m\u001b[0mverbose\u001b[0m \u001b[0;34m==\u001b[0m \u001b[0;36m2\u001b[0m\u001b[0;34m:\u001b[0m\u001b[0;34m\u001b[0m\u001b[0;34m\u001b[0m\u001b[0m\n",
      "\u001b[0;32m/usr/local/lib/python3.6/dist-packages/ipykernel/iostream.py\u001b[0m in \u001b[0;36mflush\u001b[0;34m(self)\u001b[0m\n\u001b[1;32m    319\u001b[0m             \u001b[0mevt\u001b[0m \u001b[0;34m=\u001b[0m \u001b[0mthreading\u001b[0m\u001b[0;34m.\u001b[0m\u001b[0mEvent\u001b[0m\u001b[0;34m(\u001b[0m\u001b[0;34m)\u001b[0m\u001b[0;34m\u001b[0m\u001b[0;34m\u001b[0m\u001b[0m\n\u001b[1;32m    320\u001b[0m             \u001b[0mself\u001b[0m\u001b[0;34m.\u001b[0m\u001b[0mpub_thread\u001b[0m\u001b[0;34m.\u001b[0m\u001b[0mschedule\u001b[0m\u001b[0;34m(\u001b[0m\u001b[0mevt\u001b[0m\u001b[0;34m.\u001b[0m\u001b[0mset\u001b[0m\u001b[0;34m)\u001b[0m\u001b[0;34m\u001b[0m\u001b[0;34m\u001b[0m\u001b[0m\n\u001b[0;32m--> 321\u001b[0;31m             \u001b[0mevt\u001b[0m\u001b[0;34m.\u001b[0m\u001b[0mwait\u001b[0m\u001b[0;34m(\u001b[0m\u001b[0;34m)\u001b[0m\u001b[0;34m\u001b[0m\u001b[0;34m\u001b[0m\u001b[0m\n\u001b[0m\u001b[1;32m    322\u001b[0m         \u001b[0;32melse\u001b[0m\u001b[0;34m:\u001b[0m\u001b[0;34m\u001b[0m\u001b[0;34m\u001b[0m\u001b[0m\n\u001b[1;32m    323\u001b[0m             \u001b[0mself\u001b[0m\u001b[0;34m.\u001b[0m\u001b[0m_flush\u001b[0m\u001b[0;34m(\u001b[0m\u001b[0;34m)\u001b[0m\u001b[0;34m\u001b[0m\u001b[0;34m\u001b[0m\u001b[0m\n",
      "\u001b[0;32m/usr/lib/python3.6/threading.py\u001b[0m in \u001b[0;36mwait\u001b[0;34m(self, timeout)\u001b[0m\n\u001b[1;32m    549\u001b[0m             \u001b[0msignaled\u001b[0m \u001b[0;34m=\u001b[0m \u001b[0mself\u001b[0m\u001b[0;34m.\u001b[0m\u001b[0m_flag\u001b[0m\u001b[0;34m\u001b[0m\u001b[0;34m\u001b[0m\u001b[0m\n\u001b[1;32m    550\u001b[0m             \u001b[0;32mif\u001b[0m \u001b[0;32mnot\u001b[0m \u001b[0msignaled\u001b[0m\u001b[0;34m:\u001b[0m\u001b[0;34m\u001b[0m\u001b[0;34m\u001b[0m\u001b[0m\n\u001b[0;32m--> 551\u001b[0;31m                 \u001b[0msignaled\u001b[0m \u001b[0;34m=\u001b[0m \u001b[0mself\u001b[0m\u001b[0;34m.\u001b[0m\u001b[0m_cond\u001b[0m\u001b[0;34m.\u001b[0m\u001b[0mwait\u001b[0m\u001b[0;34m(\u001b[0m\u001b[0mtimeout\u001b[0m\u001b[0;34m)\u001b[0m\u001b[0;34m\u001b[0m\u001b[0;34m\u001b[0m\u001b[0m\n\u001b[0m\u001b[1;32m    552\u001b[0m             \u001b[0;32mreturn\u001b[0m \u001b[0msignaled\u001b[0m\u001b[0;34m\u001b[0m\u001b[0;34m\u001b[0m\u001b[0m\n\u001b[1;32m    553\u001b[0m \u001b[0;34m\u001b[0m\u001b[0m\n",
      "\u001b[0;32m/usr/lib/python3.6/threading.py\u001b[0m in \u001b[0;36mwait\u001b[0;34m(self, timeout)\u001b[0m\n\u001b[1;32m    293\u001b[0m         \u001b[0;32mtry\u001b[0m\u001b[0;34m:\u001b[0m    \u001b[0;31m# restore state no matter what (e.g., KeyboardInterrupt)\u001b[0m\u001b[0;34m\u001b[0m\u001b[0;34m\u001b[0m\u001b[0m\n\u001b[1;32m    294\u001b[0m             \u001b[0;32mif\u001b[0m \u001b[0mtimeout\u001b[0m \u001b[0;32mis\u001b[0m \u001b[0;32mNone\u001b[0m\u001b[0;34m:\u001b[0m\u001b[0;34m\u001b[0m\u001b[0;34m\u001b[0m\u001b[0m\n\u001b[0;32m--> 295\u001b[0;31m                 \u001b[0mwaiter\u001b[0m\u001b[0;34m.\u001b[0m\u001b[0macquire\u001b[0m\u001b[0;34m(\u001b[0m\u001b[0;34m)\u001b[0m\u001b[0;34m\u001b[0m\u001b[0;34m\u001b[0m\u001b[0m\n\u001b[0m\u001b[1;32m    296\u001b[0m                 \u001b[0mgotit\u001b[0m \u001b[0;34m=\u001b[0m \u001b[0;32mTrue\u001b[0m\u001b[0;34m\u001b[0m\u001b[0;34m\u001b[0m\u001b[0m\n\u001b[1;32m    297\u001b[0m             \u001b[0;32melse\u001b[0m\u001b[0;34m:\u001b[0m\u001b[0;34m\u001b[0m\u001b[0;34m\u001b[0m\u001b[0m\n",
      "\u001b[0;31mKeyboardInterrupt\u001b[0m: "
     ]
    }
   ],
   "source": [
    "model2.fit([trainX, trainImagesX], trainY,validation_data=([testX, testImagesX], testY),\n",
    "\tepochs=100, batch_size=8)"
   ]
  },
  {
   "cell_type": "code",
   "execution_count": 20,
   "metadata": {
    "colab": {
     "base_uri": "https://localhost:8080/",
     "height": 52
    },
    "colab_type": "code",
    "executionInfo": {
     "elapsed": 2289,
     "status": "ok",
     "timestamp": 1557187405693,
     "user": {
      "displayName": "Guilherme Regos Zamorano",
      "photoUrl": "",
      "userId": "17407596423518156867"
     },
     "user_tz": 300
    },
    "id": "ASdtQ5ab36IL",
    "outputId": "6cbd51ab-c13d-4a68-8e2c-982fa436e831"
   },
   "outputs": [
    {
     "name": "stdout",
     "output_type": "stream",
     "text": [
      "(array([ 611,  626, 1418, 2078, 3107]),)\n",
      "0.008646305557331068\n"
     ]
    }
   ],
   "source": [
    "preds = model2.predict([testX, testImagesX])\n",
    "diff = preds.flatten() - testY\n",
    "Yitemindex = np.where(testY==0)\n",
    "print(Yitemindex)\n",
    "minVal = np.amin(testY[testY != np.amin(testY)])\n",
    "print(minVal)"
   ]
  },
  {
   "cell_type": "code",
   "execution_count": 0,
   "metadata": {
    "colab": {},
    "colab_type": "code",
    "id": "2zqwG3n49lsc"
   },
   "outputs": [],
   "source": [
    "np.put(testY, 611, minVal)\n",
    "np.put(testY, 626, minVal)\n",
    "np.put(testY, 1418, minVal)\n",
    "np.put(testY, 2078, minVal)\n",
    "np.put(testY, 3107, minVal)"
   ]
  },
  {
   "cell_type": "code",
   "execution_count": 22,
   "metadata": {
    "colab": {
     "base_uri": "https://localhost:8080/",
     "height": 104
    },
    "colab_type": "code",
    "executionInfo": {
     "elapsed": 754,
     "status": "ok",
     "timestamp": 1557187411888,
     "user": {
      "displayName": "Guilherme Regos Zamorano",
      "photoUrl": "",
      "userId": "17407596423518156867"
     },
     "user_tz": 300
    },
    "id": "MAVZE0ShPgA9",
    "outputId": "686f4054-19ec-4990-b670-b2bb45de912d"
   },
   "outputs": [
    {
     "name": "stdout",
     "output_type": "stream",
     "text": [
      "avg likes/mean:\n",
      "1.0000000000000009\n",
      "std likes/mean:\n",
      "0.5068692569675557\n",
      "mean absolute percentage difference: 52.46%, std absolute percentage difference.: 117.06%\n"
     ]
    }
   ],
   "source": [
    "percentDiff = (diff / testY) * 100\n",
    "\n",
    "absPercentDiff = np.abs(percentDiff)\n",
    "mean = np.mean(absPercentDiff)\n",
    "std = np.std(absPercentDiff)\n",
    "import locale\n",
    "locale.setlocale(locale.LC_ALL, \"en_US.UTF-8\")\n",
    "print(\"avg likes/mean:\")\n",
    "print(Regression_data_continuous[\"number_of_likes/mean\"].mean())\n",
    "print(\"std likes/mean:\")\n",
    "print(Regression_data_continuous[\"number_of_likes/mean\"].std())\n",
    "print(\"mean absolute percentage difference: {:.2f}%, std absolute percentage difference.: {:.2f}%\".format(mean, std))"
   ]
  },
  {
   "cell_type": "code",
   "execution_count": 0,
   "metadata": {
    "colab": {},
    "colab_type": "code",
    "id": "RR1QkMHxQTof"
   },
   "outputs": [],
   "source": [
    "maxPrice = Regression_data_continuous[\"number_of_likes/mean\"].max()\n",
    "yVal = Regression_data_continuous[\"number_of_likes/mean\"]/ maxPrice"
   ]
  },
  {
   "cell_type": "code",
   "execution_count": 0,
   "metadata": {
    "colab": {},
    "colab_type": "code",
    "id": "ZNBp5R9aeNff"
   },
   "outputs": [],
   "source": [
    "Regression_full = Regression_data_continuous.drop('number_of_likes/mean', axis = 1).values"
   ]
  },
  {
   "cell_type": "code",
   "execution_count": 25,
   "metadata": {
    "colab": {
     "base_uri": "https://localhost:8080/",
     "height": 52
    },
    "colab_type": "code",
    "executionInfo": {
     "elapsed": 7647,
     "status": "ok",
     "timestamp": 1557187436335,
     "user": {
      "displayName": "Guilherme Regos Zamorano",
      "photoUrl": "",
      "userId": "17407596423518156867"
     },
     "user_tz": 300
    },
    "id": "QiWZnb50Pvn9",
    "outputId": "b99702e9-2faf-487c-899d-5bd20a02fce9"
   },
   "outputs": [
    {
     "name": "stdout",
     "output_type": "stream",
     "text": [
      "(array([ 1200,  1201,  1202,  1203,  8673,  8678, 18779]),)\n",
      "0.0012154466092707831\n"
     ]
    }
   ],
   "source": [
    "preds_full = model2.predict([Regression_full, image_data])\n",
    "diff1 = preds_full.flatten() - yVal\n",
    "Yitemindex = np.where(yVal==0)\n",
    "print(Yitemindex)\n",
    "minVal = np.amin(yVal[yVal != np.amin(yVal)])\n",
    "print(minVal)"
   ]
  },
  {
   "cell_type": "code",
   "execution_count": 27,
   "metadata": {
    "colab": {
     "base_uri": "https://localhost:8080/",
     "height": 104
    },
    "colab_type": "code",
    "executionInfo": {
     "elapsed": 829,
     "status": "ok",
     "timestamp": 1557187459247,
     "user": {
      "displayName": "Guilherme Regos Zamorano",
      "photoUrl": "",
      "userId": "17407596423518156867"
     },
     "user_tz": 300
    },
    "id": "7w4L-sfGQfey",
    "outputId": "3d552b83-cd4b-4e74-88d5-89d8fae5697d"
   },
   "outputs": [
    {
     "name": "stdout",
     "output_type": "stream",
     "text": [
      "avg likes/mean:\n",
      "1.0000000000000009\n",
      "std likes/mean:\n",
      "0.5068692569675557\n",
      "mean absolute percentage difference: 55.62%, std absolute percentage difference.: 296.53%\n"
     ]
    }
   ],
   "source": [
    "np.put(yVal, 1200, minVal)\n",
    "np.put(yVal, 1201, minVal)\n",
    "np.put(yVal, 1202, minVal)\n",
    "np.put(yVal, 1203, minVal)\n",
    "np.put(yVal, 8673, minVal)\n",
    "np.put(yVal, 8678, minVal)\n",
    "np.put(yVal, 18779, minVal)\n",
    "\n",
    "percentDiff1 = (diff1 / yVal) * 100\n",
    "\n",
    "absPercentDiff1 = np.abs(percentDiff1)\n",
    "mean1 = np.mean(absPercentDiff1)\n",
    "std1 = np.std(absPercentDiff1)\n",
    " \n",
    "import locale\n",
    "locale.setlocale(locale.LC_ALL, \"en_US.UTF-8\")\n",
    "print(\"avg likes/mean:\")\n",
    "print(Regression_data_continuous[\"number_of_likes/mean\"].mean())\n",
    "print(\"std likes/mean:\")\n",
    "print(Regression_data_continuous[\"number_of_likes/mean\"].std())\n",
    "print(\"mean absolute percentage difference: {:.2f}%, std absolute percentage difference.: {:.2f}%\".format(mean1, std1))"
   ]
  },
  {
   "cell_type": "code",
   "execution_count": 28,
   "metadata": {
    "colab": {
     "base_uri": "https://localhost:8080/",
     "height": 52
    },
    "colab_type": "code",
    "executionInfo": {
     "elapsed": 529,
     "status": "ok",
     "timestamp": 1557187464041,
     "user": {
      "displayName": "Guilherme Regos Zamorano",
      "photoUrl": "",
      "userId": "17407596423518156867"
     },
     "user_tz": 300
    },
    "id": "Kom5u02NQ11I",
    "outputId": "06fd1b20-f43c-43fc-acf0-e2a8a1574eb3"
   },
   "outputs": [
    {
     "name": "stdout",
     "output_type": "stream",
     "text": [
      "0.08598979621767658\n",
      "0.08121022361661288\n"
     ]
    }
   ],
   "source": [
    "from sklearn import metrics\n",
    "print(np.sqrt(metrics.mean_squared_error(testY, preds)))\n",
    "print(np.sqrt(metrics.mean_squared_error(yVal, preds_full)))"
   ]
  },
  {
   "cell_type": "code",
   "execution_count": 29,
   "metadata": {
    "colab": {
     "base_uri": "https://localhost:8080/",
     "height": 52
    },
    "colab_type": "code",
    "executionInfo": {
     "elapsed": 556,
     "status": "ok",
     "timestamp": 1557187466662,
     "user": {
      "displayName": "Guilherme Regos Zamorano",
      "photoUrl": "",
      "userId": "17407596423518156867"
     },
     "user_tz": 300
    },
    "id": "8-46v0NbRDkK",
    "outputId": "cb2eb716-9074-493d-fbde-d145c86332b0"
   },
   "outputs": [
    {
     "name": "stdout",
     "output_type": "stream",
     "text": [
      "0.004947018581887286\n",
      "0.07968147453575858\n"
     ]
    }
   ],
   "source": [
    "print(metrics.r2_score(testY, preds))\n",
    "print(metrics.r2_score(yVal, preds_full))"
   ]
  },
  {
   "cell_type": "code",
   "execution_count": 0,
   "metadata": {
    "colab": {},
    "colab_type": "code",
    "id": "1TJX6-7vRNrS"
   },
   "outputs": [],
   "source": [
    "preds_full = preds_full.reshape((20668,))"
   ]
  },
  {
   "cell_type": "code",
   "execution_count": 0,
   "metadata": {
    "colab": {},
    "colab_type": "code",
    "id": "tPbT-Cw7ROMY"
   },
   "outputs": [],
   "source": [
    "Y1 = Regression_data_continuous[\"number_of_likes/mean\"]\n",
    "preds_full = preds_full * maxPrice"
   ]
  },
  {
   "cell_type": "code",
   "execution_count": 32,
   "metadata": {
    "colab": {
     "base_uri": "https://localhost:8080/",
     "height": 754
    },
    "colab_type": "code",
    "executionInfo": {
     "elapsed": 635,
     "status": "ok",
     "timestamp": 1557187479546,
     "user": {
      "displayName": "Guilherme Regos Zamorano",
      "photoUrl": "",
      "userId": "17407596423518156867"
     },
     "user_tz": 300
    },
    "id": "-n7w8puDRks6",
    "outputId": "2dac1e57-467a-47a3-a41b-784af1748a15"
   },
   "outputs": [
    {
     "data": {
      "text/html": [
       "<div>\n",
       "<style scoped>\n",
       "    .dataframe tbody tr th:only-of-type {\n",
       "        vertical-align: middle;\n",
       "    }\n",
       "\n",
       "    .dataframe tbody tr th {\n",
       "        vertical-align: top;\n",
       "    }\n",
       "\n",
       "    .dataframe thead th {\n",
       "        text-align: right;\n",
       "    }\n",
       "</style>\n",
       "<table border=\"1\" class=\"dataframe\">\n",
       "  <thead>\n",
       "    <tr style=\"text-align: right;\">\n",
       "      <th></th>\n",
       "      <th>Prediction</th>\n",
       "      <th>Actual</th>\n",
       "    </tr>\n",
       "  </thead>\n",
       "  <tbody>\n",
       "    <tr>\n",
       "      <th>0</th>\n",
       "      <td>0.976086</td>\n",
       "      <td>0.697678</td>\n",
       "    </tr>\n",
       "    <tr>\n",
       "      <th>1</th>\n",
       "      <td>0.953590</td>\n",
       "      <td>1.132276</td>\n",
       "    </tr>\n",
       "    <tr>\n",
       "      <th>2</th>\n",
       "      <td>0.980276</td>\n",
       "      <td>0.641902</td>\n",
       "    </tr>\n",
       "    <tr>\n",
       "      <th>3</th>\n",
       "      <td>1.071517</td>\n",
       "      <td>1.072790</td>\n",
       "    </tr>\n",
       "    <tr>\n",
       "      <th>4</th>\n",
       "      <td>0.964933</td>\n",
       "      <td>1.059753</td>\n",
       "    </tr>\n",
       "    <tr>\n",
       "      <th>5</th>\n",
       "      <td>1.002403</td>\n",
       "      <td>1.177626</td>\n",
       "    </tr>\n",
       "    <tr>\n",
       "      <th>6</th>\n",
       "      <td>0.996506</td>\n",
       "      <td>1.101678</td>\n",
       "    </tr>\n",
       "    <tr>\n",
       "      <th>7</th>\n",
       "      <td>0.965483</td>\n",
       "      <td>1.154272</td>\n",
       "    </tr>\n",
       "    <tr>\n",
       "      <th>8</th>\n",
       "      <td>1.017332</td>\n",
       "      <td>1.012914</td>\n",
       "    </tr>\n",
       "    <tr>\n",
       "      <th>9</th>\n",
       "      <td>1.047986</td>\n",
       "      <td>1.057489</td>\n",
       "    </tr>\n",
       "    <tr>\n",
       "      <th>10</th>\n",
       "      <td>1.000308</td>\n",
       "      <td>0.891623</td>\n",
       "    </tr>\n",
       "    <tr>\n",
       "      <th>11</th>\n",
       "      <td>0.594117</td>\n",
       "      <td>0.235546</td>\n",
       "    </tr>\n",
       "    <tr>\n",
       "      <th>12</th>\n",
       "      <td>1.011753</td>\n",
       "      <td>0.343076</td>\n",
       "    </tr>\n",
       "    <tr>\n",
       "      <th>13</th>\n",
       "      <td>0.988342</td>\n",
       "      <td>0.743466</td>\n",
       "    </tr>\n",
       "    <tr>\n",
       "      <th>14</th>\n",
       "      <td>1.021726</td>\n",
       "      <td>1.102865</td>\n",
       "    </tr>\n",
       "    <tr>\n",
       "      <th>15</th>\n",
       "      <td>0.988286</td>\n",
       "      <td>1.064485</td>\n",
       "    </tr>\n",
       "    <tr>\n",
       "      <th>16</th>\n",
       "      <td>0.619405</td>\n",
       "      <td>1.103734</td>\n",
       "    </tr>\n",
       "    <tr>\n",
       "      <th>17</th>\n",
       "      <td>1.043477</td>\n",
       "      <td>1.692622</td>\n",
       "    </tr>\n",
       "    <tr>\n",
       "      <th>18</th>\n",
       "      <td>0.973511</td>\n",
       "      <td>0.963547</td>\n",
       "    </tr>\n",
       "    <tr>\n",
       "      <th>19</th>\n",
       "      <td>0.950904</td>\n",
       "      <td>0.955169</td>\n",
       "    </tr>\n",
       "    <tr>\n",
       "      <th>20</th>\n",
       "      <td>1.124682</td>\n",
       "      <td>1.938329</td>\n",
       "    </tr>\n",
       "    <tr>\n",
       "      <th>21</th>\n",
       "      <td>0.726676</td>\n",
       "      <td>0.857162</td>\n",
       "    </tr>\n",
       "    <tr>\n",
       "      <th>22</th>\n",
       "      <td>0.771120</td>\n",
       "      <td>1.362264</td>\n",
       "    </tr>\n",
       "  </tbody>\n",
       "</table>\n",
       "</div>"
      ],
      "text/plain": [
       "    Prediction    Actual\n",
       "0     0.976086  0.697678\n",
       "1     0.953590  1.132276\n",
       "2     0.980276  0.641902\n",
       "3     1.071517  1.072790\n",
       "4     0.964933  1.059753\n",
       "5     1.002403  1.177626\n",
       "6     0.996506  1.101678\n",
       "7     0.965483  1.154272\n",
       "8     1.017332  1.012914\n",
       "9     1.047986  1.057489\n",
       "10    1.000308  0.891623\n",
       "11    0.594117  0.235546\n",
       "12    1.011753  0.343076\n",
       "13    0.988342  0.743466\n",
       "14    1.021726  1.102865\n",
       "15    0.988286  1.064485\n",
       "16    0.619405  1.103734\n",
       "17    1.043477  1.692622\n",
       "18    0.973511  0.963547\n",
       "19    0.950904  0.955169\n",
       "20    1.124682  1.938329\n",
       "21    0.726676  0.857162\n",
       "22    0.771120  1.362264"
      ]
     },
     "execution_count": 32,
     "metadata": {
      "tags": []
     },
     "output_type": "execute_result"
    }
   ],
   "source": [
    "compare = pd.DataFrame({'Prediction': preds_full, 'Actual' : Y1})\n",
    "compare.head(23)"
   ]
  },
  {
   "cell_type": "code",
   "execution_count": 0,
   "metadata": {
    "colab": {},
    "colab_type": "code",
    "id": "tGIEwpr6RoWD"
   },
   "outputs": [],
   "source": [
    "Small_difference = abs((Regression_data_continuous[\"number_of_likes/mean\"].values) - preds_full)  < 0.05\n",
    "med_difference = abs((Regression_data_continuous[\"number_of_likes/mean\"].values) - preds_full)  < 0.25\n",
    "Big_difference = abs((Regression_data_continuous[\"number_of_likes/mean\"].values) - preds_full)  > 0.5"
   ]
  },
  {
   "cell_type": "code",
   "execution_count": 34,
   "metadata": {
    "colab": {
     "base_uri": "https://localhost:8080/",
     "height": 35
    },
    "colab_type": "code",
    "executionInfo": {
     "elapsed": 582,
     "status": "ok",
     "timestamp": 1557187504900,
     "user": {
      "displayName": "Guilherme Regos Zamorano",
      "photoUrl": "",
      "userId": "17407596423518156867"
     },
     "user_tz": 300
    },
    "id": "ZVZFDasFRq4x",
    "outputId": "b412d6ff-42bb-45bc-b9d3-28ef7bf1577a"
   },
   "outputs": [
    {
     "data": {
      "text/plain": [
       "2232"
      ]
     },
     "execution_count": 34,
     "metadata": {
      "tags": []
     },
     "output_type": "execute_result"
    }
   ],
   "source": [
    "Regression_data_continuous[Small_difference].shape[0]"
   ]
  },
  {
   "cell_type": "code",
   "execution_count": 35,
   "metadata": {
    "colab": {
     "base_uri": "https://localhost:8080/",
     "height": 35
    },
    "colab_type": "code",
    "executionInfo": {
     "elapsed": 1214,
     "status": "ok",
     "timestamp": 1557187509447,
     "user": {
      "displayName": "Guilherme Regos Zamorano",
      "photoUrl": "",
      "userId": "17407596423518156867"
     },
     "user_tz": 300
    },
    "id": "HYKnuArrRuCS",
    "outputId": "f6898877-ff04-4ae3-9ce0-0d189ad9bbf9"
   },
   "outputs": [
    {
     "data": {
      "text/plain": [
       "10242"
      ]
     },
     "execution_count": 35,
     "metadata": {
      "tags": []
     },
     "output_type": "execute_result"
    }
   ],
   "source": [
    "Regression_data_continuous[med_difference].shape[0]"
   ]
  },
  {
   "cell_type": "code",
   "execution_count": 36,
   "metadata": {
    "colab": {
     "base_uri": "https://localhost:8080/",
     "height": 633
    },
    "colab_type": "code",
    "executionInfo": {
     "elapsed": 543,
     "status": "ok",
     "timestamp": 1557187512907,
     "user": {
      "displayName": "Guilherme Regos Zamorano",
      "photoUrl": "",
      "userId": "17407596423518156867"
     },
     "user_tz": 300
    },
    "id": "Fo5Ze4v8Rwjw",
    "outputId": "99921872-75dc-4b2f-8397-4256b2662f35"
   },
   "outputs": [
    {
     "name": "stderr",
     "output_type": "stream",
     "text": [
      "/usr/local/lib/python3.6/dist-packages/ipykernel_launcher.py:3: DeprecationWarning: \n",
      ".ix is deprecated. Please use\n",
      ".loc for label based indexing or\n",
      ".iloc for positional indexing\n",
      "\n",
      "See the documentation here:\n",
      "http://pandas.pydata.org/pandas-docs/stable/indexing.html#ix-indexer-is-deprecated\n",
      "  This is separate from the ipykernel package so we can avoid doing imports until\n",
      "/usr/local/lib/python3.6/dist-packages/ipykernel_launcher.py:4: DeprecationWarning: \n",
      ".ix is deprecated. Please use\n",
      ".loc for label based indexing or\n",
      ".iloc for positional indexing\n",
      "\n",
      "See the documentation here:\n",
      "http://pandas.pydata.org/pandas-docs/stable/indexing.html#ix-indexer-is-deprecated\n",
      "  after removing the cwd from sys.path.\n"
     ]
    },
    {
     "data": {
      "text/html": [
       "<div>\n",
       "<style scoped>\n",
       "    .dataframe tbody tr th:only-of-type {\n",
       "        vertical-align: middle;\n",
       "    }\n",
       "\n",
       "    .dataframe tbody tr th {\n",
       "        vertical-align: top;\n",
       "    }\n",
       "\n",
       "    .dataframe thead th {\n",
       "        text-align: right;\n",
       "    }\n",
       "</style>\n",
       "<table border=\"1\" class=\"dataframe\">\n",
       "  <thead>\n",
       "    <tr style=\"text-align: right;\">\n",
       "      <th></th>\n",
       "      <th>Prediction</th>\n",
       "      <th>Actual</th>\n",
       "    </tr>\n",
       "  </thead>\n",
       "  <tbody>\n",
       "    <tr>\n",
       "      <th>3</th>\n",
       "      <td>1.071517</td>\n",
       "      <td>1.072790</td>\n",
       "    </tr>\n",
       "    <tr>\n",
       "      <th>8</th>\n",
       "      <td>1.017332</td>\n",
       "      <td>1.012914</td>\n",
       "    </tr>\n",
       "    <tr>\n",
       "      <th>9</th>\n",
       "      <td>1.047986</td>\n",
       "      <td>1.057489</td>\n",
       "    </tr>\n",
       "    <tr>\n",
       "      <th>18</th>\n",
       "      <td>0.973511</td>\n",
       "      <td>0.963547</td>\n",
       "    </tr>\n",
       "    <tr>\n",
       "      <th>19</th>\n",
       "      <td>0.950904</td>\n",
       "      <td>0.955169</td>\n",
       "    </tr>\n",
       "    <tr>\n",
       "      <th>40</th>\n",
       "      <td>0.984849</td>\n",
       "      <td>0.958649</td>\n",
       "    </tr>\n",
       "    <tr>\n",
       "      <th>41</th>\n",
       "      <td>0.916406</td>\n",
       "      <td>0.936587</td>\n",
       "    </tr>\n",
       "    <tr>\n",
       "      <th>46</th>\n",
       "      <td>0.961216</td>\n",
       "      <td>0.979036</td>\n",
       "    </tr>\n",
       "    <tr>\n",
       "      <th>47</th>\n",
       "      <td>0.778364</td>\n",
       "      <td>0.749260</td>\n",
       "    </tr>\n",
       "    <tr>\n",
       "      <th>52</th>\n",
       "      <td>0.754215</td>\n",
       "      <td>0.722908</td>\n",
       "    </tr>\n",
       "  </tbody>\n",
       "</table>\n",
       "</div>"
      ],
      "text/plain": [
       "    Prediction    Actual\n",
       "3     1.071517  1.072790\n",
       "8     1.017332  1.012914\n",
       "9     1.047986  1.057489\n",
       "18    0.973511  0.963547\n",
       "19    0.950904  0.955169\n",
       "40    0.984849  0.958649\n",
       "41    0.916406  0.936587\n",
       "46    0.961216  0.979036\n",
       "47    0.778364  0.749260\n",
       "52    0.754215  0.722908"
      ]
     },
     "execution_count": 36,
     "metadata": {
      "tags": []
     },
     "output_type": "execute_result"
    }
   ],
   "source": [
    "idx_vals = Regression_data_continuous[Small_difference].index.values\n",
    "idx_big_vals = Regression_data_continuous[Big_difference].index.values\n",
    "compare1 = compare.ix[idx_vals]\n",
    "compare2 = compare.ix[idx_big_vals]\n",
    "compare1.head(10)"
   ]
  },
  {
   "cell_type": "code",
   "execution_count": 37,
   "metadata": {
    "colab": {
     "base_uri": "https://localhost:8080/",
     "height": 295
    },
    "colab_type": "code",
    "executionInfo": {
     "elapsed": 1673,
     "status": "ok",
     "timestamp": 1557187519964,
     "user": {
      "displayName": "Guilherme Regos Zamorano",
      "photoUrl": "",
      "userId": "17407596423518156867"
     },
     "user_tz": 300
    },
    "id": "PWcsC2oQR1bG",
    "outputId": "3d83e3ab-39f5-4dce-d6a0-6c9e3d7c29e4"
   },
   "outputs": [
    {
     "data": {
      "image/png": "[encoded data removed]",
      "text/plain": [
       "<Figure size 432x288 with 1 Axes>"
      ]
     },
     "metadata": {
      "tags": []
     },
     "output_type": "display_data"
    }
   ],
   "source": [
    "from  matplotlib import pyplot \n",
    "pyplot.scatter(Regression_data_continuous[\"number_of_likes/mean\"].values, preds_full)\n",
    "z = np.polyfit(Regression_data_continuous[\"number_of_likes/mean\"].values, preds_full, 1)\n",
    "p = np.poly1d(z)\n",
    "pyplot.plot(Regression_data_continuous[\"number_of_likes/mean\"].values,p(Regression_data_continuous[\"number_of_likes/mean\"].values),\"r--\")\n",
    "pyplot.title(\"Predicted Likes Over Mean vs True Likes Over Mean\")\n",
    "pyplot.xlabel(\"True Number of Likes Over Mean\")\n",
    "pyplot.ylabel(\"Predicted Number of Likes Over\")\n",
    "pyplot.show()"
   ]
  },
  {
   "cell_type": "code",
   "execution_count": 0,
   "metadata": {
    "colab": {},
    "colab_type": "code",
    "id": "pAkgf5fsSmYy"
   },
   "outputs": [],
   "source": [
    "model2.save(\"/content/gdrive/My Drive/full_model.h5\")"
   ]
  },
  {
   "cell_type": "code",
   "execution_count": 5,
   "metadata": {
    "colab": {
     "base_uri": "https://localhost:8080/",
     "height": 193
    },
    "colab_type": "code",
    "executionInfo": {
     "elapsed": 5771,
     "status": "ok",
     "timestamp": 1557259866539,
     "user": {
      "displayName": "Guilherme Regos Zamorano",
      "photoUrl": "",
      "userId": "17407596423518156867"
     },
     "user_tz": 300
    },
    "id": "c2DGQthAafF3",
    "outputId": "82c3d96c-c228-4450-b54a-70502f639d19"
   },
   "outputs": [
    {
     "name": "stdout",
     "output_type": "stream",
     "text": [
      "WARNING:tensorflow:From /usr/local/lib/python3.6/dist-packages/tensorflow/python/framework/op_def_library.py:263: colocate_with (from tensorflow.python.framework.ops) is deprecated and will be removed in a future version.\n",
      "Instructions for updating:\n",
      "Colocations handled automatically by placer.\n",
      "WARNING:tensorflow:From /usr/local/lib/python3.6/dist-packages/keras/backend/tensorflow_backend.py:3445: calling dropout (from tensorflow.python.ops.nn_ops) with keep_prob is deprecated and will be removed in a future version.\n",
      "Instructions for updating:\n",
      "Please use `rate` instead of `keep_prob`. Rate should be set to `rate = 1 - keep_prob`.\n",
      "WARNING:tensorflow:From /usr/local/lib/python3.6/dist-packages/tensorflow/python/ops/math_ops.py:3066: to_int32 (from tensorflow.python.ops.math_ops) is deprecated and will be removed in a future version.\n",
      "Instructions for updating:\n",
      "Use tf.cast instead.\n"
     ]
    }
   ],
   "source": [
    "from keras.models import load_model\n",
    "model3 = load_model('/content/gdrive/My Drive/full_model.h5')"
   ]
  },
  {
   "cell_type": "code",
   "execution_count": 0,
   "metadata": {
    "colab": {},
    "colab_type": "code",
    "id": "NOwJX-eabvL7"
   },
   "outputs": [],
   "source": [
    "preds_full1 = model3.predict([Regression_full, image_data])"
   ]
  },
  {
   "cell_type": "code",
   "execution_count": 0,
   "metadata": {
    "colab": {},
    "colab_type": "code",
    "id": "uOEHyYxcb0y4"
   },
   "outputs": [],
   "source": [
    "Y1 = Regression_data_continuous[\"number_of_likes/mean\"]\n",
    "preds_full1 = preds_full1 * maxPrice"
   ]
  },
  {
   "cell_type": "code",
   "execution_count": 17,
   "metadata": {
    "colab": {
     "base_uri": "https://localhost:8080/",
     "height": 754
    },
    "colab_type": "code",
    "executionInfo": {
     "elapsed": 553,
     "status": "ok",
     "timestamp": 1557251760634,
     "user": {
      "displayName": "Guilherme Regos Zamorano",
      "photoUrl": "",
      "userId": "17407596423518156867"
     },
     "user_tz": 300
    },
    "id": "YkhTbOGGb146",
    "outputId": "558f2a22-7072-441c-89f8-13cf1033b09e"
   },
   "outputs": [
    {
     "data": {
      "text/html": [
       "<div>\n",
       "<style scoped>\n",
       "    .dataframe tbody tr th:only-of-type {\n",
       "        vertical-align: middle;\n",
       "    }\n",
       "\n",
       "    .dataframe tbody tr th {\n",
       "        vertical-align: top;\n",
       "    }\n",
       "\n",
       "    .dataframe thead th {\n",
       "        text-align: right;\n",
       "    }\n",
       "</style>\n",
       "<table border=\"1\" class=\"dataframe\">\n",
       "  <thead>\n",
       "    <tr style=\"text-align: right;\">\n",
       "      <th></th>\n",
       "      <th>Prediction</th>\n",
       "      <th>Actual</th>\n",
       "    </tr>\n",
       "  </thead>\n",
       "  <tbody>\n",
       "    <tr>\n",
       "      <th>0</th>\n",
       "      <td>0.976086</td>\n",
       "      <td>0.697678</td>\n",
       "    </tr>\n",
       "    <tr>\n",
       "      <th>1</th>\n",
       "      <td>0.953590</td>\n",
       "      <td>1.132276</td>\n",
       "    </tr>\n",
       "    <tr>\n",
       "      <th>2</th>\n",
       "      <td>0.980276</td>\n",
       "      <td>0.641902</td>\n",
       "    </tr>\n",
       "    <tr>\n",
       "      <th>3</th>\n",
       "      <td>1.071517</td>\n",
       "      <td>1.072790</td>\n",
       "    </tr>\n",
       "    <tr>\n",
       "      <th>4</th>\n",
       "      <td>0.964933</td>\n",
       "      <td>1.059753</td>\n",
       "    </tr>\n",
       "    <tr>\n",
       "      <th>5</th>\n",
       "      <td>1.002403</td>\n",
       "      <td>1.177626</td>\n",
       "    </tr>\n",
       "    <tr>\n",
       "      <th>6</th>\n",
       "      <td>0.996506</td>\n",
       "      <td>1.101678</td>\n",
       "    </tr>\n",
       "    <tr>\n",
       "      <th>7</th>\n",
       "      <td>0.965483</td>\n",
       "      <td>1.154272</td>\n",
       "    </tr>\n",
       "    <tr>\n",
       "      <th>8</th>\n",
       "      <td>1.017332</td>\n",
       "      <td>1.012914</td>\n",
       "    </tr>\n",
       "    <tr>\n",
       "      <th>9</th>\n",
       "      <td>1.047986</td>\n",
       "      <td>1.057489</td>\n",
       "    </tr>\n",
       "    <tr>\n",
       "      <th>10</th>\n",
       "      <td>1.000308</td>\n",
       "      <td>0.891623</td>\n",
       "    </tr>\n",
       "    <tr>\n",
       "      <th>11</th>\n",
       "      <td>0.594117</td>\n",
       "      <td>0.235546</td>\n",
       "    </tr>\n",
       "    <tr>\n",
       "      <th>12</th>\n",
       "      <td>1.011753</td>\n",
       "      <td>0.343076</td>\n",
       "    </tr>\n",
       "    <tr>\n",
       "      <th>13</th>\n",
       "      <td>0.988342</td>\n",
       "      <td>0.743466</td>\n",
       "    </tr>\n",
       "    <tr>\n",
       "      <th>14</th>\n",
       "      <td>1.021726</td>\n",
       "      <td>1.102865</td>\n",
       "    </tr>\n",
       "    <tr>\n",
       "      <th>15</th>\n",
       "      <td>0.988286</td>\n",
       "      <td>1.064485</td>\n",
       "    </tr>\n",
       "    <tr>\n",
       "      <th>16</th>\n",
       "      <td>0.619405</td>\n",
       "      <td>1.103734</td>\n",
       "    </tr>\n",
       "    <tr>\n",
       "      <th>17</th>\n",
       "      <td>1.043477</td>\n",
       "      <td>1.692622</td>\n",
       "    </tr>\n",
       "    <tr>\n",
       "      <th>18</th>\n",
       "      <td>0.973511</td>\n",
       "      <td>0.963547</td>\n",
       "    </tr>\n",
       "    <tr>\n",
       "      <th>19</th>\n",
       "      <td>0.950904</td>\n",
       "      <td>0.955169</td>\n",
       "    </tr>\n",
       "    <tr>\n",
       "      <th>20</th>\n",
       "      <td>1.124682</td>\n",
       "      <td>1.938329</td>\n",
       "    </tr>\n",
       "    <tr>\n",
       "      <th>21</th>\n",
       "      <td>0.726676</td>\n",
       "      <td>0.857162</td>\n",
       "    </tr>\n",
       "    <tr>\n",
       "      <th>22</th>\n",
       "      <td>0.771120</td>\n",
       "      <td>1.362264</td>\n",
       "    </tr>\n",
       "  </tbody>\n",
       "</table>\n",
       "</div>"
      ],
      "text/plain": [
       "    Prediction    Actual\n",
       "0     0.976086  0.697678\n",
       "1     0.953590  1.132276\n",
       "2     0.980276  0.641902\n",
       "3     1.071517  1.072790\n",
       "4     0.964933  1.059753\n",
       "5     1.002403  1.177626\n",
       "6     0.996506  1.101678\n",
       "7     0.965483  1.154272\n",
       "8     1.017332  1.012914\n",
       "9     1.047986  1.057489\n",
       "10    1.000308  0.891623\n",
       "11    0.594117  0.235546\n",
       "12    1.011753  0.343076\n",
       "13    0.988342  0.743466\n",
       "14    1.021726  1.102865\n",
       "15    0.988286  1.064485\n",
       "16    0.619405  1.103734\n",
       "17    1.043477  1.692622\n",
       "18    0.973511  0.963547\n",
       "19    0.950904  0.955169\n",
       "20    1.124682  1.938329\n",
       "21    0.726676  0.857162\n",
       "22    0.771120  1.362264"
      ]
     },
     "execution_count": 17,
     "metadata": {
      "tags": []
     },
     "output_type": "execute_result"
    }
   ],
   "source": [
    "preds_full1 = preds_full1.reshape((20668,))\n",
    "compare = pd.DataFrame({'Prediction': preds_full1, 'Actual' : Y1})\n",
    "compare.head(23)"
   ]
  },
  {
   "cell_type": "code",
   "execution_count": 0,
   "metadata": {
    "colab": {},
    "colab_type": "code",
    "id": "SUaoji6IcE18"
   },
   "outputs": [],
   "source": [
    "def f(compare):\n",
    "    if (compare['Prediction'] >= 1) & (compare['Actual']>=1):\n",
    "        val = 1\n",
    "    elif (compare['Prediction'] <1) & (compare['Actual'] < 1):\n",
    "        val = 1\n",
    "    else:\n",
    "        val = 0\n",
    "    return val"
   ]
  },
  {
   "cell_type": "code",
   "execution_count": 0,
   "metadata": {
    "colab": {},
    "colab_type": "code",
    "id": "FNr7J0WAduOR"
   },
   "outputs": [],
   "source": [
    "compare['Val'] = compare.apply(f, axis=1)"
   ]
  },
  {
   "cell_type": "code",
   "execution_count": 22,
   "metadata": {
    "colab": {
     "base_uri": "https://localhost:8080/",
     "height": 69
    },
    "colab_type": "code",
    "executionInfo": {
     "elapsed": 504,
     "status": "ok",
     "timestamp": 1557252283393,
     "user": {
      "displayName": "Guilherme Regos Zamorano",
      "photoUrl": "",
      "userId": "17407596423518156867"
     },
     "user_tz": 300
    },
    "id": "q18M67GGd7yP",
    "outputId": "7c5375f6-fdc2-4002-cd4e-9b6dd2eb408e"
   },
   "outputs": [
    {
     "data": {
      "text/plain": [
       "1    12246\n",
       "0     8422\n",
       "Name: Val, dtype: int64"
      ]
     },
     "execution_count": 22,
     "metadata": {
      "tags": []
     },
     "output_type": "execute_result"
    }
   ],
   "source": [
    "compare['Val'].value_counts()"
   ]
  },
  {
   "cell_type": "code",
   "execution_count": 6,
   "metadata": {
    "colab": {
     "base_uri": "https://localhost:8080/",
     "height": 1023
    },
    "colab_type": "code",
    "executionInfo": {
     "elapsed": 146,
     "status": "ok",
     "timestamp": 1557259868418,
     "user": {
      "displayName": "Guilherme Regos Zamorano",
      "photoUrl": "",
      "userId": "17407596423518156867"
     },
     "user_tz": 300
    },
    "id": "S2u7zCBN6tw4",
    "outputId": "620b65b9-4eb0-4157-edf4-aa14fc6502b4"
   },
   "outputs": [
    {
     "name": "stdout",
     "output_type": "stream",
     "text": [
      "__________________________________________________________________________________________________\n",
      "Layer (type)                    Output Shape         Param #     Connected to                     \n",
      "==================================================================================================\n",
      "conv2d_1_input (InputLayer)     (None, 128, 200, 3)  0                                            \n",
      "__________________________________________________________________________________________________\n",
      "conv2d_1 (Conv2D)               (None, 126, 198, 16) 448         conv2d_1_input[0][0]             \n",
      "__________________________________________________________________________________________________\n",
      "max_pooling2d_1 (MaxPooling2D)  (None, 63, 99, 16)   0           conv2d_1[0][0]                   \n",
      "__________________________________________________________________________________________________\n",
      "conv2d_2 (Conv2D)               (None, 61, 97, 32)   4640        max_pooling2d_1[0][0]            \n",
      "__________________________________________________________________________________________________\n",
      "max_pooling2d_2 (MaxPooling2D)  (None, 30, 48, 32)   0           conv2d_2[0][0]                   \n",
      "__________________________________________________________________________________________________\n",
      "conv2d_3 (Conv2D)               (None, 28, 46, 64)   18496       max_pooling2d_2[0][0]            \n",
      "__________________________________________________________________________________________________\n",
      "max_pooling2d_3 (MaxPooling2D)  (None, 14, 23, 64)   0           conv2d_3[0][0]                   \n",
      "__________________________________________________________________________________________________\n",
      "conv2d_4 (Conv2D)               (None, 12, 21, 128)  73856       max_pooling2d_3[0][0]            \n",
      "__________________________________________________________________________________________________\n",
      "max_pooling2d_4 (MaxPooling2D)  (None, 6, 10, 128)   0           conv2d_4[0][0]                   \n",
      "__________________________________________________________________________________________________\n",
      "flatten_1 (Flatten)             (None, 7680)         0           max_pooling2d_4[0][0]            \n",
      "__________________________________________________________________________________________________\n",
      "dense_1_input (InputLayer)      (None, 46)           0                                            \n",
      "__________________________________________________________________________________________________\n",
      "dense_6 (Dense)                 (None, 1250)         9601250     flatten_1[0][0]                  \n",
      "__________________________________________________________________________________________________\n",
      "dense_1 (Dense)                 (None, 64)           3008        dense_1_input[0][0]              \n",
      "__________________________________________________________________________________________________\n",
      "dropout_1 (Dropout)             (None, 1250)         0           dense_6[0][0]                    \n",
      "__________________________________________________________________________________________________\n",
      "dense_2 (Dense)                 (None, 32)           2080        dense_1[0][0]                    \n",
      "__________________________________________________________________________________________________\n",
      "dense_7 (Dense)                 (None, 250)          312750      dropout_1[0][0]                  \n",
      "__________________________________________________________________________________________________\n",
      "dense_3 (Dense)                 (None, 16)           528         dense_2[0][0]                    \n",
      "__________________________________________________________________________________________________\n",
      "dropout_2 (Dropout)             (None, 250)          0           dense_7[0][0]                    \n",
      "__________________________________________________________________________________________________\n",
      "dense_4 (Dense)                 (None, 8)            136         dense_3[0][0]                    \n",
      "__________________________________________________________________________________________________\n",
      "dense_8 (Dense)                 (None, 25)           6275        dropout_2[0][0]                  \n",
      "__________________________________________________________________________________________________\n",
      "dense_5 (Dense)                 (None, 4)            36          dense_4[0][0]                    \n",
      "__________________________________________________________________________________________________\n",
      "dense_9 (Dense)                 (None, 4)            104         dense_8[0][0]                    \n",
      "__________________________________________________________________________________________________\n",
      "concatenate_2 (Concatenate)     (None, 8)            0           dense_5[0][0]                    \n",
      "                                                                 dense_9[0][0]                    \n",
      "__________________________________________________________________________________________________\n",
      "dense_12 (Dense)                (None, 4)            36          concatenate_2[0][0]              \n",
      "__________________________________________________________________________________________________\n",
      "dense_13 (Dense)                (None, 1)            5           dense_12[0][0]                   \n",
      "==================================================================================================\n",
      "Total params: 10,023,648\n",
      "Trainable params: 10,023,648\n",
      "Non-trainable params: 0\n",
      "__________________________________________________________________________________________________\n"
     ]
    }
   ],
   "source": [
    "model3.summary()"
   ]
  },
  {
   "cell_type": "code",
   "execution_count": 0,
   "metadata": {
    "colab": {},
    "colab_type": "code",
    "id": "gb2IDte6FJJY"
   },
   "outputs": [],
   "source": [
    "from keras.utils import plot_model\n",
    "plot_model(model3, show_shapes = True, to_file='/content/gdrive/My Drive/model.png')"
   ]
  }
 ],
 "metadata": {
  "accelerator": "GPU",
  "colab": {
   "collapsed_sections": [],
   "name": "Data_and_Image_Regression.ipynb",
   "provenance": [],
   "version": "0.3.2"
  },
  "kernelspec": {
   "display_name": "Python 3 (ipykernel)",
   "language": "python",
   "name": "python3"
  },
  "language_info": {
   "codemirror_mode": {
    "name": "ipython",
    "version": 3
   },
   "file_extension": ".py",
   "mimetype": "text/x-python",
   "name": "python",
   "nbconvert_exporter": "python",
   "pygments_lexer": "ipython3",
   "version": "3.9.6"
  }
 },
 "nbformat": 4,
 "nbformat_minor": 1
}
