{
 "cells": [
  {
   "cell_type": "code",
   "execution_count": 1,
   "metadata": {
    "colab": {},
    "colab_type": "code",
    "id": "es8IK9W3uato"
   },
   "outputs": [],
   "source": [
    "import pandas as pd\n",
    "import numpy as np"
   ]
  },
  {
   "cell_type": "code",
   "execution_count": 2,
   "metadata": {
    "colab": {
     "base_uri": "https://localhost:8080/",
     "height": 124
    },
    "colab_type": "code",
    "executionInfo": {
     "elapsed": 35197,
     "status": "ok",
     "timestamp": 1557177312134,
     "user": {
      "displayName": "Guilherme Regos Zamorano",
      "photoUrl": "",
      "userId": "17407596423518156867"
     },
     "user_tz": 300
    },
    "id": "Nt5fu0b7uepV",
    "outputId": "fdf3c161-52dc-405f-ae3c-c55acf7593f1"
   },
   "outputs": [
    {
     "ename": "ModuleNotFoundError",
     "evalue": "No module named 'google'",
     "output_type": "error",
     "traceback": [
      "\u001b[1;31m---------------------------------------------------------------------------\u001b[0m",
      "\u001b[1;31mModuleNotFoundError\u001b[0m                       Traceback (most recent call last)",
      "\u001b[1;32m~\\AppData\\Local\\Temp/ipykernel_5680/3639008178.py\u001b[0m in \u001b[0;36m<module>\u001b[1;34m\u001b[0m\n\u001b[1;32m----> 1\u001b[1;33m \u001b[1;32mfrom\u001b[0m \u001b[0mgoogle\u001b[0m\u001b[1;33m.\u001b[0m\u001b[0mcolab\u001b[0m \u001b[1;32mimport\u001b[0m \u001b[0mdrive\u001b[0m\u001b[1;33m\u001b[0m\u001b[1;33m\u001b[0m\u001b[0m\n\u001b[0m\u001b[0;32m      2\u001b[0m \u001b[0mdrive\u001b[0m\u001b[1;33m.\u001b[0m\u001b[0mmount\u001b[0m\u001b[1;33m(\u001b[0m\u001b[1;34m'/content/gdrive'\u001b[0m\u001b[1;33m,\u001b[0m \u001b[0mforce_remount\u001b[0m\u001b[1;33m=\u001b[0m\u001b[1;32mTrue\u001b[0m\u001b[1;33m)\u001b[0m\u001b[1;33m\u001b[0m\u001b[1;33m\u001b[0m\u001b[0m\n\u001b[0;32m      3\u001b[0m \u001b[0mroot_dir\u001b[0m \u001b[1;33m=\u001b[0m \u001b[1;34m\"/content/gdrive/My Drive/\"\u001b[0m\u001b[1;33m\u001b[0m\u001b[1;33m\u001b[0m\u001b[0m\n",
      "\u001b[1;31mModuleNotFoundError\u001b[0m: No module named 'google'"
     ]
    }
   ],
   "source": [
    "from google.colab import drive\n",
    "drive.mount('/content/gdrive', force_remount=True)\n",
    "root_dir = \"/content/gdrive/My Drive/\""
   ]
  },
  {
   "cell_type": "code",
   "execution_count": 0,
   "metadata": {
    "colab": {},
    "colab_type": "code",
    "id": "rbTdX72zunJw"
   },
   "outputs": [],
   "source": [
    "path_img = \"/content/gdrive/My Drive/profile_display_images_concat_np.npy\""
   ]
  },
  {
   "cell_type": "code",
   "execution_count": 0,
   "metadata": {
    "colab": {},
    "colab_type": "code",
    "id": "mODzFJ2wun-E"
   },
   "outputs": [],
   "source": [
    "path_df = \"/content/gdrive/My Drive/InstagramDatasetFinalVersion.csv\""
   ]
  },
  {
   "cell_type": "code",
   "execution_count": 0,
   "metadata": {
    "colab": {},
    "colab_type": "code",
    "id": "irfUJHFOurJ1"
   },
   "outputs": [],
   "source": [
    "df = pd.read_csv('/content/gdrive/My Drive/InstagramDatasetFinalVersion.csv', encoding='utf-8-sig')"
   ]
  },
  {
   "cell_type": "code",
   "execution_count": 0,
   "metadata": {
    "colab": {},
    "colab_type": "code",
    "id": "sQKp_XR9uuJK"
   },
   "outputs": [],
   "source": [
    "image_data = np.load(path_img, allow_pickle=True)"
   ]
  },
  {
   "cell_type": "code",
   "execution_count": 0,
   "metadata": {
    "colab": {},
    "colab_type": "code",
    "id": "bTQyiCgfI_J-"
   },
   "outputs": [],
   "source": [
    "a = np.load(a, allow_pickle=True).astype(np.float16)"
   ]
  },
  {
   "cell_type": "code",
   "execution_count": 0,
   "metadata": {
    "colab": {},
    "colab_type": "code",
    "id": "4PIMBQ65JCei"
   },
   "outputs": [],
   "source": [
    "b = np.load(b, allow_pickle=True).astype(np.float16)"
   ]
  },
  {
   "cell_type": "code",
   "execution_count": 0,
   "metadata": {
    "colab": {},
    "colab_type": "code",
    "id": "E9u1X3bhM5gN"
   },
   "outputs": [],
   "source": [
    "a = a.reshape(10334, 128, 200, 3)"
   ]
  },
  {
   "cell_type": "code",
   "execution_count": 0,
   "metadata": {
    "colab": {},
    "colab_type": "code",
    "id": "dM6yPQwmNCV4"
   },
   "outputs": [],
   "source": [
    "b = b.reshape(10334, 128, 200, 3)"
   ]
  },
  {
   "cell_type": "code",
   "execution_count": 0,
   "metadata": {
    "colab": {},
    "colab_type": "code",
    "id": "GLnyqJ0tNIW5"
   },
   "outputs": [],
   "source": [
    "c = np.concatenate((a, b))"
   ]
  },
  {
   "cell_type": "code",
   "execution_count": 0,
   "metadata": {
    "colab": {},
    "colab_type": "code",
    "id": "Xj0TDzwnNW1B"
   },
   "outputs": [],
   "source": [
    "c = c.reshape(20668, 128, 200, 3)"
   ]
  },
  {
   "cell_type": "code",
   "execution_count": 0,
   "metadata": {
    "colab": {},
    "colab_type": "code",
    "id": "HvTvBNS1PRHZ"
   },
   "outputs": [],
   "source": [
    "del a\n",
    "del b"
   ]
  },
  {
   "cell_type": "code",
   "execution_count": 7,
   "metadata": {
    "colab": {
     "base_uri": "https://localhost:8080/",
     "height": 35
    },
    "colab_type": "code",
    "executionInfo": {
     "elapsed": 434,
     "status": "ok",
     "timestamp": 1557162219618,
     "user": {
      "displayName": "Guilherme Regos Zamorano",
      "photoUrl": "",
      "userId": "17407596423518156867"
     },
     "user_tz": 300
    },
    "id": "zBEgXD8Vuv5C",
    "outputId": "b5d939da-f927-4fb0-da82-618161c672b3"
   },
   "outputs": [
    {
     "data": {
      "text/plain": [
       "(20668, 76800)"
      ]
     },
     "execution_count": 7,
     "metadata": {
      "tags": []
     },
     "output_type": "execute_result"
    }
   ],
   "source": [
    "image_data.shape"
   ]
  },
  {
   "cell_type": "code",
   "execution_count": 0,
   "metadata": {
    "colab": {},
    "colab_type": "code",
    "id": "DScBiOBquxwj"
   },
   "outputs": [],
   "source": [
    "image_data = image_data.reshape(20668, 128, 200, 3)"
   ]
  },
  {
   "cell_type": "code",
   "execution_count": 9,
   "metadata": {
    "colab": {
     "base_uri": "https://localhost:8080/",
     "height": 35
    },
    "colab_type": "code",
    "executionInfo": {
     "elapsed": 517,
     "status": "ok",
     "timestamp": 1557162222464,
     "user": {
      "displayName": "Guilherme Regos Zamorano",
      "photoUrl": "",
      "userId": "17407596423518156867"
     },
     "user_tz": 300
    },
    "id": "dGP-vCX0u0L7",
    "outputId": "95c6cb3b-3ef7-4521-ae3e-81e79a46f36f"
   },
   "outputs": [
    {
     "data": {
      "text/plain": [
       "(20668, 128, 200, 3)"
      ]
     },
     "execution_count": 9,
     "metadata": {
      "tags": []
     },
     "output_type": "execute_result"
    }
   ],
   "source": [
    "image_data.shape"
   ]
  },
  {
   "cell_type": "code",
   "execution_count": 10,
   "metadata": {
    "colab": {
     "base_uri": "https://localhost:8080/",
     "height": 145
    },
    "colab_type": "code",
    "executionInfo": {
     "elapsed": 553,
     "status": "ok",
     "timestamp": 1557162228574,
     "user": {
      "displayName": "Guilherme Regos Zamorano",
      "photoUrl": "",
      "userId": "17407596423518156867"
     },
     "user_tz": 300
    },
    "id": "ov_O2nxJu12E",
    "outputId": "261f39b5-f083-421c-b62c-790bee874d5a"
   },
   "outputs": [
    {
     "data": {
      "image/png": "[encoded data removed]",
      "text/plain": [
       "<PIL.Image.Image image mode=RGB size=200x128 at 0x7F7277842668>"
      ]
     },
     "execution_count": 10,
     "metadata": {
      "tags": []
     },
     "output_type": "execute_result"
    }
   ],
   "source": [
    "from PIL import Image\n",
    "img = Image.fromarray(image_data[13])\n",
    "img"
   ]
  },
  {
   "cell_type": "code",
   "execution_count": 0,
   "metadata": {
    "colab": {},
    "colab_type": "code",
    "id": "nfothexru4Yc"
   },
   "outputs": [],
   "source": [
    "from sklearn.model_selection import train_test_split\n",
    "split = train_test_split(df, image_data, test_size=0.25, random_state=42)\n",
    "(trainAttrX, testAttrX, trainImagesX, testImagesX) = split"
   ]
  },
  {
   "cell_type": "code",
   "execution_count": 0,
   "metadata": {
    "colab": {},
    "colab_type": "code",
    "id": "XRZlPDiwu8la"
   },
   "outputs": [],
   "source": [
    "maxPrice = df[\"number_of_likes/mean\"].max()\n",
    "trainY = trainAttrX[\"number_of_likes/mean\"]/ maxPrice\n",
    "testY = testAttrX[\"number_of_likes/mean\"]/ maxPrice"
   ]
  },
  {
   "cell_type": "code",
   "execution_count": 0,
   "metadata": {
    "colab": {},
    "colab_type": "code",
    "id": "_AUHNmNnv2ol"
   },
   "outputs": [],
   "source": [
    "model1 = models.Sequential()\n",
    "model1.add(Conv2D(16, kernel_size=(3, 3), padding = \"same\", input_shape=(128, 200, 3), activation='relu'))\n",
    "model1.add(BatchNormalization(axis = -1))\n",
    "model1.add(MaxPooling2D(pool_size=(2, 2)))\n",
    "model1.add(Conv2D(32, kernel_size=(3, 3), activation='relu'))\n",
    "model1.add(BatchNormalization(axis = -1))\n",
    "model1.add(MaxPooling2D(pool_size=(2, 2)))\n",
    "model1.add(Conv2D(64, kernel_size=(3, 3), activation='relu'))\n",
    "model1.add(BatchNormalization(axis = -1))\n",
    "model1.add(MaxPooling2D(pool_size=(2, 2)))\n",
    "model1.add(Conv2D(128, kernel_size=(3, 3), activation='relu'))\n",
    "model1.add(MaxPooling2D(pool_size=(2, 2)))\n",
    "model1.add(BatchNormalization(axis = -1))\n",
    "model1.add(Flatten())\n",
    "model1.add(Dense(1250, activation='relu'))\n",
    "model1.add(BatchNormalization(axis = -1))\n",
    "model1.add(Dropout(.5))\n",
    "model1.add(Dense(250, activation='relu'))\n",
    "model1.add(BatchNormalization(axis = -1))\n",
    "model1.add(Dropout(.25))\n",
    "model1.add(Dense(25, activation='relu'))\n",
    "model1.add(Dense(1, activation=\"linear\"))\n",
    "model1.compile(optimizer=optimizers.Adam(lr=1e-04, decay = 1e-04/200), loss='mean_squared_error')"
   ]
  },
  {
   "cell_type": "code",
   "execution_count": 16,
   "metadata": {
    "colab": {
     "base_uri": "https://localhost:8080/",
     "height": 3501
    },
    "colab_type": "code",
    "executionInfo": {
     "elapsed": 4063881,
     "status": "ok",
     "timestamp": 1557166593904,
     "user": {
      "displayName": "Guilherme Regos Zamorano",
      "photoUrl": "",
      "userId": "17407596423518156867"
     },
     "user_tz": 300
    },
    "id": "oLWb_MssxC58",
    "outputId": "5fc6cd18-8288-4bd8-a70b-33db3e6b5212"
   },
   "outputs": [
    {
     "name": "stdout",
     "output_type": "stream",
     "text": [
      "Train on 15501 samples, validate on 5167 samples\n",
      "Epoch 1/100\n",
      "15501/15501 [==============================] - 42s 3ms/step - loss: 0.4491 - val_loss: 0.0352\n",
      "Epoch 2/100\n",
      "15501/15501 [==============================] - 41s 3ms/step - loss: 0.0903 - val_loss: 0.0149\n",
      "Epoch 3/100\n",
      "15501/15501 [==============================] - 41s 3ms/step - loss: 0.0288 - val_loss: 0.0098\n",
      "Epoch 4/100\n",
      "15501/15501 [==============================] - 41s 3ms/step - loss: 0.0164 - val_loss: 0.0087\n",
      "Epoch 5/100\n",
      "15501/15501 [==============================] - 40s 3ms/step - loss: 0.0131 - val_loss: 0.0094\n",
      "Epoch 6/100\n",
      "15501/15501 [==============================] - 41s 3ms/step - loss: 0.0112 - val_loss: 0.0085\n",
      "Epoch 7/100\n",
      "15501/15501 [==============================] - 40s 3ms/step - loss: 0.0105 - val_loss: 0.0080\n",
      "Epoch 8/100\n",
      "15501/15501 [==============================] - 41s 3ms/step - loss: 0.0103 - val_loss: 0.0080\n",
      "Epoch 9/100\n",
      "15501/15501 [==============================] - 40s 3ms/step - loss: 0.0096 - val_loss: 0.0077\n",
      "Epoch 10/100\n",
      "15501/15501 [==============================] - 41s 3ms/step - loss: 0.0095 - val_loss: 0.0084\n",
      "Epoch 11/100\n",
      "15501/15501 [==============================] - 41s 3ms/step - loss: 0.0091 - val_loss: 0.0084\n",
      "Epoch 12/100\n",
      "15501/15501 [==============================] - 41s 3ms/step - loss: 0.0092 - val_loss: 0.0078\n",
      "Epoch 13/100\n",
      "15501/15501 [==============================] - 40s 3ms/step - loss: 0.0090 - val_loss: 0.0078\n",
      "Epoch 14/100\n",
      "15501/15501 [==============================] - 41s 3ms/step - loss: 0.0089 - val_loss: 0.0080\n",
      "Epoch 15/100\n",
      "15501/15501 [==============================] - 40s 3ms/step - loss: 0.0087 - val_loss: 0.0080\n",
      "Epoch 16/100\n",
      "15501/15501 [==============================] - 41s 3ms/step - loss: 0.0085 - val_loss: 0.0109\n",
      "Epoch 17/100\n",
      "15501/15501 [==============================] - 41s 3ms/step - loss: 0.0084 - val_loss: 0.0085\n",
      "Epoch 18/100\n",
      "15501/15501 [==============================] - 41s 3ms/step - loss: 0.0086 - val_loss: 0.0076\n",
      "Epoch 19/100\n",
      "15501/15501 [==============================] - 41s 3ms/step - loss: 0.0084 - val_loss: 0.0080\n",
      "Epoch 20/100\n",
      "15501/15501 [==============================] - 41s 3ms/step - loss: 0.0083 - val_loss: 0.0079\n",
      "Epoch 21/100\n",
      "15501/15501 [==============================] - 40s 3ms/step - loss: 0.0082 - val_loss: 0.0075\n",
      "Epoch 22/100\n",
      "15501/15501 [==============================] - 41s 3ms/step - loss: 0.0081 - val_loss: 0.0078\n",
      "Epoch 23/100\n",
      "15501/15501 [==============================] - 40s 3ms/step - loss: 0.0080 - val_loss: 0.0092\n",
      "Epoch 24/100\n",
      "15501/15501 [==============================] - 40s 3ms/step - loss: 0.0081 - val_loss: 0.0087\n",
      "Epoch 25/100\n",
      "15501/15501 [==============================] - 40s 3ms/step - loss: 0.0081 - val_loss: 0.0075\n",
      "Epoch 26/100\n",
      "15501/15501 [==============================] - 40s 3ms/step - loss: 0.0081 - val_loss: 0.0075\n",
      "Epoch 27/100\n",
      "15501/15501 [==============================] - 41s 3ms/step - loss: 0.0080 - val_loss: 0.0075\n",
      "Epoch 28/100\n",
      "15501/15501 [==============================] - 40s 3ms/step - loss: 0.0081 - val_loss: 0.0075\n",
      "Epoch 29/100\n",
      "15501/15501 [==============================] - 40s 3ms/step - loss: 0.0079 - val_loss: 0.0075\n",
      "Epoch 30/100\n",
      "15501/15501 [==============================] - 40s 3ms/step - loss: 0.0078 - val_loss: 0.0076\n",
      "Epoch 31/100\n",
      "15501/15501 [==============================] - 41s 3ms/step - loss: 0.0079 - val_loss: 0.0077\n",
      "Epoch 32/100\n",
      "15501/15501 [==============================] - 40s 3ms/step - loss: 0.0078 - val_loss: 0.0080\n",
      "Epoch 33/100\n",
      "15501/15501 [==============================] - 41s 3ms/step - loss: 0.0078 - val_loss: 0.0075\n",
      "Epoch 34/100\n",
      "15501/15501 [==============================] - 41s 3ms/step - loss: 0.0078 - val_loss: 0.0076\n",
      "Epoch 35/100\n",
      "15501/15501 [==============================] - 41s 3ms/step - loss: 0.0079 - val_loss: 0.0078\n",
      "Epoch 36/100\n",
      "15501/15501 [==============================] - 40s 3ms/step - loss: 0.0078 - val_loss: 0.0087\n",
      "Epoch 37/100\n",
      "15501/15501 [==============================] - 41s 3ms/step - loss: 0.0079 - val_loss: 0.0075\n",
      "Epoch 38/100\n",
      "15501/15501 [==============================] - 40s 3ms/step - loss: 0.0077 - val_loss: 0.0075\n",
      "Epoch 39/100\n",
      "15501/15501 [==============================] - 41s 3ms/step - loss: 0.0078 - val_loss: 0.0074\n",
      "Epoch 40/100\n",
      "15501/15501 [==============================] - 40s 3ms/step - loss: 0.0077 - val_loss: 0.0083\n",
      "Epoch 41/100\n",
      "15501/15501 [==============================] - 41s 3ms/step - loss: 0.0077 - val_loss: 0.0075\n",
      "Epoch 42/100\n",
      "15501/15501 [==============================] - 41s 3ms/step - loss: 0.0078 - val_loss: 0.0074\n",
      "Epoch 43/100\n",
      "15501/15501 [==============================] - 41s 3ms/step - loss: 0.0078 - val_loss: 0.0077\n",
      "Epoch 44/100\n",
      "15501/15501 [==============================] - 40s 3ms/step - loss: 0.0077 - val_loss: 0.0077\n",
      "Epoch 45/100\n",
      "15501/15501 [==============================] - 41s 3ms/step - loss: 0.0077 - val_loss: 0.0075\n",
      "Epoch 46/100\n",
      "15501/15501 [==============================] - 40s 3ms/step - loss: 0.0077 - val_loss: 0.0074\n",
      "Epoch 47/100\n",
      "15501/15501 [==============================] - 41s 3ms/step - loss: 0.0076 - val_loss: 0.0076\n",
      "Epoch 48/100\n",
      "15501/15501 [==============================] - 40s 3ms/step - loss: 0.0077 - val_loss: 0.0074\n",
      "Epoch 49/100\n",
      "15501/15501 [==============================] - 41s 3ms/step - loss: 0.0076 - val_loss: 0.0076\n",
      "Epoch 50/100\n",
      "15501/15501 [==============================] - 41s 3ms/step - loss: 0.0075 - val_loss: 0.0076\n",
      "Epoch 51/100\n",
      "15501/15501 [==============================] - 41s 3ms/step - loss: 0.0076 - val_loss: 0.0075\n",
      "Epoch 52/100\n",
      "15501/15501 [==============================] - 40s 3ms/step - loss: 0.0076 - val_loss: 0.0075\n",
      "Epoch 53/100\n",
      "15501/15501 [==============================] - 41s 3ms/step - loss: 0.0075 - val_loss: 0.0075\n",
      "Epoch 54/100\n",
      "15501/15501 [==============================] - 40s 3ms/step - loss: 0.0075 - val_loss: 0.0081\n",
      "Epoch 55/100\n",
      "15501/15501 [==============================] - 41s 3ms/step - loss: 0.0076 - val_loss: 0.0077\n",
      "Epoch 56/100\n",
      "15501/15501 [==============================] - 40s 3ms/step - loss: 0.0075 - val_loss: 0.0076\n",
      "Epoch 57/100\n",
      "15501/15501 [==============================] - 41s 3ms/step - loss: 0.0075 - val_loss: 0.0078\n",
      "Epoch 58/100\n",
      "15501/15501 [==============================] - 40s 3ms/step - loss: 0.0074 - val_loss: 0.0074\n",
      "Epoch 59/100\n",
      "15501/15501 [==============================] - 41s 3ms/step - loss: 0.0074 - val_loss: 0.0074\n",
      "Epoch 60/100\n",
      "15501/15501 [==============================] - 40s 3ms/step - loss: 0.0075 - val_loss: 0.0081\n",
      "Epoch 61/100\n",
      "15501/15501 [==============================] - 41s 3ms/step - loss: 0.0074 - val_loss: 0.0075\n",
      "Epoch 62/100\n",
      "15501/15501 [==============================] - 40s 3ms/step - loss: 0.0075 - val_loss: 0.0078\n",
      "Epoch 63/100\n",
      "15501/15501 [==============================] - 41s 3ms/step - loss: 0.0074 - val_loss: 0.0079\n",
      "Epoch 64/100\n",
      "15501/15501 [==============================] - 40s 3ms/step - loss: 0.0074 - val_loss: 0.0075\n",
      "Epoch 65/100\n",
      "15501/15501 [==============================] - 42s 3ms/step - loss: 0.0074 - val_loss: 0.0075\n",
      "Epoch 66/100\n",
      "15501/15501 [==============================] - 40s 3ms/step - loss: 0.0074 - val_loss: 0.0074\n",
      "Epoch 67/100\n",
      "15501/15501 [==============================] - 41s 3ms/step - loss: 0.0074 - val_loss: 0.0076\n",
      "Epoch 68/100\n",
      "15501/15501 [==============================] - 40s 3ms/step - loss: 0.0074 - val_loss: 0.0075\n",
      "Epoch 69/100\n",
      "15501/15501 [==============================] - 41s 3ms/step - loss: 0.0074 - val_loss: 0.0074\n",
      "Epoch 70/100\n",
      "15501/15501 [==============================] - 40s 3ms/step - loss: 0.0074 - val_loss: 0.0074\n",
      "Epoch 71/100\n",
      "15501/15501 [==============================] - 41s 3ms/step - loss: 0.0073 - val_loss: 0.0075\n",
      "Epoch 72/100\n",
      "15501/15501 [==============================] - 41s 3ms/step - loss: 0.0074 - val_loss: 0.0074\n",
      "Epoch 73/100\n",
      "15501/15501 [==============================] - 42s 3ms/step - loss: 0.0073 - val_loss: 0.0076\n",
      "Epoch 74/100\n",
      "15501/15501 [==============================] - 40s 3ms/step - loss: 0.0073 - val_loss: 0.0075\n",
      "Epoch 75/100\n",
      "15501/15501 [==============================] - 41s 3ms/step - loss: 0.0073 - val_loss: 0.0075\n",
      "Epoch 76/100\n",
      "15501/15501 [==============================] - 40s 3ms/step - loss: 0.0073 - val_loss: 0.0075\n",
      "Epoch 77/100\n",
      "15501/15501 [==============================] - 41s 3ms/step - loss: 0.0073 - val_loss: 0.0075\n",
      "Epoch 78/100\n",
      "15501/15501 [==============================] - 40s 3ms/step - loss: 0.0073 - val_loss: 0.0076\n",
      "Epoch 79/100\n",
      "15501/15501 [==============================] - 41s 3ms/step - loss: 0.0073 - val_loss: 0.0075\n",
      "Epoch 80/100\n",
      "15501/15501 [==============================] - 41s 3ms/step - loss: 0.0073 - val_loss: 0.0077\n",
      "Epoch 81/100\n",
      "15501/15501 [==============================] - 41s 3ms/step - loss: 0.0073 - val_loss: 0.0074\n",
      "Epoch 82/100\n",
      "15501/15501 [==============================] - 40s 3ms/step - loss: 0.0073 - val_loss: 0.0076\n",
      "Epoch 83/100\n",
      "15501/15501 [==============================] - 41s 3ms/step - loss: 0.0073 - val_loss: 0.0074\n",
      "Epoch 84/100\n",
      "15501/15501 [==============================] - 40s 3ms/step - loss: 0.0073 - val_loss: 0.0074\n",
      "Epoch 85/100\n",
      "15501/15501 [==============================] - 41s 3ms/step - loss: 0.0073 - val_loss: 0.0075\n",
      "Epoch 86/100\n",
      "15501/15501 [==============================] - 40s 3ms/step - loss: 0.0073 - val_loss: 0.0075\n",
      "Epoch 87/100\n",
      "15501/15501 [==============================] - 41s 3ms/step - loss: 0.0072 - val_loss: 0.0075\n",
      "Epoch 88/100\n",
      "15501/15501 [==============================] - 41s 3ms/step - loss: 0.0073 - val_loss: 0.0074\n",
      "Epoch 89/100\n",
      "15501/15501 [==============================] - 41s 3ms/step - loss: 0.0072 - val_loss: 0.0075\n",
      "Epoch 90/100\n",
      "15501/15501 [==============================] - 40s 3ms/step - loss: 0.0072 - val_loss: 0.0074\n",
      "Epoch 91/100\n",
      "15501/15501 [==============================] - 41s 3ms/step - loss: 0.0072 - val_loss: 0.0074\n",
      "Epoch 92/100\n",
      "15501/15501 [==============================] - 40s 3ms/step - loss: 0.0072 - val_loss: 0.0075\n",
      "Epoch 93/100\n",
      "15501/15501 [==============================] - 41s 3ms/step - loss: 0.0072 - val_loss: 0.0075\n",
      "Epoch 94/100\n",
      "15501/15501 [==============================] - 40s 3ms/step - loss: 0.0072 - val_loss: 0.0074\n",
      "Epoch 95/100\n",
      "15501/15501 [==============================] - 41s 3ms/step - loss: 0.0072 - val_loss: 0.0074\n",
      "Epoch 96/100\n",
      "15501/15501 [==============================] - 41s 3ms/step - loss: 0.0072 - val_loss: 0.0074\n",
      "Epoch 97/100\n",
      "15501/15501 [==============================] - 41s 3ms/step - loss: 0.0072 - val_loss: 0.0075\n",
      "Epoch 98/100\n",
      "15501/15501 [==============================] - 40s 3ms/step - loss: 0.0072 - val_loss: 0.0074\n",
      "Epoch 99/100\n",
      "15501/15501 [==============================] - 41s 3ms/step - loss: 0.0072 - val_loss: 0.0075\n",
      "Epoch 100/100\n",
      "15501/15501 [==============================] - 40s 3ms/step - loss: 0.0072 - val_loss: 0.0075\n"
     ]
    }
   ],
   "source": [
    "history = model1.fit(trainImagesX, trainY, validation_data=(testImagesX, testY),\n",
    "\tepochs=100, batch_size=8)"
   ]
  },
  {
   "cell_type": "code",
   "execution_count": 17,
   "metadata": {
    "colab": {
     "base_uri": "https://localhost:8080/",
     "height": 52
    },
    "colab_type": "code",
    "executionInfo": {
     "elapsed": 2325,
     "status": "ok",
     "timestamp": 1557177534553,
     "user": {
      "displayName": "Guilherme Regos Zamorano",
      "photoUrl": "",
      "userId": "17407596423518156867"
     },
     "user_tz": 300
    },
    "id": "ASdtQ5ab36IL",
    "outputId": "25f3b332-597e-45c2-9a0c-16f15e8b5b45"
   },
   "outputs": [
    {
     "name": "stdout",
     "output_type": "stream",
     "text": [
      "(array([ 611,  626, 1418, 2078, 3107]),)\n",
      "0.008646305557331068\n"
     ]
    }
   ],
   "source": [
    "preds = model1.predict(testImagesX)\n",
    "diff = preds.flatten() - testY\n",
    "Yitemindex = np.where(testY==0)\n",
    "print(Yitemindex)\n",
    "minVal = np.amin(testY[testY != np.amin(testY)])\n",
    "print(minVal)"
   ]
  },
  {
   "cell_type": "code",
   "execution_count": 0,
   "metadata": {
    "colab": {},
    "colab_type": "code",
    "id": "2zqwG3n49lsc"
   },
   "outputs": [],
   "source": [
    "np.put(testY, 611, minVal)\n",
    "np.put(testY, 626, minVal)\n",
    "np.put(testY, 1418, minVal)\n",
    "np.put(testY, 2078, minVal)\n",
    "np.put(testY, 3107, minVal)"
   ]
  },
  {
   "cell_type": "code",
   "execution_count": 19,
   "metadata": {
    "colab": {
     "base_uri": "https://localhost:8080/",
     "height": 104
    },
    "colab_type": "code",
    "executionInfo": {
     "elapsed": 607,
     "status": "ok",
     "timestamp": 1557177541432,
     "user": {
      "displayName": "Guilherme Regos Zamorano",
      "photoUrl": "",
      "userId": "17407596423518156867"
     },
     "user_tz": 300
    },
    "id": "MAVZE0ShPgA9",
    "outputId": "af660ac4-77f7-443b-cf99-93b980b63473"
   },
   "outputs": [
    {
     "name": "stdout",
     "output_type": "stream",
     "text": [
      "avg likes/mean:\n",
      "1.0000000000000009\n",
      "std likes/mean:\n",
      "0.5068692569675557\n",
      "mean absolute percentage difference: 60.86%, std absolute percentage difference.: 131.89%\n"
     ]
    }
   ],
   "source": [
    "percentDiff = (diff / testY) * 100\n",
    "\n",
    "absPercentDiff = np.abs(percentDiff)\n",
    "mean = np.mean(absPercentDiff)\n",
    "std = np.std(absPercentDiff)\n",
    "import locale\n",
    "locale.setlocale(locale.LC_ALL, \"en_US.UTF-8\")\n",
    "print(\"avg likes/mean:\")\n",
    "print(df[\"number_of_likes/mean\"].mean())\n",
    "print(\"std likes/mean:\")\n",
    "print(df[\"number_of_likes/mean\"].std())\n",
    "print(\"mean absolute percentage difference: {:.2f}%, std absolute percentage difference.: {:.2f}%\".format(mean, std))"
   ]
  },
  {
   "cell_type": "code",
   "execution_count": 0,
   "metadata": {
    "colab": {},
    "colab_type": "code",
    "id": "RR1QkMHxQTof"
   },
   "outputs": [],
   "source": [
    "maxPrice = df[\"number_of_likes/mean\"].max()\n",
    "yVal = df[\"number_of_likes/mean\"]/ maxPrice"
   ]
  },
  {
   "cell_type": "code",
   "execution_count": 14,
   "metadata": {
    "colab": {
     "base_uri": "https://localhost:8080/",
     "height": 52
    },
    "colab_type": "code",
    "executionInfo": {
     "elapsed": 10816,
     "status": "ok",
     "timestamp": 1557177505145,
     "user": {
      "displayName": "Guilherme Regos Zamorano",
      "photoUrl": "",
      "userId": "17407596423518156867"
     },
     "user_tz": 300
    },
    "id": "QiWZnb50Pvn9",
    "outputId": "ee509c8b-b976-4c6d-d7d5-f483926f1279"
   },
   "outputs": [
    {
     "name": "stdout",
     "output_type": "stream",
     "text": [
      "(array([ 1200,  1201,  1202,  1203,  8673,  8678, 18779]),)\n",
      "0.0012154466092707831\n"
     ]
    }
   ],
   "source": [
    "preds_full = model1.predict(image_data)\n",
    "diff1 = preds_full.flatten() - yVal\n",
    "Yitemindex = np.where(yVal==0)\n",
    "print(Yitemindex)\n",
    "minVal = np.amin(yVal[yVal != np.amin(yVal)])\n",
    "print(minVal)"
   ]
  },
  {
   "cell_type": "code",
   "execution_count": 15,
   "metadata": {
    "colab": {
     "base_uri": "https://localhost:8080/",
     "height": 104
    },
    "colab_type": "code",
    "executionInfo": {
     "elapsed": 548,
     "status": "ok",
     "timestamp": 1557177508111,
     "user": {
      "displayName": "Guilherme Regos Zamorano",
      "photoUrl": "",
      "userId": "17407596423518156867"
     },
     "user_tz": 300
    },
    "id": "7w4L-sfGQfey",
    "outputId": "5b028cd3-e08f-4425-8bd7-f17fc658feb1"
   },
   "outputs": [
    {
     "name": "stdout",
     "output_type": "stream",
     "text": [
      "avg likes/mean:\n",
      "1.0000000000000009\n",
      "std likes/mean:\n",
      "0.5068692569675557\n",
      "mean absolute percentage difference: 66.78%, std absolute percentage difference.: 314.04%\n"
     ]
    }
   ],
   "source": [
    "np.put(yVal, 1200, minVal)\n",
    "np.put(yVal, 1201, minVal)\n",
    "np.put(yVal, 1202, minVal)\n",
    "np.put(yVal, 1203, minVal)\n",
    "np.put(yVal, 8673, minVal)\n",
    "np.put(yVal, 8678, minVal)\n",
    "np.put(yVal, 18779, minVal)\n",
    "\n",
    "percentDiff1 = (diff1 / yVal) * 100\n",
    "\n",
    "absPercentDiff1 = np.abs(percentDiff1)\n",
    "mean1 = np.mean(absPercentDiff1)\n",
    "std1 = np.std(absPercentDiff1)\n",
    " \n",
    "import locale\n",
    "locale.setlocale(locale.LC_ALL, \"en_US.UTF-8\")\n",
    "print(\"avg likes/mean:\")\n",
    "print(df[\"number_of_likes/mean\"].mean())\n",
    "print(\"std likes/mean:\")\n",
    "print(df[\"number_of_likes/mean\"].std())\n",
    "print(\"mean absolute percentage difference: {:.2f}%, std absolute percentage difference.: {:.2f}%\".format(mean1, std1))"
   ]
  },
  {
   "cell_type": "code",
   "execution_count": 20,
   "metadata": {
    "colab": {
     "base_uri": "https://localhost:8080/",
     "height": 52
    },
    "colab_type": "code",
    "executionInfo": {
     "elapsed": 645,
     "status": "ok",
     "timestamp": 1557177547699,
     "user": {
      "displayName": "Guilherme Regos Zamorano",
      "photoUrl": "",
      "userId": "17407596423518156867"
     },
     "user_tz": 300
    },
    "id": "Kom5u02NQ11I",
    "outputId": "0c862e0e-b815-47e0-d366-6392d4909238"
   },
   "outputs": [
    {
     "name": "stdout",
     "output_type": "stream",
     "text": [
      "0.08660819211728843\n",
      "0.08499803920263498\n"
     ]
    }
   ],
   "source": [
    "from sklearn import metrics\n",
    "print(np.sqrt(metrics.mean_squared_error(testY, preds)))\n",
    "print(np.sqrt(metrics.mean_squared_error(yVal, preds_full)))"
   ]
  },
  {
   "cell_type": "code",
   "execution_count": 21,
   "metadata": {
    "colab": {
     "base_uri": "https://localhost:8080/",
     "height": 52
    },
    "colab_type": "code",
    "executionInfo": {
     "elapsed": 585,
     "status": "ok",
     "timestamp": 1557177550307,
     "user": {
      "displayName": "Guilherme Regos Zamorano",
      "photoUrl": "",
      "userId": "17407596423518156867"
     },
     "user_tz": 300
    },
    "id": "8-46v0NbRDkK",
    "outputId": "9e1a3883-250f-4c98-a68c-c6c8e43b6855"
   },
   "outputs": [
    {
     "name": "stdout",
     "output_type": "stream",
     "text": [
      "-0.009416296803220314\n",
      "-0.00817184755992506\n"
     ]
    }
   ],
   "source": [
    "print(metrics.r2_score(testY, preds))\n",
    "print(metrics.r2_score(yVal, preds_full))"
   ]
  },
  {
   "cell_type": "code",
   "execution_count": 0,
   "metadata": {
    "colab": {},
    "colab_type": "code",
    "id": "1TJX6-7vRNrS"
   },
   "outputs": [],
   "source": [
    "preds_full = preds_full.reshape((20668,))"
   ]
  },
  {
   "cell_type": "code",
   "execution_count": 0,
   "metadata": {
    "colab": {},
    "colab_type": "code",
    "id": "tPbT-Cw7ROMY"
   },
   "outputs": [],
   "source": [
    "Y1 = df[\"number_of_likes/mean\"]\n",
    "preds_full = preds_full * maxPrice"
   ]
  },
  {
   "cell_type": "code",
   "execution_count": 24,
   "metadata": {
    "colab": {
     "base_uri": "https://localhost:8080/",
     "height": 754
    },
    "colab_type": "code",
    "executionInfo": {
     "elapsed": 601,
     "status": "ok",
     "timestamp": 1557177558525,
     "user": {
      "displayName": "Guilherme Regos Zamorano",
      "photoUrl": "",
      "userId": "17407596423518156867"
     },
     "user_tz": 300
    },
    "id": "-n7w8puDRks6",
    "outputId": "423fa025-6365-44d7-dce1-4f3f0271bc02"
   },
   "outputs": [
    {
     "data": {
      "text/html": [
       "<div>\n",
       "<style scoped>\n",
       "    .dataframe tbody tr th:only-of-type {\n",
       "        vertical-align: middle;\n",
       "    }\n",
       "\n",
       "    .dataframe tbody tr th {\n",
       "        vertical-align: top;\n",
       "    }\n",
       "\n",
       "    .dataframe thead th {\n",
       "        text-align: right;\n",
       "    }\n",
       "</style>\n",
       "<table border=\"1\" class=\"dataframe\">\n",
       "  <thead>\n",
       "    <tr style=\"text-align: right;\">\n",
       "      <th></th>\n",
       "      <th>Prediction</th>\n",
       "      <th>Actual</th>\n",
       "    </tr>\n",
       "  </thead>\n",
       "  <tbody>\n",
       "    <tr>\n",
       "      <th>0</th>\n",
       "      <td>1.005069</td>\n",
       "      <td>0.697678</td>\n",
       "    </tr>\n",
       "    <tr>\n",
       "      <th>1</th>\n",
       "      <td>1.006001</td>\n",
       "      <td>1.132276</td>\n",
       "    </tr>\n",
       "    <tr>\n",
       "      <th>2</th>\n",
       "      <td>1.004199</td>\n",
       "      <td>0.641902</td>\n",
       "    </tr>\n",
       "    <tr>\n",
       "      <th>3</th>\n",
       "      <td>1.007447</td>\n",
       "      <td>1.072790</td>\n",
       "    </tr>\n",
       "    <tr>\n",
       "      <th>4</th>\n",
       "      <td>1.007447</td>\n",
       "      <td>1.059753</td>\n",
       "    </tr>\n",
       "    <tr>\n",
       "      <th>5</th>\n",
       "      <td>1.007447</td>\n",
       "      <td>1.177626</td>\n",
       "    </tr>\n",
       "    <tr>\n",
       "      <th>6</th>\n",
       "      <td>1.007447</td>\n",
       "      <td>1.101678</td>\n",
       "    </tr>\n",
       "    <tr>\n",
       "      <th>7</th>\n",
       "      <td>1.004807</td>\n",
       "      <td>1.154272</td>\n",
       "    </tr>\n",
       "    <tr>\n",
       "      <th>8</th>\n",
       "      <td>1.007037</td>\n",
       "      <td>1.012914</td>\n",
       "    </tr>\n",
       "    <tr>\n",
       "      <th>9</th>\n",
       "      <td>1.007447</td>\n",
       "      <td>1.057489</td>\n",
       "    </tr>\n",
       "    <tr>\n",
       "      <th>10</th>\n",
       "      <td>1.004588</td>\n",
       "      <td>0.891623</td>\n",
       "    </tr>\n",
       "    <tr>\n",
       "      <th>11</th>\n",
       "      <td>1.005699</td>\n",
       "      <td>0.235546</td>\n",
       "    </tr>\n",
       "    <tr>\n",
       "      <th>12</th>\n",
       "      <td>1.004237</td>\n",
       "      <td>0.343076</td>\n",
       "    </tr>\n",
       "    <tr>\n",
       "      <th>13</th>\n",
       "      <td>1.004028</td>\n",
       "      <td>0.743466</td>\n",
       "    </tr>\n",
       "    <tr>\n",
       "      <th>14</th>\n",
       "      <td>1.007447</td>\n",
       "      <td>1.102865</td>\n",
       "    </tr>\n",
       "    <tr>\n",
       "      <th>15</th>\n",
       "      <td>1.007447</td>\n",
       "      <td>1.064485</td>\n",
       "    </tr>\n",
       "    <tr>\n",
       "      <th>16</th>\n",
       "      <td>1.007447</td>\n",
       "      <td>1.103734</td>\n",
       "    </tr>\n",
       "    <tr>\n",
       "      <th>17</th>\n",
       "      <td>1.007274</td>\n",
       "      <td>1.692622</td>\n",
       "    </tr>\n",
       "    <tr>\n",
       "      <th>18</th>\n",
       "      <td>1.007447</td>\n",
       "      <td>0.963547</td>\n",
       "    </tr>\n",
       "    <tr>\n",
       "      <th>19</th>\n",
       "      <td>1.005342</td>\n",
       "      <td>0.955169</td>\n",
       "    </tr>\n",
       "    <tr>\n",
       "      <th>20</th>\n",
       "      <td>1.006992</td>\n",
       "      <td>1.938329</td>\n",
       "    </tr>\n",
       "    <tr>\n",
       "      <th>21</th>\n",
       "      <td>1.005273</td>\n",
       "      <td>0.857162</td>\n",
       "    </tr>\n",
       "    <tr>\n",
       "      <th>22</th>\n",
       "      <td>1.003997</td>\n",
       "      <td>1.362264</td>\n",
       "    </tr>\n",
       "  </tbody>\n",
       "</table>\n",
       "</div>"
      ],
      "text/plain": [
       "    Prediction    Actual\n",
       "0     1.005069  0.697678\n",
       "1     1.006001  1.132276\n",
       "2     1.004199  0.641902\n",
       "3     1.007447  1.072790\n",
       "4     1.007447  1.059753\n",
       "5     1.007447  1.177626\n",
       "6     1.007447  1.101678\n",
       "7     1.004807  1.154272\n",
       "8     1.007037  1.012914\n",
       "9     1.007447  1.057489\n",
       "10    1.004588  0.891623\n",
       "11    1.005699  0.235546\n",
       "12    1.004237  0.343076\n",
       "13    1.004028  0.743466\n",
       "14    1.007447  1.102865\n",
       "15    1.007447  1.064485\n",
       "16    1.007447  1.103734\n",
       "17    1.007274  1.692622\n",
       "18    1.007447  0.963547\n",
       "19    1.005342  0.955169\n",
       "20    1.006992  1.938329\n",
       "21    1.005273  0.857162\n",
       "22    1.003997  1.362264"
      ]
     },
     "execution_count": 24,
     "metadata": {
      "tags": []
     },
     "output_type": "execute_result"
    }
   ],
   "source": [
    "compare = pd.DataFrame({'Prediction': preds_full, 'Actual' : Y1})\n",
    "compare.head(23)"
   ]
  },
  {
   "cell_type": "code",
   "execution_count": 0,
   "metadata": {
    "colab": {},
    "colab_type": "code",
    "id": "tGIEwpr6RoWD"
   },
   "outputs": [],
   "source": [
    "Small_difference = abs((df[\"number_of_likes/mean\"].values) - preds_full)  < 0.05\n",
    "med_difference = abs((df[\"number_of_likes/mean\"].values) - preds_full)  < 0.25\n",
    "Big_difference = abs((df[\"number_of_likes/mean\"].values) - preds_full)  > 0.5"
   ]
  },
  {
   "cell_type": "code",
   "execution_count": 26,
   "metadata": {
    "colab": {
     "base_uri": "https://localhost:8080/",
     "height": 35
    },
    "colab_type": "code",
    "executionInfo": {
     "elapsed": 769,
     "status": "ok",
     "timestamp": 1557177566333,
     "user": {
      "displayName": "Guilherme Regos Zamorano",
      "photoUrl": "",
      "userId": "17407596423518156867"
     },
     "user_tz": 300
    },
    "id": "ZVZFDasFRq4x",
    "outputId": "c62f6947-ea99-4864-d970-a81379d4b107"
   },
   "outputs": [
    {
     "data": {
      "text/plain": [
       "1986"
      ]
     },
     "execution_count": 26,
     "metadata": {
      "tags": []
     },
     "output_type": "execute_result"
    }
   ],
   "source": [
    "df[Small_difference].shape[0]"
   ]
  },
  {
   "cell_type": "code",
   "execution_count": 29,
   "metadata": {
    "colab": {
     "base_uri": "https://localhost:8080/",
     "height": 35
    },
    "colab_type": "code",
    "executionInfo": {
     "elapsed": 554,
     "status": "ok",
     "timestamp": 1557177573843,
     "user": {
      "displayName": "Guilherme Regos Zamorano",
      "photoUrl": "",
      "userId": "17407596423518156867"
     },
     "user_tz": 300
    },
    "id": "HYKnuArrRuCS",
    "outputId": "fa9e8794-4c67-4765-fe94-eea1a16d5d6f"
   },
   "outputs": [
    {
     "data": {
      "text/plain": [
       "9211"
      ]
     },
     "execution_count": 29,
     "metadata": {
      "tags": []
     },
     "output_type": "execute_result"
    }
   ],
   "source": [
    "df[med_difference].shape[0]"
   ]
  },
  {
   "cell_type": "code",
   "execution_count": 30,
   "metadata": {
    "colab": {
     "base_uri": "https://localhost:8080/",
     "height": 633
    },
    "colab_type": "code",
    "executionInfo": {
     "elapsed": 559,
     "status": "ok",
     "timestamp": 1557177577655,
     "user": {
      "displayName": "Guilherme Regos Zamorano",
      "photoUrl": "",
      "userId": "17407596423518156867"
     },
     "user_tz": 300
    },
    "id": "Fo5Ze4v8Rwjw",
    "outputId": "b28af9e0-8856-4485-c262-2fe92e171c9b"
   },
   "outputs": [
    {
     "name": "stderr",
     "output_type": "stream",
     "text": [
      "/usr/local/lib/python3.6/dist-packages/ipykernel_launcher.py:3: DeprecationWarning: \n",
      ".ix is deprecated. Please use\n",
      ".loc for label based indexing or\n",
      ".iloc for positional indexing\n",
      "\n",
      "See the documentation here:\n",
      "http://pandas.pydata.org/pandas-docs/stable/indexing.html#ix-indexer-is-deprecated\n",
      "  This is separate from the ipykernel package so we can avoid doing imports until\n",
      "/usr/local/lib/python3.6/dist-packages/ipykernel_launcher.py:4: DeprecationWarning: \n",
      ".ix is deprecated. Please use\n",
      ".loc for label based indexing or\n",
      ".iloc for positional indexing\n",
      "\n",
      "See the documentation here:\n",
      "http://pandas.pydata.org/pandas-docs/stable/indexing.html#ix-indexer-is-deprecated\n",
      "  after removing the cwd from sys.path.\n"
     ]
    },
    {
     "data": {
      "text/html": [
       "<div>\n",
       "<style scoped>\n",
       "    .dataframe tbody tr th:only-of-type {\n",
       "        vertical-align: middle;\n",
       "    }\n",
       "\n",
       "    .dataframe tbody tr th {\n",
       "        vertical-align: top;\n",
       "    }\n",
       "\n",
       "    .dataframe thead th {\n",
       "        text-align: right;\n",
       "    }\n",
       "</style>\n",
       "<table border=\"1\" class=\"dataframe\">\n",
       "  <thead>\n",
       "    <tr style=\"text-align: right;\">\n",
       "      <th></th>\n",
       "      <th>Prediction</th>\n",
       "      <th>Actual</th>\n",
       "    </tr>\n",
       "  </thead>\n",
       "  <tbody>\n",
       "    <tr>\n",
       "      <th>8</th>\n",
       "      <td>1.007037</td>\n",
       "      <td>1.012914</td>\n",
       "    </tr>\n",
       "    <tr>\n",
       "      <th>18</th>\n",
       "      <td>1.007447</td>\n",
       "      <td>0.963547</td>\n",
       "    </tr>\n",
       "    <tr>\n",
       "      <th>23</th>\n",
       "      <td>1.007447</td>\n",
       "      <td>1.055596</td>\n",
       "    </tr>\n",
       "    <tr>\n",
       "      <th>40</th>\n",
       "      <td>1.007447</td>\n",
       "      <td>0.958649</td>\n",
       "    </tr>\n",
       "    <tr>\n",
       "      <th>44</th>\n",
       "      <td>1.007447</td>\n",
       "      <td>0.979309</td>\n",
       "    </tr>\n",
       "    <tr>\n",
       "      <th>46</th>\n",
       "      <td>1.007447</td>\n",
       "      <td>0.979036</td>\n",
       "    </tr>\n",
       "    <tr>\n",
       "      <th>54</th>\n",
       "      <td>1.007447</td>\n",
       "      <td>1.018425</td>\n",
       "    </tr>\n",
       "    <tr>\n",
       "      <th>67</th>\n",
       "      <td>1.007447</td>\n",
       "      <td>1.001424</td>\n",
       "    </tr>\n",
       "    <tr>\n",
       "      <th>69</th>\n",
       "      <td>1.007284</td>\n",
       "      <td>1.029386</td>\n",
       "    </tr>\n",
       "    <tr>\n",
       "      <th>80</th>\n",
       "      <td>1.098935</td>\n",
       "      <td>1.139697</td>\n",
       "    </tr>\n",
       "  </tbody>\n",
       "</table>\n",
       "</div>"
      ],
      "text/plain": [
       "    Prediction    Actual\n",
       "8     1.007037  1.012914\n",
       "18    1.007447  0.963547\n",
       "23    1.007447  1.055596\n",
       "40    1.007447  0.958649\n",
       "44    1.007447  0.979309\n",
       "46    1.007447  0.979036\n",
       "54    1.007447  1.018425\n",
       "67    1.007447  1.001424\n",
       "69    1.007284  1.029386\n",
       "80    1.098935  1.139697"
      ]
     },
     "execution_count": 30,
     "metadata": {
      "tags": []
     },
     "output_type": "execute_result"
    }
   ],
   "source": [
    "idx_vals = df[Small_difference].index.values\n",
    "idx_big_vals = df[Big_difference].index.values\n",
    "compare1 = compare.ix[idx_vals]\n",
    "compare2 = compare.ix[idx_big_vals]\n",
    "compare1.head(10)"
   ]
  },
  {
   "cell_type": "code",
   "execution_count": 31,
   "metadata": {
    "colab": {
     "base_uri": "https://localhost:8080/",
     "height": 295
    },
    "colab_type": "code",
    "executionInfo": {
     "elapsed": 1633,
     "status": "ok",
     "timestamp": 1557177604397,
     "user": {
      "displayName": "Guilherme Regos Zamorano",
      "photoUrl": "",
      "userId": "17407596423518156867"
     },
     "user_tz": 300
    },
    "id": "PWcsC2oQR1bG",
    "outputId": "99b40350-4b74-49d9-eaa6-6e852dfd514b"
   },
   "outputs": [
    {
     "data": {
      "image/png": "[encoded data removed]",
      "text/plain": [
       "<Figure size 432x288 with 1 Axes>"
      ]
     },
     "metadata": {
      "tags": []
     },
     "output_type": "display_data"
    }
   ],
   "source": [
    "from  matplotlib import pyplot \n",
    "pyplot.scatter(df[\"number_of_likes/mean\"].values, preds_full)\n",
    "z = np.polyfit(df[\"number_of_likes/mean\"].values, preds_full, 1)\n",
    "p = np.poly1d(z)\n",
    "pyplot.plot(df[\"number_of_likes/mean\"].values,p(df[\"number_of_likes/mean\"].values),\"r--\")\n",
    "pyplot.title(\"Predicted Likes Over Mean vs True Likes Over Mean\")\n",
    "pyplot.xlabel(\"True Number of Likes Over Mean\")\n",
    "pyplot.ylabel(\"Predicted Number of Likes Over\")\n",
    "pyplot.show()"
   ]
  },
  {
   "cell_type": "code",
   "execution_count": 0,
   "metadata": {
    "colab": {},
    "colab_type": "code",
    "id": "pAkgf5fsSmYy"
   },
   "outputs": [],
   "source": [
    "model1.save(\"/content/gdrive/My Drive/batch_norm_model.h5\")"
   ]
  },
  {
   "cell_type": "code",
   "execution_count": 12,
   "metadata": {
    "colab": {
     "base_uri": "https://localhost:8080/",
     "height": 211
    },
    "colab_type": "code",
    "executionInfo": {
     "elapsed": 11137,
     "status": "ok",
     "timestamp": 1557177476597,
     "user": {
      "displayName": "Guilherme Regos Zamorano",
      "photoUrl": "",
      "userId": "17407596423518156867"
     },
     "user_tz": 300
    },
    "id": "bYJxppYbAYQ5",
    "outputId": "8e47924d-6eac-4664-f195-4ac4e9ba82d1"
   },
   "outputs": [
    {
     "name": "stderr",
     "output_type": "stream",
     "text": [
      "Using TensorFlow backend.\n"
     ]
    },
    {
     "name": "stdout",
     "output_type": "stream",
     "text": [
      "WARNING:tensorflow:From /usr/local/lib/python3.6/dist-packages/tensorflow/python/framework/op_def_library.py:263: colocate_with (from tensorflow.python.framework.ops) is deprecated and will be removed in a future version.\n",
      "Instructions for updating:\n",
      "Colocations handled automatically by placer.\n",
      "WARNING:tensorflow:From /usr/local/lib/python3.6/dist-packages/keras/backend/tensorflow_backend.py:3445: calling dropout (from tensorflow.python.ops.nn_ops) with keep_prob is deprecated and will be removed in a future version.\n",
      "Instructions for updating:\n",
      "Please use `rate` instead of `keep_prob`. Rate should be set to `rate = 1 - keep_prob`.\n",
      "WARNING:tensorflow:From /usr/local/lib/python3.6/dist-packages/tensorflow/python/ops/math_ops.py:3066: to_int32 (from tensorflow.python.ops.math_ops) is deprecated and will be removed in a future version.\n",
      "Instructions for updating:\n",
      "Use tf.cast instead.\n"
     ]
    }
   ],
   "source": [
    "from keras.models import load_model\n",
    "model1 = load_model('/content/gdrive/My Drive/batch_norm_model.h5')"
   ]
  }
 ],
 "metadata": {
  "accelerator": "GPU",
  "colab": {
   "collapsed_sections": [],
   "name": "ImageRegressionAttempts.ipynb",
   "provenance": [],
   "version": "0.3.2"
  },
  "kernelspec": {
   "display_name": "Python 3 (ipykernel)",
   "language": "python",
   "name": "python3"
  },
  "language_info": {
   "codemirror_mode": {
    "name": "ipython",
    "version": 3
   },
   "file_extension": ".py",
   "mimetype": "text/x-python",
   "name": "python",
   "nbconvert_exporter": "python",
   "pygments_lexer": "ipython3",
   "version": "3.9.6"
  }
 },
 "nbformat": 4,
 "nbformat_minor": 1
}
