{
 "cells": [
  {
   "cell_type": "code",
   "execution_count": 0,
   "metadata": {
    "colab": {},
    "colab_type": "code",
    "id": "XE6SMIxbWY3R"
   },
   "outputs": [],
   "source": [
    "import pandas as pd\n",
    "import numpy as np"
   ]
  },
  {
   "cell_type": "code",
   "execution_count": 2,
   "metadata": {
    "colab": {
     "base_uri": "https://localhost:8080/",
     "height": 35
    },
    "colab_type": "code",
    "executionInfo": {
     "elapsed": 22338,
     "status": "ok",
     "timestamp": 1557177698825,
     "user": {
      "displayName": "Guilherme Regos Zamorano",
      "photoUrl": "",
      "userId": "17407596423518156867"
     },
     "user_tz": 300
    },
    "id": "XlJtZNEPW22p",
    "outputId": "9393a38f-5f11-4267-e303-5c21743a68c3"
   },
   "outputs": [
    {
     "name": "stdout",
     "output_type": "stream",
     "text": [
      "Mounted at /content/gdrive\n"
     ]
    }
   ],
   "source": [
    "from google.colab import drive\n",
    "drive.mount('/content/gdrive', force_remount=True)\n",
    "root_dir = \"/content/gdrive/My Drive/\""
   ]
  },
  {
   "cell_type": "code",
   "execution_count": 0,
   "metadata": {
    "colab": {},
    "colab_type": "code",
    "id": "thyE-BeHW6KU"
   },
   "outputs": [],
   "source": [
    "path_df = \"/content/gdrive/My Drive/InstagramDatasetRegression.csv\""
   ]
  },
  {
   "cell_type": "code",
   "execution_count": 0,
   "metadata": {
    "colab": {},
    "colab_type": "code",
    "id": "wkfxGx9vXDRT"
   },
   "outputs": [],
   "source": [
    "Regression_data = pd.read_csv(path_df, encoding='utf-8-sig')"
   ]
  },
  {
   "cell_type": "code",
   "execution_count": 5,
   "metadata": {
    "colab": {
     "base_uri": "https://localhost:8080/",
     "height": 919
    },
    "colab_type": "code",
    "executionInfo": {
     "elapsed": 590,
     "status": "ok",
     "timestamp": 1557177713164,
     "user": {
      "displayName": "Guilherme Regos Zamorano",
      "photoUrl": "",
      "userId": "17407596423518156867"
     },
     "user_tz": 300
    },
    "id": "7UNj1ZLMXDQM",
    "outputId": "b2fbcf54-ad68-4837-e658-b55efca5f3ef"
   },
   "outputs": [
    {
     "name": "stdout",
     "output_type": "stream",
     "text": [
      "<class 'pandas.core.frame.DataFrame'>\n",
      "RangeIndex: 20668 entries, 0 to 20667\n",
      "Data columns (total 47 columns):\n",
      "edge_felix_video_timeline                      20668 non-null int64\n",
      "edge_follow                                    20668 non-null int64\n",
      "edge_followed_by                               20668 non-null int64\n",
      "edge_owner_to_timeline_media                   20668 non-null int64\n",
      "highlight_reel_count                           20668 non-null int64\n",
      "is_business_account                            20668 non-null bool\n",
      "is_verified                                    20668 non-null bool\n",
      "comments_disabled                              20668 non-null bool\n",
      "is_video                                       20668 non-null bool\n",
      "time_between                                   20668 non-null float64\n",
      "number_of_likes/mean                           20668 non-null float64\n",
      "Friday                                         20668 non-null int64\n",
      "Monday                                         20668 non-null int64\n",
      "Saturday                                       20668 non-null int64\n",
      "Sunday                                         20668 non-null int64\n",
      "Thursday                                       20668 non-null int64\n",
      "Tuesday                                        20668 non-null int64\n",
      "Wednesday                                      20668 non-null int64\n",
      "hour_of_day                                    20668 non-null int64\n",
      "hr_sin                                         20668 non-null float64\n",
      "hr_cos                                         20668 non-null float64\n",
      "(0, 4]                                         20668 non-null int64\n",
      "(4, 8]                                         20668 non-null int64\n",
      "(8, 12]                                        20668 non-null int64\n",
      "(12, 16]                                       20668 non-null int64\n",
      "(16, 20]                                       20668 non-null int64\n",
      "(20, 24]                                       20668 non-null int64\n",
      "Auto Dealers                                   20668 non-null int64\n",
      "Business & Utility Services                    20668 non-null int64\n",
      "Content & Apps                                 20668 non-null int64\n",
      "Creators & Celebrities                         20668 non-null int64\n",
      "Food & Personal Goods                          20668 non-null int64\n",
      "General Interest                               20668 non-null int64\n",
      "Government Agencies                            20668 non-null int64\n",
      "Grocery & Convenience Stores                   20668 non-null int64\n",
      "Home & Auto                                    20668 non-null int64\n",
      "Home Goods Stores                              20668 non-null int64\n",
      "Home Services                                  20668 non-null int64\n",
      "Lifestyle Services                             20668 non-null int64\n",
      "Local Events                                   20668 non-null int64\n",
      "Non-Profits & Religious Organizations          20668 non-null int64\n",
      "Personal Goods & General Merchandise Stores    20668 non-null int64\n",
      "Professional Services                          20668 non-null int64\n",
      "Publishers                                     20668 non-null int64\n",
      "Transportation & Accomodation Services         20668 non-null int64\n",
      "mean_likes                                     20668 non-null float64\n",
      "mean_comments                                  20668 non-null float64\n",
      "dtypes: bool(4), float64(6), int64(37)\n",
      "memory usage: 6.9 MB\n"
     ]
    }
   ],
   "source": [
    "Regression_data.info()"
   ]
  },
  {
   "cell_type": "code",
   "execution_count": 6,
   "metadata": {
    "colab": {
     "base_uri": "https://localhost:8080/",
     "height": 72
    },
    "colab_type": "code",
    "executionInfo": {
     "elapsed": 898,
     "status": "ok",
     "timestamp": 1557177716494,
     "user": {
      "displayName": "Guilherme Regos Zamorano",
      "photoUrl": "",
      "userId": "17407596423518156867"
     },
     "user_tz": 300
    },
    "id": "2lWbDHZNXgKV",
    "outputId": "e9e03c7f-8cea-486f-9db8-fed0a15cd788"
   },
   "outputs": [
    {
     "name": "stderr",
     "output_type": "stream",
     "text": [
      "/usr/local/lib/python3.6/dist-packages/sklearn/preprocessing/data.py:334: DataConversionWarning: Data with input dtype int64, float64 were all converted to float64 by MinMaxScaler.\n",
      "  return self.partial_fit(X, y)\n"
     ]
    }
   ],
   "source": [
    "from sklearn.preprocessing import MinMaxScaler\n",
    "continuous = [\"edge_felix_video_timeline\", \"edge_follow\", \"edge_followed_by\", \"edge_owner_to_timeline_media\", \"highlight_reel_count\", \"time_between\", \"hour_of_day\", \"hr_sin\", \"hr_cos\", \"mean_likes\", \"mean_comments\"]\n",
    " \n",
    "# performin min-max scaling each continuous feature column to\n",
    "# the range [0, 1]\n",
    "cs = MinMaxScaler()\n",
    "Data_Continuous = cs.fit_transform(Regression_data[continuous])"
   ]
  },
  {
   "cell_type": "code",
   "execution_count": 0,
   "metadata": {
    "colab": {},
    "colab_type": "code",
    "id": "fr9758kFZfNq"
   },
   "outputs": [],
   "source": [
    "Data_Continuous_df = pd.DataFrame(Data_Continuous, columns=continuous)"
   ]
  },
  {
   "cell_type": "code",
   "execution_count": 0,
   "metadata": {
    "colab": {},
    "colab_type": "code",
    "id": "gCbj8blHaIOy"
   },
   "outputs": [],
   "source": [
    "Regression_data_continuous = Regression_data.drop(continuous,axis=1)"
   ]
  },
  {
   "cell_type": "code",
   "execution_count": 0,
   "metadata": {
    "colab": {},
    "colab_type": "code",
    "id": "WQdZvsh4agxJ"
   },
   "outputs": [],
   "source": [
    "Regression_data_continuous = pd.concat([Regression_data_continuous, Data_Continuous_df], axis = 1)"
   ]
  },
  {
   "cell_type": "code",
   "execution_count": 0,
   "metadata": {
    "colab": {},
    "colab_type": "code",
    "id": "p-CXTZJxLYu0"
   },
   "outputs": [],
   "source": [
    "from keras.models import Sequential\n",
    "from keras.layers.normalization import BatchNormalization\n",
    "from keras.layers.convolutional import Conv2D\n",
    "from keras.layers.convolutional import MaxPooling2D\n",
    "from keras.layers.core import Activation\n",
    "from keras.layers.core import Dropout\n",
    "from keras.layers.core import Dense\n",
    "from keras.layers import Flatten\n",
    "from keras.layers import Input\n",
    "from keras.models import Model\n",
    " \n",
    "\n",
    "# define our MLP network\n",
    "model1 = Sequential()\n",
    "model1.add(Dense(64, input_dim=46, activation=\"relu\"))\n",
    "model1.add(Dense(32, activation=\"relu\"))\n",
    "model1.add(Dense(16, activation=\"relu\"))\n",
    "model1.add(Dense(8, activation=\"relu\"))\n",
    "model1.add(Dense(4, activation=\"relu\"))\n",
    "model1.add(Dense(1, activation=\"linear\"))"
   ]
  },
  {
   "cell_type": "code",
   "execution_count": 0,
   "metadata": {
    "colab": {},
    "colab_type": "code",
    "id": "BYelSh7rLg2w"
   },
   "outputs": [],
   "source": [
    "from sklearn.model_selection import train_test_split\n",
    "X = Regression_data_continuous\n",
    "maxPrice = X[\"number_of_likes/mean\"].max()\n",
    "Y = X[\"number_of_likes/mean\"] / maxPrice\n",
    "Y = Y.values\n",
    "X = X.drop('number_of_likes/mean', axis = 1).values\n",
    "X_train, X_test, Y_train, Y_test = train_test_split (X, Y, test_size = 0.20, random_state=42)"
   ]
  },
  {
   "cell_type": "code",
   "execution_count": 0,
   "metadata": {
    "colab": {},
    "colab_type": "code",
    "id": "RTqDxVhiLuoA"
   },
   "outputs": [],
   "source": [
    "from keras.optimizers import Adam\n",
    "opt = Adam(lr=1e-4, decay=1e-4 / 200)\n",
    "model1.compile(loss=\"mean_squared_error\", optimizer=opt)"
   ]
  },
  {
   "cell_type": "code",
   "execution_count": 16,
   "metadata": {
    "colab": {
     "base_uri": "https://localhost:8080/",
     "height": 1164
    },
    "colab_type": "code",
    "executionInfo": {
     "elapsed": 238904,
     "status": "ok",
     "timestamp": 1557177991564,
     "user": {
      "displayName": "Guilherme Regos Zamorano",
      "photoUrl": "",
      "userId": "17407596423518156867"
     },
     "user_tz": 300
    },
    "id": "8O79gl0xLwOT",
    "outputId": "384dbe93-3c8b-4b45-a233-cbf7fe129be3"
   },
   "outputs": [
    {
     "name": "stdout",
     "output_type": "stream",
     "text": [
      "WARNING:tensorflow:From /usr/local/lib/python3.6/dist-packages/tensorflow/python/ops/math_ops.py:3066: to_int32 (from tensorflow.python.ops.math_ops) is deprecated and will be removed in a future version.\n",
      "Instructions for updating:\n",
      "Use tf.cast instead.\n",
      "Train on 16534 samples, validate on 4134 samples\n",
      "Epoch 1/30\n",
      "16534/16534 [==============================] - 9s 560us/step - loss: 0.0107 - val_loss: 0.0075\n",
      "Epoch 2/30\n",
      "16534/16534 [==============================] - 8s 468us/step - loss: 0.0069 - val_loss: 0.0074\n",
      "Epoch 3/30\n",
      "16534/16534 [==============================] - 8s 471us/step - loss: 0.0067 - val_loss: 0.0074\n",
      "Epoch 4/30\n",
      "16534/16534 [==============================] - 8s 469us/step - loss: 0.0067 - val_loss: 0.0074\n",
      "Epoch 5/30\n",
      "16534/16534 [==============================] - 8s 468us/step - loss: 0.0067 - val_loss: 0.0074\n",
      "Epoch 6/30\n",
      "16534/16534 [==============================] - 9s 535us/step - loss: 0.0066 - val_loss: 0.0074\n",
      "Epoch 7/30\n",
      "16534/16534 [==============================] - 8s 480us/step - loss: 0.0066 - val_loss: 0.0074\n",
      "Epoch 8/30\n",
      "16534/16534 [==============================] - 8s 505us/step - loss: 0.0066 - val_loss: 0.0074\n",
      "Epoch 9/30\n",
      "16534/16534 [==============================] - 8s 479us/step - loss: 0.0066 - val_loss: 0.0074\n",
      "Epoch 10/30\n",
      "16534/16534 [==============================] - 8s 469us/step - loss: 0.0066 - val_loss: 0.0074\n",
      "Epoch 11/30\n",
      "16534/16534 [==============================] - 8s 467us/step - loss: 0.0066 - val_loss: 0.0074\n",
      "Epoch 12/30\n",
      "16534/16534 [==============================] - 8s 466us/step - loss: 0.0065 - val_loss: 0.0074\n",
      "Epoch 13/30\n",
      "16534/16534 [==============================] - 8s 466us/step - loss: 0.0065 - val_loss: 0.0074\n",
      "Epoch 14/30\n",
      "16534/16534 [==============================] - 8s 469us/step - loss: 0.0065 - val_loss: 0.0074\n",
      "Epoch 15/30\n",
      "16534/16534 [==============================] - 8s 466us/step - loss: 0.0065 - val_loss: 0.0074\n",
      "Epoch 16/30\n",
      "16534/16534 [==============================] - 9s 524us/step - loss: 0.0065 - val_loss: 0.0074\n",
      "Epoch 17/30\n",
      "16534/16534 [==============================] - 8s 488us/step - loss: 0.0065 - val_loss: 0.0074\n",
      "Epoch 18/30\n",
      "16534/16534 [==============================] - 8s 469us/step - loss: 0.0065 - val_loss: 0.0074\n",
      "Epoch 19/30\n",
      "16534/16534 [==============================] - 8s 466us/step - loss: 0.0064 - val_loss: 0.0074\n",
      "Epoch 20/30\n",
      "16534/16534 [==============================] - 8s 469us/step - loss: 0.0064 - val_loss: 0.0074\n",
      "Epoch 21/30\n",
      "16534/16534 [==============================] - 8s 468us/step - loss: 0.0064 - val_loss: 0.0074\n",
      "Epoch 22/30\n",
      "16534/16534 [==============================] - 8s 465us/step - loss: 0.0064 - val_loss: 0.0075\n",
      "Epoch 23/30\n",
      "16534/16534 [==============================] - 8s 467us/step - loss: 0.0064 - val_loss: 0.0074\n",
      "Epoch 24/30\n",
      "16534/16534 [==============================] - 8s 469us/step - loss: 0.0064 - val_loss: 0.0074\n",
      "Epoch 25/30\n",
      "16534/16534 [==============================] - 8s 467us/step - loss: 0.0064 - val_loss: 0.0075\n",
      "Epoch 26/30\n",
      "16534/16534 [==============================] - 8s 508us/step - loss: 0.0064 - val_loss: 0.0074\n",
      "Epoch 27/30\n",
      "16534/16534 [==============================] - 8s 506us/step - loss: 0.0064 - val_loss: 0.0074\n",
      "Epoch 28/30\n",
      "16534/16534 [==============================] - 8s 469us/step - loss: 0.0064 - val_loss: 0.0075\n",
      "Epoch 29/30\n",
      "16534/16534 [==============================] - 8s 465us/step - loss: 0.0063 - val_loss: 0.0075\n",
      "Epoch 30/30\n",
      "16534/16534 [==============================] - 8s 467us/step - loss: 0.0063 - val_loss: 0.0075\n"
     ]
    },
    {
     "data": {
      "text/plain": [
       "<keras.callbacks.History at 0x7f253d3e5b70>"
      ]
     },
     "execution_count": 16,
     "metadata": {
      "tags": []
     },
     "output_type": "execute_result"
    }
   ],
   "source": [
    "model1.fit(X_train, Y_train, validation_data=(X_test, Y_test),\n",
    "\tepochs=30, batch_size=8)"
   ]
  },
  {
   "cell_type": "code",
   "execution_count": 17,
   "metadata": {
    "colab": {
     "base_uri": "https://localhost:8080/",
     "height": 35
    },
    "colab_type": "code",
    "executionInfo": {
     "elapsed": 535,
     "status": "ok",
     "timestamp": 1557178735219,
     "user": {
      "displayName": "Guilherme Regos Zamorano",
      "photoUrl": "",
      "userId": "17407596423518156867"
     },
     "user_tz": 300
    },
    "id": "pkc8PJsNPH9l",
    "outputId": "58ef206c-baaa-4aec-ccaf-fa67a4572dc0"
   },
   "outputs": [
    {
     "data": {
      "text/plain": [
       "(array([ 611,  626, 1418, 2078, 3107]),)"
      ]
     },
     "execution_count": 17,
     "metadata": {
      "tags": []
     },
     "output_type": "execute_result"
    }
   ],
   "source": [
    "preds1 = model1.predict(X_test)\n",
    "diff1 = preds1.flatten() - Y_test\n",
    "Yitemindex = np.where(Y_test==0)\n",
    "Yitemindex"
   ]
  },
  {
   "cell_type": "code",
   "execution_count": 18,
   "metadata": {
    "colab": {
     "base_uri": "https://localhost:8080/",
     "height": 35
    },
    "colab_type": "code",
    "executionInfo": {
     "elapsed": 576,
     "status": "ok",
     "timestamp": 1557178739337,
     "user": {
      "displayName": "Guilherme Regos Zamorano",
      "photoUrl": "",
      "userId": "17407596423518156867"
     },
     "user_tz": 300
    },
    "id": "xUktoPvvPWla",
    "outputId": "da4b9cfe-b82f-43b9-aaf9-d5385f1f05aa"
   },
   "outputs": [
    {
     "name": "stdout",
     "output_type": "stream",
     "text": [
      "0.008646305557331068\n"
     ]
    }
   ],
   "source": [
    "minVal = np.amin(Y_test[Y_test != np.amin(Y_test)])\n",
    "print(minVal)\n",
    "np.put(Y_test, 611, minVal)\n",
    "np.put(Y_test, 626, minVal)\n",
    "np.put(Y_test, 1418, minVal)\n",
    "np.put(Y_test, 2078, minVal)\n",
    "np.put(Y_test, 3107, minVal)"
   ]
  },
  {
   "cell_type": "code",
   "execution_count": 19,
   "metadata": {
    "colab": {
     "base_uri": "https://localhost:8080/",
     "height": 104
    },
    "colab_type": "code",
    "executionInfo": {
     "elapsed": 350,
     "status": "ok",
     "timestamp": 1557178740967,
     "user": {
      "displayName": "Guilherme Regos Zamorano",
      "photoUrl": "",
      "userId": "17407596423518156867"
     },
     "user_tz": 300
    },
    "id": "CCCfgVL_Pcjw",
    "outputId": "79cd1331-27cc-46d3-fe02-3dc2cda4c6ae"
   },
   "outputs": [
    {
     "name": "stdout",
     "output_type": "stream",
     "text": [
      "avg likes/mean:\n",
      "1.0000000000000009\n",
      "std likes/mean:\n",
      "0.5068692569675557\n",
      "mean absolute percentage difference: 55.40%, std absolute percentage difference.: 128.68%\n"
     ]
    }
   ],
   "source": [
    "percentDiff1 = (diff1 / Y_test) * 100\n",
    "\n",
    "absPercentDiff1 = np.abs(percentDiff1)\n",
    "mean1 = np.mean(absPercentDiff1)\n",
    "std1 = np.std(absPercentDiff1)\n",
    " \n",
    "import locale\n",
    "locale.setlocale(locale.LC_ALL, \"en_US.UTF-8\")\n",
    "print(\"avg likes/mean:\")\n",
    "print(Regression_data_continuous[\"number_of_likes/mean\"].mean())\n",
    "print(\"std likes/mean:\")\n",
    "print(Regression_data_continuous[\"number_of_likes/mean\"].std())\n",
    "print(\"mean absolute percentage difference: {:.2f}%, std absolute percentage difference.: {:.2f}%\".format(mean1, std1))"
   ]
  },
  {
   "cell_type": "code",
   "execution_count": 20,
   "metadata": {
    "colab": {
     "base_uri": "https://localhost:8080/",
     "height": 52
    },
    "colab_type": "code",
    "executionInfo": {
     "elapsed": 794,
     "status": "ok",
     "timestamp": 1557178744707,
     "user": {
      "displayName": "Guilherme Regos Zamorano",
      "photoUrl": "",
      "userId": "17407596423518156867"
     },
     "user_tz": 300
    },
    "id": "82u6YEDKwezH",
    "outputId": "eb9d91e0-25e4-416b-98f4-5cddeb416da9"
   },
   "outputs": [
    {
     "name": "stdout",
     "output_type": "stream",
     "text": [
      "0.0864695704296728\n",
      "0.08078056539765215\n"
     ]
    }
   ],
   "source": [
    "from sklearn import metrics\n",
    "preds_full = model1.predict(X)\n",
    "print(np.sqrt(metrics.mean_squared_error(Y_test, preds1)))\n",
    "print(np.sqrt(metrics.mean_squared_error(Y, preds_full)))"
   ]
  },
  {
   "cell_type": "code",
   "execution_count": 21,
   "metadata": {
    "colab": {
     "base_uri": "https://localhost:8080/",
     "height": 52
    },
    "colab_type": "code",
    "executionInfo": {
     "elapsed": 548,
     "status": "ok",
     "timestamp": 1557178747016,
     "user": {
      "displayName": "Guilherme Regos Zamorano",
      "photoUrl": "",
      "userId": "17407596423518156867"
     },
     "user_tz": 300
    },
    "id": "PueCU39h3lcU",
    "outputId": "99cb429d-58ee-4286-d030-bdccde467cee"
   },
   "outputs": [
    {
     "name": "stdout",
     "output_type": "stream",
     "text": [
      "0.019700601273513585\n",
      "0.08941136518106363\n"
     ]
    }
   ],
   "source": [
    "print(metrics.r2_score(Y_test, preds1))\n",
    "print(metrics.r2_score(Y, preds_full))"
   ]
  },
  {
   "cell_type": "code",
   "execution_count": 0,
   "metadata": {
    "colab": {},
    "colab_type": "code",
    "id": "DpyicGJv5MJA"
   },
   "outputs": [],
   "source": [
    "preds_full = preds_full.reshape((20668,))"
   ]
  },
  {
   "cell_type": "code",
   "execution_count": 0,
   "metadata": {
    "colab": {},
    "colab_type": "code",
    "id": "JPx9LKCt4thY"
   },
   "outputs": [],
   "source": [
    "Y1 = Regression_data_continuous[\"number_of_likes/mean\"] \n",
    "\n",
    "preds_full = preds_full * maxPrice\n"
   ]
  },
  {
   "cell_type": "code",
   "execution_count": 24,
   "metadata": {
    "colab": {
     "base_uri": "https://localhost:8080/",
     "height": 754
    },
    "colab_type": "code",
    "executionInfo": {
     "elapsed": 533,
     "status": "ok",
     "timestamp": 1557178760033,
     "user": {
      "displayName": "Guilherme Regos Zamorano",
      "photoUrl": "",
      "userId": "17407596423518156867"
     },
     "user_tz": 300
    },
    "id": "opYzP5-ZOii3",
    "outputId": "27c66d83-c632-4002-8b5f-b60a4b7b2e76"
   },
   "outputs": [
    {
     "data": {
      "text/html": [
       "<div>\n",
       "<style scoped>\n",
       "    .dataframe tbody tr th:only-of-type {\n",
       "        vertical-align: middle;\n",
       "    }\n",
       "\n",
       "    .dataframe tbody tr th {\n",
       "        vertical-align: top;\n",
       "    }\n",
       "\n",
       "    .dataframe thead th {\n",
       "        text-align: right;\n",
       "    }\n",
       "</style>\n",
       "<table border=\"1\" class=\"dataframe\">\n",
       "  <thead>\n",
       "    <tr style=\"text-align: right;\">\n",
       "      <th></th>\n",
       "      <th>Prediction</th>\n",
       "      <th>Actual</th>\n",
       "    </tr>\n",
       "  </thead>\n",
       "  <tbody>\n",
       "    <tr>\n",
       "      <th>0</th>\n",
       "      <td>0.972450</td>\n",
       "      <td>0.697678</td>\n",
       "    </tr>\n",
       "    <tr>\n",
       "      <th>1</th>\n",
       "      <td>0.970846</td>\n",
       "      <td>1.132276</td>\n",
       "    </tr>\n",
       "    <tr>\n",
       "      <th>2</th>\n",
       "      <td>1.005902</td>\n",
       "      <td>0.641902</td>\n",
       "    </tr>\n",
       "    <tr>\n",
       "      <th>3</th>\n",
       "      <td>1.009154</td>\n",
       "      <td>1.072790</td>\n",
       "    </tr>\n",
       "    <tr>\n",
       "      <th>4</th>\n",
       "      <td>0.977843</td>\n",
       "      <td>1.059753</td>\n",
       "    </tr>\n",
       "    <tr>\n",
       "      <th>5</th>\n",
       "      <td>1.057359</td>\n",
       "      <td>1.177626</td>\n",
       "    </tr>\n",
       "    <tr>\n",
       "      <th>6</th>\n",
       "      <td>1.023160</td>\n",
       "      <td>1.101678</td>\n",
       "    </tr>\n",
       "    <tr>\n",
       "      <th>7</th>\n",
       "      <td>1.107260</td>\n",
       "      <td>1.154272</td>\n",
       "    </tr>\n",
       "    <tr>\n",
       "      <th>8</th>\n",
       "      <td>1.053476</td>\n",
       "      <td>1.012914</td>\n",
       "    </tr>\n",
       "    <tr>\n",
       "      <th>9</th>\n",
       "      <td>1.000863</td>\n",
       "      <td>1.057489</td>\n",
       "    </tr>\n",
       "    <tr>\n",
       "      <th>10</th>\n",
       "      <td>1.018648</td>\n",
       "      <td>0.891623</td>\n",
       "    </tr>\n",
       "    <tr>\n",
       "      <th>11</th>\n",
       "      <td>0.600176</td>\n",
       "      <td>0.235546</td>\n",
       "    </tr>\n",
       "    <tr>\n",
       "      <th>12</th>\n",
       "      <td>1.023025</td>\n",
       "      <td>0.343076</td>\n",
       "    </tr>\n",
       "    <tr>\n",
       "      <th>13</th>\n",
       "      <td>1.027062</td>\n",
       "      <td>0.743466</td>\n",
       "    </tr>\n",
       "    <tr>\n",
       "      <th>14</th>\n",
       "      <td>1.052019</td>\n",
       "      <td>1.102865</td>\n",
       "    </tr>\n",
       "    <tr>\n",
       "      <th>15</th>\n",
       "      <td>1.033897</td>\n",
       "      <td>1.064485</td>\n",
       "    </tr>\n",
       "    <tr>\n",
       "      <th>16</th>\n",
       "      <td>0.679717</td>\n",
       "      <td>1.103734</td>\n",
       "    </tr>\n",
       "    <tr>\n",
       "      <th>17</th>\n",
       "      <td>0.989557</td>\n",
       "      <td>1.692622</td>\n",
       "    </tr>\n",
       "    <tr>\n",
       "      <th>18</th>\n",
       "      <td>1.061862</td>\n",
       "      <td>0.963547</td>\n",
       "    </tr>\n",
       "    <tr>\n",
       "      <th>19</th>\n",
       "      <td>0.999555</td>\n",
       "      <td>0.955169</td>\n",
       "    </tr>\n",
       "    <tr>\n",
       "      <th>20</th>\n",
       "      <td>1.107842</td>\n",
       "      <td>1.938329</td>\n",
       "    </tr>\n",
       "    <tr>\n",
       "      <th>21</th>\n",
       "      <td>0.600278</td>\n",
       "      <td>0.857162</td>\n",
       "    </tr>\n",
       "    <tr>\n",
       "      <th>22</th>\n",
       "      <td>0.953809</td>\n",
       "      <td>1.362264</td>\n",
       "    </tr>\n",
       "  </tbody>\n",
       "</table>\n",
       "</div>"
      ],
      "text/plain": [
       "    Prediction    Actual\n",
       "0     0.972450  0.697678\n",
       "1     0.970846  1.132276\n",
       "2     1.005902  0.641902\n",
       "3     1.009154  1.072790\n",
       "4     0.977843  1.059753\n",
       "5     1.057359  1.177626\n",
       "6     1.023160  1.101678\n",
       "7     1.107260  1.154272\n",
       "8     1.053476  1.012914\n",
       "9     1.000863  1.057489\n",
       "10    1.018648  0.891623\n",
       "11    0.600176  0.235546\n",
       "12    1.023025  0.343076\n",
       "13    1.027062  0.743466\n",
       "14    1.052019  1.102865\n",
       "15    1.033897  1.064485\n",
       "16    0.679717  1.103734\n",
       "17    0.989557  1.692622\n",
       "18    1.061862  0.963547\n",
       "19    0.999555  0.955169\n",
       "20    1.107842  1.938329\n",
       "21    0.600278  0.857162\n",
       "22    0.953809  1.362264"
      ]
     },
     "execution_count": 24,
     "metadata": {
      "tags": []
     },
     "output_type": "execute_result"
    }
   ],
   "source": [
    "compare = pd.DataFrame({'Prediction': preds_full, 'Actual' : Y1})\n",
    "compare.head(23)"
   ]
  },
  {
   "cell_type": "code",
   "execution_count": 0,
   "metadata": {
    "colab": {},
    "colab_type": "code",
    "id": "INiw92708ue1"
   },
   "outputs": [],
   "source": [
    "Small_difference = abs((Regression_data_continuous[\"number_of_likes/mean\"].values) - preds_full)  < 0.05\n",
    "med_difference = abs((Regression_data_continuous[\"number_of_likes/mean\"].values) - preds_full)  < 0.25\n",
    "Big_difference = abs((Regression_data_continuous[\"number_of_likes/mean\"].values) - preds_full)  > 0.5"
   ]
  },
  {
   "cell_type": "code",
   "execution_count": 26,
   "metadata": {
    "colab": {
     "base_uri": "https://localhost:8080/",
     "height": 35
    },
    "colab_type": "code",
    "executionInfo": {
     "elapsed": 526,
     "status": "ok",
     "timestamp": 1557178774451,
     "user": {
      "displayName": "Guilherme Regos Zamorano",
      "photoUrl": "",
      "userId": "17407596423518156867"
     },
     "user_tz": 300
    },
    "id": "_KCslnau_BmM",
    "outputId": "462491c2-1a9d-4367-8dd0-a13ece226a95"
   },
   "outputs": [
    {
     "data": {
      "text/plain": [
       "2197"
      ]
     },
     "execution_count": 26,
     "metadata": {
      "tags": []
     },
     "output_type": "execute_result"
    }
   ],
   "source": [
    "Regression_data_continuous[Small_difference].shape[0]"
   ]
  },
  {
   "cell_type": "code",
   "execution_count": 29,
   "metadata": {
    "colab": {
     "base_uri": "https://localhost:8080/",
     "height": 35
    },
    "colab_type": "code",
    "executionInfo": {
     "elapsed": 536,
     "status": "ok",
     "timestamp": 1557178785489,
     "user": {
      "displayName": "Guilherme Regos Zamorano",
      "photoUrl": "",
      "userId": "17407596423518156867"
     },
     "user_tz": 300
    },
    "id": "GxSf6IoGO1Wa",
    "outputId": "ce2d6008-18bd-4a23-eb12-b79bcac31e89"
   },
   "outputs": [
    {
     "data": {
      "text/plain": [
       "10069"
      ]
     },
     "execution_count": 29,
     "metadata": {
      "tags": []
     },
     "output_type": "execute_result"
    }
   ],
   "source": [
    "Regression_data_continuous[med_difference].shape[0]"
   ]
  },
  {
   "cell_type": "code",
   "execution_count": 0,
   "metadata": {
    "colab": {},
    "colab_type": "code",
    "id": "ctZf51Od9Odr"
   },
   "outputs": [],
   "source": [
    "idx_vals = Regression_data_continuous[Small_difference].index.values\n",
    "idx_big_vals = Regression_data_continuous[Big_difference].index.values"
   ]
  },
  {
   "cell_type": "code",
   "execution_count": 31,
   "metadata": {
    "colab": {
     "base_uri": "https://localhost:8080/",
     "height": 295
    },
    "colab_type": "code",
    "executionInfo": {
     "elapsed": 555,
     "status": "ok",
     "timestamp": 1557178791594,
     "user": {
      "displayName": "Guilherme Regos Zamorano",
      "photoUrl": "",
      "userId": "17407596423518156867"
     },
     "user_tz": 300
    },
    "id": "H5JOzarC-F6L",
    "outputId": "08b931e3-a722-40f0-8440-6ac202802992"
   },
   "outputs": [
    {
     "name": "stderr",
     "output_type": "stream",
     "text": [
      "/usr/local/lib/python3.6/dist-packages/ipykernel_launcher.py:1: DeprecationWarning: \n",
      ".ix is deprecated. Please use\n",
      ".loc for label based indexing or\n",
      ".iloc for positional indexing\n",
      "\n",
      "See the documentation here:\n",
      "http://pandas.pydata.org/pandas-docs/stable/indexing.html#ix-indexer-is-deprecated\n",
      "  \"\"\"Entry point for launching an IPython kernel.\n",
      "/usr/local/lib/python3.6/dist-packages/ipykernel_launcher.py:2: DeprecationWarning: \n",
      ".ix is deprecated. Please use\n",
      ".loc for label based indexing or\n",
      ".iloc for positional indexing\n",
      "\n",
      "See the documentation here:\n",
      "http://pandas.pydata.org/pandas-docs/stable/indexing.html#ix-indexer-is-deprecated\n",
      "  \n"
     ]
    }
   ],
   "source": [
    "compare1 = compare.ix[idx_vals]\n",
    "compare2 = compare.ix[idx_big_vals]"
   ]
  },
  {
   "cell_type": "code",
   "execution_count": 32,
   "metadata": {
    "colab": {
     "base_uri": "https://localhost:8080/",
     "height": 355
    },
    "colab_type": "code",
    "executionInfo": {
     "elapsed": 531,
     "status": "ok",
     "timestamp": 1557178794260,
     "user": {
      "displayName": "Guilherme Regos Zamorano",
      "photoUrl": "",
      "userId": "17407596423518156867"
     },
     "user_tz": 300
    },
    "id": "691gdOq6-i4a",
    "outputId": "8a76d0a8-0e9f-43ae-9ff8-cc927d0387b9"
   },
   "outputs": [
    {
     "data": {
      "text/html": [
       "<div>\n",
       "<style scoped>\n",
       "    .dataframe tbody tr th:only-of-type {\n",
       "        vertical-align: middle;\n",
       "    }\n",
       "\n",
       "    .dataframe tbody tr th {\n",
       "        vertical-align: top;\n",
       "    }\n",
       "\n",
       "    .dataframe thead th {\n",
       "        text-align: right;\n",
       "    }\n",
       "</style>\n",
       "<table border=\"1\" class=\"dataframe\">\n",
       "  <thead>\n",
       "    <tr style=\"text-align: right;\">\n",
       "      <th></th>\n",
       "      <th>Prediction</th>\n",
       "      <th>Actual</th>\n",
       "    </tr>\n",
       "  </thead>\n",
       "  <tbody>\n",
       "    <tr>\n",
       "      <th>7</th>\n",
       "      <td>1.107260</td>\n",
       "      <td>1.154272</td>\n",
       "    </tr>\n",
       "    <tr>\n",
       "      <th>8</th>\n",
       "      <td>1.053476</td>\n",
       "      <td>1.012914</td>\n",
       "    </tr>\n",
       "    <tr>\n",
       "      <th>15</th>\n",
       "      <td>1.033897</td>\n",
       "      <td>1.064485</td>\n",
       "    </tr>\n",
       "    <tr>\n",
       "      <th>19</th>\n",
       "      <td>0.999555</td>\n",
       "      <td>0.955169</td>\n",
       "    </tr>\n",
       "    <tr>\n",
       "      <th>41</th>\n",
       "      <td>0.917901</td>\n",
       "      <td>0.936587</td>\n",
       "    </tr>\n",
       "    <tr>\n",
       "      <th>52</th>\n",
       "      <td>0.762586</td>\n",
       "      <td>0.722908</td>\n",
       "    </tr>\n",
       "    <tr>\n",
       "      <th>58</th>\n",
       "      <td>1.040622</td>\n",
       "      <td>1.084068</td>\n",
       "    </tr>\n",
       "    <tr>\n",
       "      <th>83</th>\n",
       "      <td>1.022935</td>\n",
       "      <td>0.983480</td>\n",
       "    </tr>\n",
       "    <tr>\n",
       "      <th>110</th>\n",
       "      <td>0.990788</td>\n",
       "      <td>0.967900</td>\n",
       "    </tr>\n",
       "    <tr>\n",
       "      <th>115</th>\n",
       "      <td>0.851600</td>\n",
       "      <td>0.845677</td>\n",
       "    </tr>\n",
       "  </tbody>\n",
       "</table>\n",
       "</div>"
      ],
      "text/plain": [
       "     Prediction    Actual\n",
       "7      1.107260  1.154272\n",
       "8      1.053476  1.012914\n",
       "15     1.033897  1.064485\n",
       "19     0.999555  0.955169\n",
       "41     0.917901  0.936587\n",
       "52     0.762586  0.722908\n",
       "58     1.040622  1.084068\n",
       "83     1.022935  0.983480\n",
       "110    0.990788  0.967900\n",
       "115    0.851600  0.845677"
      ]
     },
     "execution_count": 32,
     "metadata": {
      "tags": []
     },
     "output_type": "execute_result"
    }
   ],
   "source": [
    "compare1.head(10)"
   ]
  },
  {
   "cell_type": "code",
   "execution_count": 34,
   "metadata": {
    "colab": {
     "base_uri": "https://localhost:8080/",
     "height": 295
    },
    "colab_type": "code",
    "executionInfo": {
     "elapsed": 1630,
     "status": "ok",
     "timestamp": 1557178820867,
     "user": {
      "displayName": "Guilherme Regos Zamorano",
      "photoUrl": "",
      "userId": "17407596423518156867"
     },
     "user_tz": 300
    },
    "id": "89EdK9hI-tRs",
    "outputId": "a2ecc968-fae6-413d-f48a-4e946a6f244b"
   },
   "outputs": [
    {
     "data": {
      "image/png": "[encoded data removed]",
      "text/plain": [
       "<Figure size 432x288 with 1 Axes>"
      ]
     },
     "metadata": {
      "tags": []
     },
     "output_type": "display_data"
    }
   ],
   "source": [
    "from  matplotlib import pyplot \n",
    "pyplot.scatter(Regression_data_continuous[\"number_of_likes/mean\"].values, preds_full)\n",
    "z = np.polyfit(Regression_data_continuous[\"number_of_likes/mean\"].values, preds_full, 1)\n",
    "p = np.poly1d(z)\n",
    "pyplot.plot(Regression_data_continuous[\"number_of_likes/mean\"].values,p(Regression_data_continuous[\"number_of_likes/mean\"].values),\"r--\")\n",
    "pyplot.title(\"Predicted Likes Over Mean vs True Likes Over Mean\")\n",
    "pyplot.xlabel(\"True Number of Likes Over Mean\")\n",
    "pyplot.ylabel(\"Predicted Number of Likes Over\")\n",
    "pyplot.show()"
   ]
  },
  {
   "cell_type": "code",
   "execution_count": 0,
   "metadata": {
    "colab": {},
    "colab_type": "code",
    "id": "X8PL6GAkTNoU"
   },
   "outputs": [],
   "source": [
    "model1.save(\"/content/gdrive/My Drive/data_model.h5\")"
   ]
  }
 ],
 "metadata": {
  "accelerator": "GPU",
  "colab": {
   "collapsed_sections": [],
   "name": "DataRegression.ipynb",
   "provenance": [],
   "version": "0.3.2"
  },
  "kernelspec": {
   "display_name": "Python 3 (ipykernel)",
   "language": "python",
   "name": "python3"
  },
  "language_info": {
   "codemirror_mode": {
    "name": "ipython",
    "version": 3
   },
   "file_extension": ".py",
   "mimetype": "text/x-python",
   "name": "python",
   "nbconvert_exporter": "python",
   "pygments_lexer": "ipython3",
   "version": "3.9.6"
  }
 },
 "nbformat": 4,
 "nbformat_minor": 1
}
