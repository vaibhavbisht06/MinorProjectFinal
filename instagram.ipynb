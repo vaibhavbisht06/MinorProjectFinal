{
 "cells": [
  {
   "cell_type": "code",
   "execution_count": 1,
   "metadata": {
    "colab": {
     "base_uri": "https://localhost:8080/"
    },
    "executionInfo": {
     "elapsed": 4524,
     "status": "ok",
     "timestamp": 1632981906600,
     "user": {
      "displayName": "Jyotsna Bisht",
      "photoUrl": "https://lh3.googleusercontent.com/a-/AOh14GiwqMjAYTnEiawyJJWKlc8XVlDKBRMm7YxhZKtUcw=s64",
      "userId": "03539750941216959448"
     },
     "user_tz": -330
    },
    "id": "mV2uD0U6Tlk2",
    "outputId": "7b5544d5-4d96-4a60-b677-fde78f95f08c"
   },
   "outputs": [
    {
     "name": "stdout",
     "output_type": "stream",
     "text": [
      "Requirement already satisfied: selenium in c:\\users\\jyots\\appdata\\local\\programs\\python\\python39\\lib\\site-packages (3.141.0)\n",
      "Requirement already satisfied: urllib3 in c:\\users\\jyots\\appdata\\local\\programs\\python\\python39\\lib\\site-packages (from selenium) (1.26.7)\n"
     ]
    }
   ],
   "source": [
    "! pip install selenium"
   ]
  },
  {
   "cell_type": "code",
   "execution_count": 2,
   "metadata": {
    "colab": {
     "base_uri": "https://localhost:8080/"
    },
    "executionInfo": {
     "elapsed": 3689,
     "status": "ok",
     "timestamp": 1632981928488,
     "user": {
      "displayName": "Jyotsna Bisht",
      "photoUrl": "https://lh3.googleusercontent.com/a-/AOh14GiwqMjAYTnEiawyJJWKlc8XVlDKBRMm7YxhZKtUcw=s64",
      "userId": "03539750941216959448"
     },
     "user_tz": -330
    },
    "id": "BGH24ZsUTrMJ",
    "outputId": "65efa4cb-914c-45f5-dbb7-507055b7648b"
   },
   "outputs": [
    {
     "name": "stdout",
     "output_type": "stream",
     "text": [
      "Requirement already satisfied: webdriver-manager in c:\\users\\jyots\\appdata\\local\\programs\\python\\python39\\lib\\site-packages (3.4.2)\n",
      "Requirement already satisfied: configparser in c:\\users\\jyots\\appdata\\local\\programs\\python\\python39\\lib\\site-packages (from webdriver-manager) (5.0.2)\n",
      "Requirement already satisfied: crayons in c:\\users\\jyots\\appdata\\local\\programs\\python\\python39\\lib\\site-packages (from webdriver-manager) (0.4.0)\n",
      "Requirement already satisfied: requests in c:\\users\\jyots\\appdata\\local\\programs\\python\\python39\\lib\\site-packages (from webdriver-manager) (2.26.0)\n",
      "Requirement already satisfied: colorama in c:\\users\\jyots\\appdata\\local\\programs\\python\\python39\\lib\\site-packages (from crayons->webdriver-manager) (0.4.4)\n",
      "Requirement already satisfied: charset-normalizer~=2.0.0 in c:\\users\\jyots\\appdata\\local\\programs\\python\\python39\\lib\\site-packages (from requests->webdriver-manager) (2.0.6)\n",
      "Requirement already satisfied: certifi>=2017.4.17 in c:\\users\\jyots\\appdata\\local\\programs\\python\\python39\\lib\\site-packages (from requests->webdriver-manager) (2021.5.30)\n",
      "Requirement already satisfied: idna<4,>=2.5 in c:\\users\\jyots\\appdata\\local\\programs\\python\\python39\\lib\\site-packages (from requests->webdriver-manager) (3.2)\n",
      "Requirement already satisfied: urllib3<1.27,>=1.21.1 in c:\\users\\jyots\\appdata\\local\\programs\\python\\python39\\lib\\site-packages (from requests->webdriver-manager) (1.26.7)\n"
     ]
    }
   ],
   "source": [
    "!pip install webdriver-manager"
   ]
  },
  {
   "cell_type": "code",
   "execution_count": 17,
   "metadata": {
    "colab": {
     "base_uri": "https://localhost:8080/"
    },
    "executionInfo": {
     "elapsed": 5,
     "status": "ok",
     "timestamp": 1632981928489,
     "user": {
      "displayName": "Jyotsna Bisht",
      "photoUrl": "https://lh3.googleusercontent.com/a-/AOh14GiwqMjAYTnEiawyJJWKlc8XVlDKBRMm7YxhZKtUcw=s64",
      "userId": "03539750941216959448"
     },
     "user_tz": -330
    },
    "id": "wmIYK6cXRT6a",
    "outputId": "98e163ba-9fcc-4d23-94aa-a4dc5be6914c"
   },
   "outputs": [
    {
     "name": "stdout",
     "output_type": "stream",
     "text": [
      "3.141.0\n"
     ]
    }
   ],
   "source": [
    "import selenium\n",
    "import re\n",
    "\n",
    "print(selenium.__version__)\n"
   ]
  },
  {
   "cell_type": "code",
   "execution_count": 18,
   "metadata": {
    "colab": {
     "base_uri": "https://localhost:8080/"
    },
    "executionInfo": {
     "elapsed": 1372,
     "status": "ok",
     "timestamp": 1632996519926,
     "user": {
      "displayName": "Jyotsna Bisht",
      "photoUrl": "https://lh3.googleusercontent.com/a-/AOh14GiwqMjAYTnEiawyJJWKlc8XVlDKBRMm7YxhZKtUcw=s64",
      "userId": "03539750941216959448"
     },
     "user_tz": -330
    },
    "id": "bN1KkDjyuI7V",
    "outputId": "3c4afaf7-0502-48f7-fa0a-1f8e4683abeb"
   },
   "outputs": [
    {
     "name": "stderr",
     "output_type": "stream",
     "text": [
      "C:\\Users\\jyots\\AppData\\Local\\Temp/ipykernel_144/2417884852.py:10: DeprecationWarning: use options instead of chrome_options\n",
      "  driver = webdriver.Chrome('chromedriver',chrome_options=chrome_options)\n"
     ]
    }
   ],
   "source": [
    "# !pip install selenium\n",
    "# !apt-get update \n",
    "# !apt install chromium-chromedriver\n",
    "\n",
    "from selenium import webdriver\n",
    "chrome_options = webdriver.ChromeOptions()\n",
    "chrome_options.add_argument('--headless')\n",
    "chrome_options.add_argument('--no-sandbox')\n",
    "chrome_options.add_argument('--disable-dev-shm-usage')\n",
    "driver = webdriver.Chrome('chromedriver',chrome_options=chrome_options)\n"
   ]
  },
  {
   "cell_type": "code",
   "execution_count": 19,
   "metadata": {
    "id": "1oSHIbSFuxGk"
   },
   "outputs": [],
   "source": [
    "driver.command_executor._commands[\"send_command\"] = (\"POST\", '/session/$sessionId/chromium/send_command')"
   ]
  },
  {
   "cell_type": "code",
   "execution_count": 20,
   "metadata": {
    "colab": {
     "base_uri": "https://localhost:8080/"
    },
    "executionInfo": {
     "elapsed": 29262,
     "status": "ok",
     "timestamp": 1632996549828,
     "user": {
      "displayName": "Jyotsna Bisht",
      "photoUrl": "https://lh3.googleusercontent.com/a-/AOh14GiwqMjAYTnEiawyJJWKlc8XVlDKBRMm7YxhZKtUcw=s64",
      "userId": "03539750941216959448"
     },
     "user_tz": -330
    },
    "id": "zY6BgEY6u58y",
    "outputId": "93651e61-7643-4332-e5a1-d0fadb67cc51"
   },
   "outputs": [
    {
     "name": "stdout",
     "output_type": "stream",
     "text": [
      "['cristiano', 'kyliejenner', 'leomessi', 'kimkardashian', 'selenagomez', 'arianagrande', 'kendalljenner', 'zendaya', 'billieeilish', 'lalalalisa_m', 'virat.kohli', 'neymarjr', 'beyonce', 'jennierubyjane', 'therock', 'badgalriri', 'khaby00', 'iamcardib', 'tomholland2013', 'harrystyles', 'sooyaaa__', 'kourtneykardash', 'gigihadid', 'roses_are_rosie', 'khloekardashian', 'dualipa', 'justinbieber', 'narendramodi', 'k.mbappe', 'instagram', 'zayn', 'nickiminaj', 'adele', 'jlo', 'champagnepapi', 'ester_exposito', 'anushkasharma', 'sergioramos', 'kingjames', 'mileycyrus', 'travisscott', 'milliebobbybrown', 'shraddhakapoor', 'gal_gadot', 'eunwo.o_c', 'aliaabhatt', 'charlidamelio', 'chrishemsworth', 'actorleeminho', 'karolg']\n",
      "['lilireinhart', 'vindiesel', 'deepikapadukone', 'dlwlrma', 'virginia', 'lelepons', 'shawnmendes', 'iamzlatanibrahimovic', 'handemiyy', 'oliviarodrigo', 'katrinakaif', 'realmadrid', 'danbilzerian', 'camimendes', 'anitta', 'ursulolita', 'akshaykumar', 'paulodybala', 'addisonraee', 'colesprouse', 'robertdowneyjr', 'nasa', 'katyperry', 'ronaldinho', 'georginagio', 'priyankachopra', 'dovecameron', 'camila_cabello', 'haileybieber', 'shakira', 'jenniferaniston', 'mosalah', 'meganfox', 'madisonbeer', 'paulpogba', 'zacefron', 'jongsuk0206', 'oohsehun', 'madelame', 'blakelively', 'davidbeckham', 'hrithikroshan', 'whinderssonnunes', 'fcbarcelona', 'bn_sj2013', 'dishapatani', 'rashmika_mandanna', 'jbalvin', 'iamsrk', 'willsmith']\n",
      "['bellahadid', 'antonelaroccuzzo', 'pewdiepie', 'sabrinacarpenter', 'riaricis1795', 'noahschnapp', 'norafatehi', 'jamesrodriguez10', 'nehakakkar', 'blackpinkofficial', 'maluma', 'louist91', 'tchalamet', 'saraalikhan95', 'joeyking', 'championsleague', 'beingsalmankhan', 'hoooooyeony', 'luisitocomunica', 'thenotoriousmma', 'hi_high_hiy', 'songkang_b', '433', 'hazardeden_10', 'kimberly.loaiza', 'miakhalifa', 'ddlovato', 'lanarhoades', 'madelyncline', 'britneyspears', 'iamhalsey', 'auronplay', 'brentrivera', 'nike', 'psg', 'kevinhart4real', 'xxxibgdrgn', 'tigerjackieshroff', 'manchesterunited', 'iansomerhalder', 'postmalone', 'zkdlin', 'emmachamberlain', 'twicetagram', 'jacquelinef143', 'tatawerneck', 'kunaguero', 'antogriezmann', 'theweeknd', 'chrisbrownofficial']\n",
      "['dixiedamelio', 'anuel', 'sadiesink_', 'brunamarquezine', 'jannatzubair29', 'karimbenzema', 'elrubiuswtf', 'juliette', 'aron.piper', 'justintimberlake', 'eminem', 'khabib_nurmagomedov', 'strangerthingstv', 'ranveersingh', 'daviddobrik', 'rohitsharma45', 'shahidkapoor', '_jeongjaehyun', 'carryminati', 'jamescharles', 'loganpaul', 'rosalia.vt', 'natgeo', 'asaprocky', 'lestykejora', 'skuukzky', 'theestallion', 'liampayne', 'taehyung.bighitentertainment', 'daddyyankee', 'ladygaga', 'kritisanon', 'wizkhalifa', 'bighit_ent', 'lanadelrey', 'tinistoessel', 'bellapoarch', 'nina', 'thedeverakonda', 'domelipa', 'finnwolfhardofficial', 'emrata', 'jacksonwang852g7', 'dra.deolanebezerra', 'varundvn', 'kapilsharma', 'nusr_et', 'miguel.g.herran', 'lilyjcollins', 'jacobelordi']\n",
      "['garethbale11', 'zefelipecantor', 'samantharuthprabhuoffl', 'carlinhosmaiaof', 'kiaraaliaadvani', 'cznburak', 'bellathorne', 'jichangwook', 'realstraykids', 'zidane', 'jimin_bighitentertainment', 'lewishamilton', 'marcelotwelve', 'urvashirautela', 'michelleobama', 'brunomars', 'kjapa', 'vanessamorgan', 'louispartridge_', 'iammichelemorroneofficial', '3gerardpique', 'henrycavill', 'larasilva', 'm10_official', 'raphaelvarane', 'leedongwook_official', 'taeyeon_ss', 'bretmanrock', 'marktuan', 'vancityreynolds', 'phil.coutinho', 'thebursin', 'samoylovaoxana', 'bambam1a', 'gianlucavacchi', 'paulolondra', 'tyga', 'rohittt_09_', 'mrbeast', 'realbarbarapalvin', 'zachking', 'ncentineo', 'leonardodicaprio', 'layzhang', 'natashawilona12', 'sachintendulkar', 'alluarjunonline', 'do0_nct', 'sommerray', 'taina']\n",
      "['gianlucavacchi', 'jaimelorentelo', 'luissuarez9', 'jin_bighitentertainment', 'hardikpandya93', 'sza', 'erling.haaland', 'feliciathegoat', 'natashawilona12', 'mr_faisu_07', 'juanpazurita', 'tyga', 'onyourm__ark', 'soohyun_k216', 'jokowi', 'seonho__kim', 'urvashirautela', 'teddysphotos', 'taina', 'dojacat', 'parineetichopra', 'sophiet', 'wi__wi__wi', 'sidmalhotra', 'paulwesley', 'e_xiu_o', 'ashishchanchlani', 'alexandradaddario', 'jhope_bighitentertainment', '_imyour_joy', 'gatenm123', 'manurios', 'lukamodric10', 'lilnasx', 'imsebastianstan', 'gusttavolima', 'angelinajolie', 'fernanfloo', 'evaluna', 'bbb', 'nct', 'heybiblee', 'playboicarti', 'greeicy', 'memphisdepay', 'rudeth', 'suga_bighitentertainment', 'cazzu', 'sommerray', 'somsomi0309']\n",
      "['playboicarti', 'fedez', 'rudeth', 'suga_bighitentertainment', 'cazzu', 'somsomi0309', 'gessicakayane', 'bhuvan.bam22', 'germangarmendia', 'tenlee_1001', 'iynemliarasbulut', 'nglkante', 'stephencurry30', 'kartikaaryan', 'hichasestokes', 'jheneaiko', 'jinyoung_0922jy', 'juandediospantoja', '_rl9', 'caradelevingne', 'anushkasen0408', 'm_kayoung', 'gusein.gasanov', 'avneetkaur_13', 'keniaos', 'jakepaul', 'hi_sseulgi', 'ananyapanday', 'floydmayweather', 'taeoxo_nct', 'bizarrap', 'anyataylorjoy', 'thehughjackman', 'offsetyrn', 'marshmellomusic', '7_luhan_m', 'vinijr', 'liluzivert', 'aurelie.hermansyah', 'yuyacst', 'abdevilliers17', 'johnnyjsuh', 'nickyjam', 'luisasonza', 'janhvikapoor', 'mirella', 'wow_kimsohyun', 'ms_puiyi', 'russwest44', 'kanyewest']\n",
      "['rahulkl', 'trippieredd', 'demetozdemir', 'jessicah_o', 'riyaz.14', 'alfinetei', 'yuu_taa_1026', 'wwiinn_7', 'nct127', 'schwarzenegger', 'maddieziegler', 'kevindebruyne', 'marcusrashford', 'demirose', 'lamborghini', 'mont.pantoja', 'charlieputh', 'phs1116', 'nickjonas', 'kyo1122', 'liverpoolfc', 'haileesteinfeld', 'nianaguerrero', 'loren', 'elrodrigocontreras', 'serna_amini', 'prattprattpratt', 'burakozcivit', 'lizgillz', 'gisele', 'machinegunkelly', 'frenkiedejong', 'marinaruybarbosa', 'daquan', 'debbyryan', 'kajalaggarwalofficial', 'briandadeyanara', 'sanchooo10', 'nancyajram', 'chiaraferragni', 'camilo', 'channingtatum', 'davido', 'donya', 'juventus', 'annakendrick47', 'lacasadepapel', 'sandrinna_11', 'maisa', 'loreimprota']\n",
      "['yoona__lim', 'melissamelmaia', 'rauwalejandro', 'chadwickboseman', 'sureshraina3', '_agentgirl_', 'pubity', 'vanessahudgens', 'easymoneysniper', 'avrillavigne', 'rizkybillar', 'shaymitchell', 'yugyeom', 'victoriajustice', 'rachel_mypark', 'leaelui', 'krisjenner', 'jesselingard', 'ciara', 'lilpump', 'mariapedraza_', 'dqsalmaan', 'malutrevejo', '_mariahwasa', 'hshq', 'julesleblanc', 'avani', 'peytonlist', 'ssinz7', 'ross_lynch', 'liamhemsworth', 'amberrose', 'lexibrookerivera', 'alvaromorte', 'lizasoberano', 'memezar', 'simoneses', 'madhuridixitnene', 'noahbeck', 'nct_dream', 'iamferv', 'dababy', 'ykaaar', 'bramastavrl', 'hassan_reyvandi', 'leeyoum262', 'paollaoliveirareal', 'itsmarziapie', 'saweetie', 'virgilvandijk']\n",
      "['faz3', 'toni.kr8s', 'todayis_wendy', 'ler_chek', 'darianrojasc', 'bbrightvc', 'darshanravaldz', 'belindapop', 'bclsinclair', 'f1', 'dylanminnette', 'hyunah_aa', 'lildurk', 'emmaroberts', 'txt_bighit', 'e_milygarcia', 'i_m_hendery', 'gururandhawa', 'sportscenter', 'paulwalker', 'troyesivan', 'jensenackles', 'mcpozedorodo', 'juki_lop', 'officialtomellis', 'karinakross', 'mathildtantot', 'therealcalebmclaughlin', 'nba', 'thenameisyash', 'giannis_an34', 'loud_victor', 'xeesoxee', 'marvelstudios', 'aliiiiiiiikarimi8', 'lucyhale', 'burcuozberk', 'corinnakopf', 'roddyricch', 'future', 'ldh_sky', 'choi_seung_hyun_tttop', 'alidaei', 'laurenlondon', 'marimaria', 'taylor_hill', 'dior', 'yasmine_sabri', 'ansufati', 'reesewitherspoon']\n",
      "['kaka', 'yasminabdelaziz_', 'sofiaalcastro', 'djxiao_888', 'maneskinofficial', 'salmahayek', 'mariaalice', 'lilpeep', 'davikah', 'min9yu_k', 'snoopdogg', 'enhypen', 'borodylia', 'krisjenner', 'aliiiiiiiikarimi8', 'lizakoshy', 'd_degeaofficial', 'angeldimariajm', 'lm_____ltm', 'morgen_shtern', 'vegetta777', 'liverpoolfc', 'friends', 'alfinetei', 'jorgelopez_as', 'marvel', 'paollaoliveirareal', 'nattyiceofficial', 'elliotpage', 'nicki.nicole', 'lanacondor', 'goar_avetisyan', 'nattinatasha', 'alexisren', 'bts.jungkook', 'theshilpashetty', 'apple', 'florencepugh', 'shanedawson', 'madisonbaileybabe', 'emmaroberts', 'vousmevoyez', 'viihtube', 'yastunes', 'o.dembele7', '__youngbae__', 'houseofhighlights', 'mterstegen1', 'simaria', 'golfarahani']\n"
     ]
    },
    {
     "name": "stdout",
     "output_type": "stream",
     "text": [
      "['aishwaryaraibachchan_arb', 'lizzobeeating', 'lucyhale', 'yerimiese', 'easportsfifa', 'stassiebaby', 'rogerfederer', 'carles5puyol', 'actorprabhas', 'ludmilla', 'coldplay', 'dylansprouse', 'timatiofficial', 'syifahadjureal', 'davidluiz23', 'anupamaparameswaran96', 'nehasharmaofficial', 'kingbach', 'memezar', 'realhinakhan', 'jailyneojeda', 'dukissj', 'pefabiodemelo', 'lilhuddy', 'nba', 'bianca', 'tamannaahspeaks', 'alexis_officia1', 'navidmohammadzadeh', 'vinniehacker', 'amybethmcnulty', 'pedroalonsoochoro', 'imouniroy', 'ksi', 'deolaneb_', 'conangray', 'brycehall', 'kittychicha', 'dindahw', 'amadorat', 'kiernanshipka', 'willyrex', 'roberto_firmino', 'kun11xd', 'adamsandler', 'kehlani', 'valeyellow46', 'ashleygraham', 'zoesugg', 'kyrieirving']\n",
      "['divyankatripathidahiya', 'thiagosilva', 'vickykaushal09', 'falcao', 'ibaillanos', 'quavohuncho', 'xsqueezie', 'nadin_serovski', 'yangyang_x2', 'mahnaz_afshar', 'romeosantos', 't22felton', 'ladivaza', 'weareone.exo', 'djokernole', 'hilaryduff', 'hannahstocking', 'celestebarber', 'andresiniesta8', 'nobrutv', 'ivanmartinez', 'joel_courtney', 'angeliqueboyer', 'ileana_official', 'kingryan', 'trueno', 'sincerooficial', 'melo', 'joaogomescantor', 'marcoasensio10', 'eizagonzalez', 'markiplier', 'arishfakhan138', 'bernardokath', 'nikitadragun', 'lilbaby', 'soueunavida', 'candiceking', 'sonu_sood', 'tiffanyyoungofficial', 'romelulukaku', 'courteneycoxofficial', 'mirandacosgrove', 'attahalilintar', 'hztttao', 'ruben_onsu', 'jessicajane99', 'netflix', 'rafakalimann', 'shreyaghoshal']\n",
      "['rubyrose', 'larray', 'ellenpompeo', 'sofiacarson', 'theellenshow', 'danialves', 'francinyehlke', 'sav.labrant', 'aleoliveiracm', 'f1', 'leighannepinnock', 'hannahelzahed', 'lucasranngel', 'ahmedhelmy', 'kenzie', 'achrafhakimi', 'narins_beauty', 'asabopp', 'mo.on_air', 'saythename_17', 'bmw', 'acunilicali', 'fuckjerry', 'elcinsangu', 'keerthysureshofficial', 'aislinnderbez', 'jeremyrenner', 'polo.capalot', 'alghazali7', 'beberexha', 'edwestwick', 'phoebejtonkin', 'wizkidayo', 'deiveleonardo', 'joshrichards', 'amitabhbachchan', 'btstae', '_shotaroo_', 'urstrulymahesh', 'cleo', 'joshuadun', 'soyneiva', 'jaspritb1', 'dearra', 'carladiaz', 'anllela_sagra', 'alexademie', 'nazriyafahadh', 'sonamkapoor', 'miguel_bernardeau']\n",
      "['pele', 'ratantata', 'karna.val', 'gildovigor', 'queennaija', 'dudewithsign', 'luara', 'diljitdosanjh', 'kevinho', 'k.kbeom', '5sos', 'egorkreed', 'tylerposey58', 'prillylatuconsina96', 'bigsean', 'yamigautam', 'karolsevillaofc', 'pharrell', 'dava_m', 'wayvofficial', 'hazalkaya', 'nodal', 'aykutelmas', 'claudiasalas_', 'galatasaray', 'donia.samir.ghanem', 'fcbayern', 'smtown', 'nita_shilimkar', 'realcoleworld', 'andreavaldirisos', 'kajol', 'teyanataylor', 'sebastianyatra', 'irinashayk', 'sadiomaneofficiel', 'joaoguilherme', 'claireholt', 'iza', 'kimloaiza.dos', 'hadise', 'fortnite', 'jairmessiasbolsonaro', 'loud_babi', 'watanabenaomi703', 'winmetawin', 'jacksepticeye', 'rezagolzar', 'reynmen', 'naileadevora']\n",
      "['felicyangelista_', 'ashleybenson', 'gima_ashi', 'lunay', 'eliana', 'youngdae0302', 'tommyinnitt', 'alvaroricoladera', 'sidhu_moosewala', 'actor_jg', 'noorstars', 'pokimanelol', 'agnezmo', 'mariabecerra', 'tombrady', 'ewsbdi', 'ozutochi', 'ozuna', 'c.syresmith', 'anthonyjoshua', 'yejinhand', 'mmoonstar', 'riyadmahrez26.7', 'smriti_mandhana', 'porsche', 'yuvisofficial', 'nikkietutorials', 'brunofernandes.10', 'hyeri_0609', 'ricky_martin', 'dean.schneider', 'enriqueiglesias', 'kingarturo23oficial', 'dbook', 'nadine.nassib.njeim', 'jashlem', 'khiza_13', 'asalamaleh', 'ivetesangalo', 'holyhaein', 'cavaniofficial21', 'ebi', 'yuzi_chahal23', 'jesynelson', 'adrianalima', 'hasnaink07', 'jaybnow.hr', 'angelrai07', 'normani', 'frenchmontana', 'lakers']\n",
      "['rayssalealsk8', 'itzan.escamilla', 'grefg_official', 'jasonderulo', 'vivi', 'klaythompson', 'pabllovittar', 'felipeneto', 'redvelvet.smtown', 'pink', 'alvaromorata', 'saipallavi.senthamarai', 'netflixlat', 'orianasabatini', 'itzy.all.in.us', 'sooyoungchoi', 'lala', 'dwyanewade', 'maisie_williams', 'ferrari', 'alok', 'nikefootball', 'imalanstokes', 'vicdeangelis', 'brooklynbeckham', 'isaias', 'fabriziorom', 'myketowers', 'chaelincl', 'angela_aguilar_', 'dejesusoficial', 'nastya_nass_', 'benazelart', 'staceysolomon', 'bhadbhabie', 'raisa6690', 'iqbaal.e', 'isisvalverde', 'joshu_acoustic', 'sarwendah29', 'emiliovmartinez', 'obx', 'nessabarrett', 'thuggerthugger1', 'mohamedramadanws', 'georgenotfound', 'rakulpreet', 'auba', 'littlemix', 'emmatmackey']\n",
      "['zhanabylov_e', 'lukadoncic', 'bakzera', 'xuminghao_o', 'arducbrs', 'aidanrgallagher', 'jadepicon', 'ashanty_ash', 'jordialbaoficial', 'jackgrealish', 'gabriellasaraivah', 'bugatti', 'dilettaleotta', 'gianluigibuffon', 'pugachevmark', 'kanganaranaut', 'anasmarwah', 'loud_thurzin', 'beautifuldestinations', 'camilaloures', 'catriona_gray', 'gabigol', 'markruffalo', 'itsfelixwhat', 'superm', 'chloegmoretz', 'alvxaro', 'serenawilliams', 'karljacobs', 'jojotodynho', 'bibisbeautypalace', 'aycaaysinturan', 'gioewbank', 'brianmaps', 'lukehemmings', 'kto_takaya', 'nashgrier', 'tiagoleifert', 'nadine', 'mohanshakti', 'casemiro', 'serenayss', 'jenniferwinget1', 'martingarrix', 'gucci', 'amandacerny', 'najwashihab', 'willevy', 'dagelan', 'ginaindelicada']\n",
      "['playstation', 'drdre', 'wilbursoot', 'colleen', 'itsjojosiwa', 'luansantana', 'sthefanematos', 'cvillaloboss', 'djsnake', 'alissaviolet', 'praybeytbenjamin', 'rafaeluccman', 'landonorris', 'syahnazs', 'raditya_dika', 'ayutingting92', 'irodolffo', 'marcinho11', 'libardoisaza', 'mejiwoo103', 'brielarson', 'cole.labrant', 'jadethirlwall', 'supercarblondie', 'skaijackson', 'lilyachty', 'manuelneuer', 'cinthiacruz_', 'gretathunberg', 'daniel.k.here', 'enginaltandzytn', 'spacex', 'iiqraaziz', 'disney', 'tomo.y9', 'torylanez', 'antdavis23', 'iam_linyi', 'gabibrandt', 'youna_1997', 'officialslystallone', 'mario_houses', 'sushitrash', 'jordi.koalitic', 'natgeotravel', 'canyaman', 'regejean', 'tirullipa', 'negodoborel', 'camerondallas']\n",
      "['rafaeluccman', 'gabibrandt', 'imalexstokes', 'masonmount', 'elnazshakerdoost', 'natalee.007', 'supercarblondie', 'jessica.syj', 'peakyblindersofficial', 'kimheenim', 'ikercasillas', 'senoritasaeva', 'perspolis', 'arminzareeiofficial', 'tolgasaritas_', 'geneliad', 'jordi.koalitic', 'kawtarbamo', 'you_r_love', 'anyageraldine', 'gemmastyles', 'blonded', 'maxverstappen1', 'pocah', 'minalkhan.official', 'gucci', 'jeromepolin', 'kkvsh', 'litkillah', 'shxxbi131', 'henryl89', 'nidhhiagerwal', 'rubinadilaik', 'oharaingrid', 'nissa_sabyan', 'jeffreestar', 'mirelajanis', 'raghavjuyal', 'inanna', 'nimratkhairaofficial', 'jxxvvxxk', 'imhyoseop', 'ederbez', 'marcinho11', 'waynerooney', 'jackharlow', 'juandam_', 'elt6i', 'tirullipa', 'leosantana']\n"
     ]
    }
   ],
   "source": [
    "users=[]\n",
    "url=\"https://hypeauditor.com/en/top-instagram/?p=\"\n",
    "for i in range (0, 20):\n",
    "  iurl=url+str(i+1)\n",
    "  driver.get(iurl)\n",
    "  texted=driver.find_element_by_xpath(\"/html/body\").text\n",
    "  #print(driver.find_element_by_xpath(\"/html/body\").text)\n",
    "  user=re.findall(r'(?<=@)[^\\s]*',texted)\n",
    "  print(re.findall(r'(?<=@)[^\\s]*',texted))\n",
    "\n",
    "  # user=texted[texted.find(\"@\")+1:].split()[0]\n",
    "  users.append(user)\n"
   ]
  },
  {
   "cell_type": "code",
   "execution_count": 21,
   "metadata": {
    "id": "_p6NiMD22Spo"
   },
   "outputs": [],
   "source": [
    "user_list = [item for sublist in users for item in sublist]"
   ]
  },
  {
   "cell_type": "code",
   "execution_count": 22,
   "metadata": {
    "colab": {
     "base_uri": "https://localhost:8080/"
    },
    "executionInfo": {
     "elapsed": 995,
     "status": "ok",
     "timestamp": 1632996642597,
     "user": {
      "displayName": "Jyotsna Bisht",
      "photoUrl": "https://lh3.googleusercontent.com/a-/AOh14GiwqMjAYTnEiawyJJWKlc8XVlDKBRMm7YxhZKtUcw=s64",
      "userId": "03539750941216959448"
     },
     "user_tz": -330
    },
    "id": "wxcrsaSHLxtL",
    "outputId": "7486512a-0c99-47b7-8c38-0d7178f0bf58"
   },
   "outputs": [
    {
     "name": "stdout",
     "output_type": "stream",
     "text": [
      "['cristiano', 'kyliejenner', 'leomessi', 'kimkardashian', 'selenagomez', 'arianagrande', 'kendalljenner', 'zendaya', 'billieeilish', 'lalalalisa_m', 'virat.kohli', 'neymarjr', 'beyonce', 'jennierubyjane', 'therock', 'badgalriri', 'khaby00', 'iamcardib', 'tomholland2013', 'harrystyles', 'sooyaaa__', 'kourtneykardash', 'gigihadid', 'roses_are_rosie', 'khloekardashian', 'dualipa', 'justinbieber', 'narendramodi', 'k.mbappe', 'instagram', 'zayn', 'nickiminaj', 'adele', 'jlo', 'champagnepapi', 'ester_exposito', 'anushkasharma', 'sergioramos', 'kingjames', 'mileycyrus', 'travisscott', 'milliebobbybrown', 'shraddhakapoor', 'gal_gadot', 'eunwo.o_c', 'aliaabhatt', 'charlidamelio', 'chrishemsworth', 'actorleeminho', 'karolg', 'lilireinhart', 'vindiesel', 'deepikapadukone', 'dlwlrma', 'virginia', 'lelepons', 'shawnmendes', 'iamzlatanibrahimovic', 'handemiyy', 'oliviarodrigo', 'katrinakaif', 'realmadrid', 'danbilzerian', 'camimendes', 'anitta', 'ursulolita', 'akshaykumar', 'paulodybala', 'addisonraee', 'colesprouse', 'robertdowneyjr', 'nasa', 'katyperry', 'ronaldinho', 'georginagio', 'priyankachopra', 'dovecameron', 'camila_cabello', 'haileybieber', 'shakira', 'jenniferaniston', 'mosalah', 'meganfox', 'madisonbeer', 'paulpogba', 'zacefron', 'jongsuk0206', 'oohsehun', 'madelame', 'blakelively', 'davidbeckham', 'hrithikroshan', 'whinderssonnunes', 'fcbarcelona', 'bn_sj2013', 'dishapatani', 'rashmika_mandanna', 'jbalvin', 'iamsrk', 'willsmith', 'bellahadid', 'antonelaroccuzzo', 'pewdiepie', 'sabrinacarpenter', 'riaricis1795', 'noahschnapp', 'norafatehi', 'jamesrodriguez10', 'nehakakkar', 'blackpinkofficial', 'maluma', 'louist91', 'tchalamet', 'saraalikhan95', 'joeyking', 'championsleague', 'beingsalmankhan', 'hoooooyeony', 'luisitocomunica', 'thenotoriousmma', 'hi_high_hiy', 'songkang_b', '433', 'hazardeden_10', 'kimberly.loaiza', 'miakhalifa', 'ddlovato', 'lanarhoades', 'madelyncline', 'britneyspears', 'iamhalsey', 'auronplay', 'brentrivera', 'nike', 'psg', 'kevinhart4real', 'xxxibgdrgn', 'tigerjackieshroff', 'manchesterunited', 'iansomerhalder', 'postmalone', 'zkdlin', 'emmachamberlain', 'twicetagram', 'jacquelinef143', 'tatawerneck', 'kunaguero', 'antogriezmann', 'theweeknd', 'chrisbrownofficial', 'dixiedamelio', 'anuel', 'sadiesink_', 'brunamarquezine', 'jannatzubair29', 'karimbenzema', 'elrubiuswtf', 'juliette', 'aron.piper', 'justintimberlake', 'eminem', 'khabib_nurmagomedov', 'strangerthingstv', 'ranveersingh', 'daviddobrik', 'rohitsharma45', 'shahidkapoor', '_jeongjaehyun', 'carryminati', 'jamescharles', 'loganpaul', 'rosalia.vt', 'natgeo', 'asaprocky', 'lestykejora', 'skuukzky', 'theestallion', 'liampayne', 'taehyung.bighitentertainment', 'daddyyankee', 'ladygaga', 'kritisanon', 'wizkhalifa', 'bighit_ent', 'lanadelrey', 'tinistoessel', 'bellapoarch', 'nina', 'thedeverakonda', 'domelipa', 'finnwolfhardofficial', 'emrata', 'jacksonwang852g7', 'dra.deolanebezerra', 'varundvn', 'kapilsharma', 'nusr_et', 'miguel.g.herran', 'lilyjcollins', 'jacobelordi', 'garethbale11', 'zefelipecantor', 'samantharuthprabhuoffl', 'carlinhosmaiaof', 'kiaraaliaadvani', 'cznburak', 'bellathorne', 'jichangwook', 'realstraykids', 'zidane', 'jimin_bighitentertainment', 'lewishamilton', 'marcelotwelve', 'urvashirautela', 'michelleobama', 'brunomars', 'kjapa', 'vanessamorgan', 'louispartridge_', 'iammichelemorroneofficial', '3gerardpique', 'henrycavill', 'larasilva', 'm10_official', 'raphaelvarane', 'leedongwook_official', 'taeyeon_ss', 'bretmanrock', 'marktuan', 'vancityreynolds', 'phil.coutinho', 'thebursin', 'samoylovaoxana', 'bambam1a', 'gianlucavacchi', 'paulolondra', 'tyga', 'rohittt_09_', 'mrbeast', 'realbarbarapalvin', 'zachking', 'ncentineo', 'leonardodicaprio', 'layzhang', 'natashawilona12', 'sachintendulkar', 'alluarjunonline', 'do0_nct', 'sommerray', 'taina', 'gianlucavacchi', 'jaimelorentelo', 'luissuarez9', 'jin_bighitentertainment', 'hardikpandya93', 'sza', 'erling.haaland', 'feliciathegoat', 'natashawilona12', 'mr_faisu_07', 'juanpazurita', 'tyga', 'onyourm__ark', 'soohyun_k216', 'jokowi', 'seonho__kim', 'urvashirautela', 'teddysphotos', 'taina', 'dojacat', 'parineetichopra', 'sophiet', 'wi__wi__wi', 'sidmalhotra', 'paulwesley', 'e_xiu_o', 'ashishchanchlani', 'alexandradaddario', 'jhope_bighitentertainment', '_imyour_joy', 'gatenm123', 'manurios', 'lukamodric10', 'lilnasx', 'imsebastianstan', 'gusttavolima', 'angelinajolie', 'fernanfloo', 'evaluna', 'bbb', 'nct', 'heybiblee', 'playboicarti', 'greeicy', 'memphisdepay', 'rudeth', 'suga_bighitentertainment', 'cazzu', 'sommerray', 'somsomi0309', 'playboicarti', 'fedez', 'rudeth', 'suga_bighitentertainment', 'cazzu', 'somsomi0309', 'gessicakayane', 'bhuvan.bam22', 'germangarmendia', 'tenlee_1001', 'iynemliarasbulut', 'nglkante', 'stephencurry30', 'kartikaaryan', 'hichasestokes', 'jheneaiko', 'jinyoung_0922jy', 'juandediospantoja', '_rl9', 'caradelevingne', 'anushkasen0408', 'm_kayoung', 'gusein.gasanov', 'avneetkaur_13', 'keniaos', 'jakepaul', 'hi_sseulgi', 'ananyapanday', 'floydmayweather', 'taeoxo_nct', 'bizarrap', 'anyataylorjoy', 'thehughjackman', 'offsetyrn', 'marshmellomusic', '7_luhan_m', 'vinijr', 'liluzivert', 'aurelie.hermansyah', 'yuyacst', 'abdevilliers17', 'johnnyjsuh', 'nickyjam', 'luisasonza', 'janhvikapoor', 'mirella', 'wow_kimsohyun', 'ms_puiyi', 'russwest44', 'kanyewest', 'rahulkl', 'trippieredd', 'demetozdemir', 'jessicah_o', 'riyaz.14', 'alfinetei', 'yuu_taa_1026', 'wwiinn_7', 'nct127', 'schwarzenegger', 'maddieziegler', 'kevindebruyne', 'marcusrashford', 'demirose', 'lamborghini', 'mont.pantoja', 'charlieputh', 'phs1116', 'nickjonas', 'kyo1122', 'liverpoolfc', 'haileesteinfeld', 'nianaguerrero', 'loren', 'elrodrigocontreras', 'serna_amini', 'prattprattpratt', 'burakozcivit', 'lizgillz', 'gisele', 'machinegunkelly', 'frenkiedejong', 'marinaruybarbosa', 'daquan', 'debbyryan', 'kajalaggarwalofficial', 'briandadeyanara', 'sanchooo10', 'nancyajram', 'chiaraferragni', 'camilo', 'channingtatum', 'davido', 'donya', 'juventus', 'annakendrick47', 'lacasadepapel', 'sandrinna_11', 'maisa', 'loreimprota', 'yoona__lim', 'melissamelmaia', 'rauwalejandro', 'chadwickboseman', 'sureshraina3', '_agentgirl_', 'pubity', 'vanessahudgens', 'easymoneysniper', 'avrillavigne', 'rizkybillar', 'shaymitchell', 'yugyeom', 'victoriajustice', 'rachel_mypark', 'leaelui', 'krisjenner', 'jesselingard', 'ciara', 'lilpump', 'mariapedraza_', 'dqsalmaan', 'malutrevejo', '_mariahwasa', 'hshq', 'julesleblanc', 'avani', 'peytonlist', 'ssinz7', 'ross_lynch', 'liamhemsworth', 'amberrose', 'lexibrookerivera', 'alvaromorte', 'lizasoberano', 'memezar', 'simoneses', 'madhuridixitnene', 'noahbeck', 'nct_dream', 'iamferv', 'dababy', 'ykaaar', 'bramastavrl', 'hassan_reyvandi', 'leeyoum262', 'paollaoliveirareal', 'itsmarziapie', 'saweetie', 'virgilvandijk', 'faz3', 'toni.kr8s', 'todayis_wendy', 'ler_chek', 'darianrojasc', 'bbrightvc', 'darshanravaldz', 'belindapop', 'bclsinclair', 'f1', 'dylanminnette', 'hyunah_aa', 'lildurk', 'emmaroberts', 'txt_bighit', 'e_milygarcia', 'i_m_hendery', 'gururandhawa', 'sportscenter', 'paulwalker', 'troyesivan', 'jensenackles', 'mcpozedorodo', 'juki_lop', 'officialtomellis', 'karinakross', 'mathildtantot', 'therealcalebmclaughlin', 'nba', 'thenameisyash', 'giannis_an34', 'loud_victor', 'xeesoxee', 'marvelstudios', 'aliiiiiiiikarimi8', 'lucyhale', 'burcuozberk', 'corinnakopf', 'roddyricch', 'future', 'ldh_sky', 'choi_seung_hyun_tttop', 'alidaei', 'laurenlondon', 'marimaria', 'taylor_hill', 'dior', 'yasmine_sabri', 'ansufati', 'reesewitherspoon', 'kaka', 'yasminabdelaziz_', 'sofiaalcastro', 'djxiao_888', 'maneskinofficial', 'salmahayek', 'mariaalice', 'lilpeep', 'davikah', 'min9yu_k', 'snoopdogg', 'enhypen', 'borodylia', 'krisjenner', 'aliiiiiiiikarimi8', 'lizakoshy', 'd_degeaofficial', 'angeldimariajm', 'lm_____ltm', 'morgen_shtern', 'vegetta777', 'liverpoolfc', 'friends', 'alfinetei', 'jorgelopez_as', 'marvel', 'paollaoliveirareal', 'nattyiceofficial', 'elliotpage', 'nicki.nicole', 'lanacondor', 'goar_avetisyan', 'nattinatasha', 'alexisren', 'bts.jungkook', 'theshilpashetty', 'apple', 'florencepugh', 'shanedawson', 'madisonbaileybabe', 'emmaroberts', 'vousmevoyez', 'viihtube', 'yastunes', 'o.dembele7', '__youngbae__', 'houseofhighlights', 'mterstegen1', 'simaria', 'golfarahani', 'aishwaryaraibachchan_arb', 'lizzobeeating', 'lucyhale', 'yerimiese', 'easportsfifa', 'stassiebaby', 'rogerfederer', 'carles5puyol', 'actorprabhas', 'ludmilla', 'coldplay', 'dylansprouse', 'timatiofficial', 'syifahadjureal', 'davidluiz23', 'anupamaparameswaran96', 'nehasharmaofficial', 'kingbach', 'memezar', 'realhinakhan', 'jailyneojeda', 'dukissj', 'pefabiodemelo', 'lilhuddy', 'nba', 'bianca', 'tamannaahspeaks', 'alexis_officia1', 'navidmohammadzadeh', 'vinniehacker', 'amybethmcnulty', 'pedroalonsoochoro', 'imouniroy', 'ksi', 'deolaneb_', 'conangray', 'brycehall', 'kittychicha', 'dindahw', 'amadorat', 'kiernanshipka', 'willyrex', 'roberto_firmino', 'kun11xd', 'adamsandler', 'kehlani', 'valeyellow46', 'ashleygraham', 'zoesugg', 'kyrieirving', 'divyankatripathidahiya', 'thiagosilva', 'vickykaushal09', 'falcao', 'ibaillanos', 'quavohuncho', 'xsqueezie', 'nadin_serovski', 'yangyang_x2', 'mahnaz_afshar', 'romeosantos', 't22felton', 'ladivaza', 'weareone.exo', 'djokernole', 'hilaryduff', 'hannahstocking', 'celestebarber', 'andresiniesta8', 'nobrutv', 'ivanmartinez', 'joel_courtney', 'angeliqueboyer', 'ileana_official', 'kingryan', 'trueno', 'sincerooficial', 'melo', 'joaogomescantor', 'marcoasensio10', 'eizagonzalez', 'markiplier', 'arishfakhan138', 'bernardokath', 'nikitadragun', 'lilbaby', 'soueunavida', 'candiceking', 'sonu_sood', 'tiffanyyoungofficial', 'romelulukaku', 'courteneycoxofficial', 'mirandacosgrove', 'attahalilintar', 'hztttao', 'ruben_onsu', 'jessicajane99', 'netflix', 'rafakalimann', 'shreyaghoshal', 'rubyrose', 'larray', 'ellenpompeo', 'sofiacarson', 'theellenshow', 'danialves', 'francinyehlke', 'sav.labrant', 'aleoliveiracm', 'f1', 'leighannepinnock', 'hannahelzahed', 'lucasranngel', 'ahmedhelmy', 'kenzie', 'achrafhakimi', 'narins_beauty', 'asabopp', 'mo.on_air', 'saythename_17', 'bmw', 'acunilicali', 'fuckjerry', 'elcinsangu', 'keerthysureshofficial', 'aislinnderbez', 'jeremyrenner', 'polo.capalot', 'alghazali7', 'beberexha', 'edwestwick', 'phoebejtonkin', 'wizkidayo', 'deiveleonardo', 'joshrichards', 'amitabhbachchan', 'btstae', '_shotaroo_', 'urstrulymahesh', 'cleo', 'joshuadun', 'soyneiva', 'jaspritb1', 'dearra', 'carladiaz', 'anllela_sagra', 'alexademie', 'nazriyafahadh', 'sonamkapoor', 'miguel_bernardeau', 'pele', 'ratantata', 'karna.val', 'gildovigor', 'queennaija', 'dudewithsign', 'luara', 'diljitdosanjh', 'kevinho', 'k.kbeom', '5sos', 'egorkreed', 'tylerposey58', 'prillylatuconsina96', 'bigsean', 'yamigautam', 'karolsevillaofc', 'pharrell', 'dava_m', 'wayvofficial', 'hazalkaya', 'nodal', 'aykutelmas', 'claudiasalas_', 'galatasaray', 'donia.samir.ghanem', 'fcbayern', 'smtown', 'nita_shilimkar', 'realcoleworld', 'andreavaldirisos', 'kajol', 'teyanataylor', 'sebastianyatra', 'irinashayk', 'sadiomaneofficiel', 'joaoguilherme', 'claireholt', 'iza', 'kimloaiza.dos', 'hadise', 'fortnite', 'jairmessiasbolsonaro', 'loud_babi', 'watanabenaomi703', 'winmetawin', 'jacksepticeye', 'rezagolzar', 'reynmen', 'naileadevora', 'felicyangelista_', 'ashleybenson', 'gima_ashi', 'lunay', 'eliana', 'youngdae0302', 'tommyinnitt', 'alvaroricoladera', 'sidhu_moosewala', 'actor_jg', 'noorstars', 'pokimanelol', 'agnezmo', 'mariabecerra', 'tombrady', 'ewsbdi', 'ozutochi', 'ozuna', 'c.syresmith', 'anthonyjoshua', 'yejinhand', 'mmoonstar', 'riyadmahrez26.7', 'smriti_mandhana', 'porsche', 'yuvisofficial', 'nikkietutorials', 'brunofernandes.10', 'hyeri_0609', 'ricky_martin', 'dean.schneider', 'enriqueiglesias', 'kingarturo23oficial', 'dbook', 'nadine.nassib.njeim', 'jashlem', 'khiza_13', 'asalamaleh', 'ivetesangalo', 'holyhaein', 'cavaniofficial21', 'ebi', 'yuzi_chahal23', 'jesynelson', 'adrianalima', 'hasnaink07', 'jaybnow.hr', 'angelrai07', 'normani', 'frenchmontana', 'lakers', 'rayssalealsk8', 'itzan.escamilla', 'grefg_official', 'jasonderulo', 'vivi', 'klaythompson', 'pabllovittar', 'felipeneto', 'redvelvet.smtown', 'pink', 'alvaromorata', 'saipallavi.senthamarai', 'netflixlat', 'orianasabatini', 'itzy.all.in.us', 'sooyoungchoi', 'lala', 'dwyanewade', 'maisie_williams', 'ferrari', 'alok', 'nikefootball', 'imalanstokes', 'vicdeangelis', 'brooklynbeckham', 'isaias', 'fabriziorom', 'myketowers', 'chaelincl', 'angela_aguilar_', 'dejesusoficial', 'nastya_nass_', 'benazelart', 'staceysolomon', 'bhadbhabie', 'raisa6690', 'iqbaal.e', 'isisvalverde', 'joshu_acoustic', 'sarwendah29', 'emiliovmartinez', 'obx', 'nessabarrett', 'thuggerthugger1', 'mohamedramadanws', 'georgenotfound', 'rakulpreet', 'auba', 'littlemix', 'emmatmackey', 'zhanabylov_e', 'lukadoncic', 'bakzera', 'xuminghao_o', 'arducbrs', 'aidanrgallagher', 'jadepicon', 'ashanty_ash', 'jordialbaoficial', 'jackgrealish', 'gabriellasaraivah', 'bugatti', 'dilettaleotta', 'gianluigibuffon', 'pugachevmark', 'kanganaranaut', 'anasmarwah', 'loud_thurzin', 'beautifuldestinations', 'camilaloures', 'catriona_gray', 'gabigol', 'markruffalo', 'itsfelixwhat', 'superm', 'chloegmoretz', 'alvxaro', 'serenawilliams', 'karljacobs', 'jojotodynho', 'bibisbeautypalace', 'aycaaysinturan', 'gioewbank', 'brianmaps', 'lukehemmings', 'kto_takaya', 'nashgrier', 'tiagoleifert', 'nadine', 'mohanshakti', 'casemiro', 'serenayss', 'jenniferwinget1', 'martingarrix', 'gucci', 'amandacerny', 'najwashihab', 'willevy', 'dagelan', 'ginaindelicada', 'playstation', 'drdre', 'wilbursoot', 'colleen', 'itsjojosiwa', 'luansantana', 'sthefanematos', 'cvillaloboss', 'djsnake', 'alissaviolet', 'praybeytbenjamin', 'rafaeluccman', 'landonorris', 'syahnazs', 'raditya_dika', 'ayutingting92', 'irodolffo', 'marcinho11', 'libardoisaza', 'mejiwoo103', 'brielarson', 'cole.labrant', 'jadethirlwall', 'supercarblondie', 'skaijackson', 'lilyachty', 'manuelneuer', 'cinthiacruz_', 'gretathunberg', 'daniel.k.here', 'enginaltandzytn', 'spacex', 'iiqraaziz', 'disney', 'tomo.y9', 'torylanez', 'antdavis23', 'iam_linyi', 'gabibrandt', 'youna_1997', 'officialslystallone', 'mario_houses', 'sushitrash', 'jordi.koalitic', 'natgeotravel', 'canyaman', 'regejean', 'tirullipa', 'negodoborel', 'camerondallas', 'rafaeluccman', 'gabibrandt', 'imalexstokes', 'masonmount', 'elnazshakerdoost', 'natalee.007', 'supercarblondie', 'jessica.syj', 'peakyblindersofficial', 'kimheenim', 'ikercasillas', 'senoritasaeva', 'perspolis', 'arminzareeiofficial', 'tolgasaritas_', 'geneliad', 'jordi.koalitic', 'kawtarbamo', 'you_r_love', 'anyageraldine', 'gemmastyles', 'blonded', 'maxverstappen1', 'pocah', 'minalkhan.official', 'gucci', 'jeromepolin', 'kkvsh', 'litkillah', 'shxxbi131', 'henryl89', 'nidhhiagerwal', 'rubinadilaik', 'oharaingrid', 'nissa_sabyan', 'jeffreestar', 'mirelajanis', 'raghavjuyal', 'inanna', 'nimratkhairaofficial', 'jxxvvxxk', 'imhyoseop', 'ederbez', 'marcinho11', 'waynerooney', 'jackharlow', 'juandam_', 'elt6i', 'tirullipa', 'leosantana']\n"
     ]
    }
   ],
   "source": [
    "print(user_list)"
   ]
  },
  {
   "cell_type": "code",
   "execution_count": 23,
   "metadata": {
    "colab": {
     "base_uri": "https://localhost:8080/"
    },
    "executionInfo": {
     "elapsed": 490,
     "status": "ok",
     "timestamp": 1632996961897,
     "user": {
      "displayName": "Jyotsna Bisht",
      "photoUrl": "https://lh3.googleusercontent.com/a-/AOh14GiwqMjAYTnEiawyJJWKlc8XVlDKBRMm7YxhZKtUcw=s64",
      "userId": "03539750941216959448"
     },
     "user_tz": -330
    },
    "id": "QjURWQXb-Ko5",
    "outputId": "78ac100b-e72d-4135-e354-7d9f70855497"
   },
   "outputs": [
    {
     "name": "stdout",
     "output_type": "stream",
     "text": [
      "['1misssmeis', '3ala2o', '433', '6senseofficial', '7ikhals', 'a.sharif92', 'aaronsanimals', 'abanddoned', 'achievetheimpossible', 'adenorah', 'adesignersmind', 'adingattamimi_photography', 'adriancmurray', 'afnan_albatel', 'afofa', 'aguynamedpatrick', 'ahmet.erdem', 'aialahernando', 'aka.the.one', 'akusepp', 'aleksmusika', 'alenaakhmadullina', 'alessandro_carpentiero', 'alessioalbi', 'alexandrabring', 'alexandreagarza', 'alexcentomo', 'alexhonnold', 'alexiarayee', 'alexisren', 'alexmidler', 'alexstrohl', 'alice_gao', 'aliona_hilt', 'alissaviolet', 'alldaytravel', 'alliemtaylor', 'amandabisk', 'amandacerny', 'amiraa88', 'amivitale', 'ammish', 'amymarie', 'amytoensing', 'anadeliafitness', 'ana_lombardini', 'anddicted', 'andicsinger', 'andreabadendyck', 'andreadenver3', 'andreamelchiorre1', 'andreleonardooficial', 'andyheart', 'andy_mann', 'angela_mazzanti', 'angelicablick', 'anilarjandas', 'anllela_sagra', 'annanystrom', 'anniethorisdottir', 'annijor', 'anniksas', 'annlestyle', 'annybakhireva', 'antonlofer', 'applebums', 'arc.only', 'archilovers', 'archixxi', 'argonautphoto', 'arielealasko', 'arikasato', 'arni_coraldo', 'arqsketch', 'artofdrawingg', 'artofvio', 'artofvisuals', 'art_spotlight', 'ashimashiraishi', 'ashybines', 'aspynovard', 'audidriven', 'audiosoup', 'audi_obsession', 'aureta', 'avaallan', 'averagerob', 'awesome.pix', 'awesomedreamplaces', 'badasscassfit_', 'baloublue', 'barcelonacitizen', 'beachyogagirl', 'beckermanblog', 'bejamin', 'belenhostalet', 'benakribo', 'benlowy', 'berlinstagram', 'bestofmenstyle', 'bestofstreetstyled', 'bestwoof', 'bethanyhamilton', 'bethsusu', 'bettyautier', 'beverlyjoubert', 'bibbideg', 'bigchunkymonkey', 'bjcalvillo', 'blackjaguarwhitetiger', 'blaireadiebee', 'blakescott_', 'blanca_suarez', 'blogilates', 'blvckd0pe', 'bobbimac', 'borgeousmusic', 'bossbabe.inc', 'boxingguru', 'brahmino', 'brettcap', 'brianskerry', 'brigadeirochoc', 'brightonkeller', 'britishfashioncouncil', 'brookewillson', 'brooklynandbailey', 'brosnacion', 'brunaviolamt', 'bryceyoga', 'burakkahveci', 'buseterim', 'butusofa', 'cacatengker', 'cactusmagazine', 'cafajestando', 'caitbarkerr', 'caitlin__oconnor', 'camaro.family', 'camilacoelho', 'camilasenna', 'canadasworld', 'capucineanavoff', 'car', 'carinstagram', 'carlibel', 'carlifestyle', 'carlorevenga', 'carlosestini', 'carly', 'carodaur', 'carolsaraivafitness', 'caro_e_', 'carringtondurham', 'catherinepaiz', 'cathiarivera', 'cath_belle', 'catmantoo', 'cbquality', 'cedarwright', 'cesinha', 'chaileeson', 'chamiltonjames', 'changmakeup', 'charlestrippy', 'chiarabiasi', 'chiaraferragni', 'chicagofoodauthority', 'chico_lachowski', 'chiliphilly', 'chloemorello', 'chloeszep', 'chloe_penderie', 'chrisburkard', 'chrisjohnmillington', 'chrisozer', 'christendominique', 'christianziegler', 'christinabiluca', 'christinehmcconnell', 'christopherandersonphoto', 'chris_sharma', 'chuck', 'cimkedi', 'cintascotch', 'ciriljazbec', 'civilking', 'claireonline', 'clarecrawley', 'classiccarchasers', 'colbybrownphotography', 'colerise', 'collagevintage', 'college_housewife', 'conrad_anker', 'coryrichards', 'couturenotebook', 'cozinhadalbo', 'cravingsinamsterdam', 'crazyjewishmom', 'cristinamittermeier', 'crochetgirl99', 'croyable', 'cuchira', 'cucinadigitale', 'culturizate', 'cutegirlshairstyles', 'cyarine', 'd.signers', 'daddyissues_', 'dailyfoodfeed', 'daisyclementine', 'dalalid', 'damselindior', 'danbilzerian', 'danica.torres', 'daniel_ernst', 'dani_thorne', 'dannibelle', 'dannyzappa', 'danrubin', 'dansmoe', 'daveyoder', 'davidalanharvey', 'daviddoubilet', 'davidson_frere', 'davidstea', 'dawilda', 'deemabayyaa', 'deliciouslyella', 'deliscake', 'deporloversteam', 'der_landgraf', 'designdecor', 'destinationwolf', 'destination_wow', 'devanondeck', 'devourpower', 'dguttenfelder', 'diegobarrueco', 'digernes', 'diipakhosla', 'diogopicarra', 'disney_nuts', 'doctor.mike', 'doentesporfutebol', 'doina', 'donkarlito_', 'donnahaymagazine', 'dotzsoh', 'doyoutravel', 'drewtrush', 'drmusatokmak', 'dulceida', 'dunk', 'eatandshout', 'eatfamous', 'eatingnyc', 'eddypinto_', 'edkashi', 'edmhumor', 'elaine_yiu', 'elenacarriere.official', 'elensham', 'elisabeth.rioux', 'elizabethgadd', 'eljuanpazurita', 'elladvornik', 'elliott.mae', 'elliottsailors', 'elnenecio', 'elsas_wholesomelife', 'el_kilombo', 'emilyostbro', 'emilyschuman', 'emilyskyefit', 'emily_katz', 'emwng', 'enjoyphoenix', 'epictravelpost', 'erikjonesart', 'ernandaputra', 'erubes1', 'escolhiesperar', 'estonianna', 'eternal_noir', 'europe.vacations', 'euvictornogueira', 'evakosmasflores', 'everlook_photography', 'everythingeverywhere', 'exoticsbrazil', 'extremenature', 'f1mike28', 'faafirds', 'fabumakeup4u', 'faby_mamaedegemeos', 'faheeym', 'faktastisch', 'fantastic_earth', 'fashionboystyle', 'fashionforfemmes', 'fashion_by_gi', 'fatosfemininos', 'featureshoot', 'felicitegrace', 'felixsiauw', 'filippofiora', 'finn', 'fitopaezmusica', 'fitqueenirene', 'fit_trio', 'fixthisbuildthat', 'flamuruk', 'flettemamma', 'fluffypack', 'forn_sant_francesc', 'fozaza', 'framboisejam', 'francescocostagliola_', 'frangocombatatadoce', 'frank_the_funnyfrenchie', 'franslanting', 'frasesdem3rda', 'frasibianche.it', 'frenchiebutt', 'frenchwords', 'funforlouis', 'gabrielapugliesi', 'gabyespino', 'galagonzalez', 'garancedore', 'garypeppergirl', 'gatherandfeast', 'gavinoneillphoto', 'gentbelike', 'gentslounge', 'geosteinmetz', 'gerdludwig', 'germanroamers', 'giangi_81', 'gianmarcovalenza', 'giizeleoliveira', 'ginizzle', 'giulianafortuna', 'gizemozdem1', 'gkstories', 'glencyfeliz', 'globe.travelpix', 'goldengianpy', 'goldenretrievers_', 'goodnewsfeed', 'gregsideris', 'grungesource', 'gui_', 'gurukafa', 'guytang_mydentity', 'guy_tang', 'gwilymcpugh', 'gypsea_lust', 'gypsetgoddess', 'hadiaghaleb', 'hahahahahahahaahahahahahahahah', 'hairgod_zito', 'halliedaily', 'hammond_robin', 'hannes_becker', 'hapatime', 'happinessbtq', 'hawkeyehuey', 'hayden_williams', 'heidimakeupartist', 'helenblandino', 'helloemilie', 'hillaryoff', 'hosico_cat', 'hotdudesreading', 'hotelsandresorts', 'house.of.leaders', 'hudabeauty', 'humansofny', 'iamamypham', 'iamgalla', 'iartos', 'ibrahimgi', 'icandyfitbeauty', 'iconize', 'idalaerke', 'idawarg', 'ideas_tatoo', 'ifuckinglovewatches', 'igorszucs', 'ig_pups', 'ihavethisthingwithfloors', 'indian_wedding_inspiration', 'ines_arroyo', 'ingridnilsen', 'insideweddings', 'instagrafite', 'instasurreal', 'interiorwife', 'ipaniza', 'irablockphoto', 'ireneisgood', 'irinahp', 'isnathan', 'italy.vacations', 'itsanuthida', 'itscaroo', 'itslydboss', 'iuriebelegurschi', 'ivankphoto', 'izkiz', 'j.hannah', 'jacob', 'jacobauesobolnew', 'jadeywadey180', 'jaglever', 'jai_nice', 'jamesalexanderellis', 'jamesgunn', 'janeteaestranha', 'janicejoostemaa', 'janinauhse', 'jannid', 'jannikobenhoff', 'jaredwhitney', 'jasminleonie.official', 'jasoncharleshill', 'javierrrey', 'jayalvarrez', 'jaydepierce', 'jeffmackdesigns', 'jenselter', 'jessiejamesdecker', 'jessiekass', 'jestemzolza', 'jethromullen', 'jimmy_chin', 'jimrichardsonng', 'jiordyn', 'jldrae', 'jn', 'joannagaines', 'joannakuchta', 'joelsartore', 'joemcnallyphoto', 'johannaeolsson', 'johnstanmeyer', 'jonanwiergo', 'jonathan_irish', 'jonesmarcia', 'joselyncano', 'juanjaramilloe', 'jujujuxiaowen', 'juliahengel', 'justhanni', 'kardinalmelon', 'karinalarrauri', 'karina_nigay', 'kateclapp', 'katerina_perez', 'katia_mi', 'katia_mi_', 'katya_mtsitouridze', 'kat_in_nyc', 'kayla_itsines', 'keenanpearce', 'keiyamazaki', 'kelsbrianne', 'kelsrfloyd', 'kenzas', 'kerrently', 'kerriehessillustration', 'kessara', 'kewiki', 'khivju', 'kickposters', 'kilianjornet', 'kinoyoga', 'kirstenalana', 'kirstenzellers', 'kitkat_ch', 'knifeaxe', 'kochifaraj', 'konaction', 'konservatif', 'kosta_williams', 'kpunkka', 'kristinabazan', 'kthegroove', 'kylekriegerhair', 'kyrenian', 'ladyaddict', 'ladzinski', 'lalasizahands89', 'landonnordeman', 'lane_toran', 'lasselom', 'latifitness', 'laughtercolours', 'laurajenkinson', 'laurasykora', 'laurenepbath', 'laurensimpson', 'lavicvic', 'leagueofupdates', 'leighannsays', 'lenas_view', 'lennart', 'levijfoster', 'le_blanc', 'libesona', 'lilithmoonlife', 'lilymaymac', 'linatesch', 'linda_lomelino', 'lioninthewild', 'lipstickfables', 'lisahyde_', 'lissletters', 'littlelizziev', 'livemontreal', 'livingitrural', 'livingonearth', 'lizaonair', 'local_milk', 'lojain_omran', 'louisdarcis', 'louteasdale', 'love.watts', 'loveandlemons', 'lovelypepa', 'luanasilva', 'lucamacellaripalmieri', 'luckybsmith', 'lumadeline', 'luxurybridalblogger', 'lyzabethlopez', 'lyzabeth_lopez', 'maaren_xx', 'macenzo', 'madds', 'madwhips_aston', 'madwhips_benz', 'madwhips_bimmer', 'madwhips_british', 'madwhips_frd', 'madwhips_german', 'madwhips_gtr', 'madwhips_import', 'madwhips_italian', 'madwhips_mas', 'madwhips_mcl', 'madwhips_pag', 'madwhips_por', 'madwhips_usa', 'magic_fox', 'majachocolat', 'makaniterror', 'makanpakereceh', 'makeupartistale', 'makeupbydenise', 'makeupshayla', 'manalalalem', 'mangorabbitrabbit', 'manizha', 'manny_the_frenchie', 'man__magazine', 'maraferreira', 'marcelfloruss', 'marcusbleasdale', 'marcusbutler', 'margaret__zhang', 'mariafranciska', 'mariale', 'marianodivaio', 'maria__way', 'marinlle', 'marioncameleon', 'marioteguh', 'mariotestino', 'martabevacqua', 'marte_marie_forsberg', 'martinalapeligrosa', 'marutaro', 'maryamnyc', 'marycake', 'massy.arias', 'mathildegoehler', 'mattblack_blackmatt', 'matthiasmalmedie', 'mattiasklumofficial', 'mattscutt', 'mauricetravelphotos', 'mayabeaute', 'mayonose', 'meeeeeeeel_', 'meganhess_official', 'meghanrienks', 'melissafarlow', 'mensfashions', 'mensflair', 'menshairs', 'menshoesfashions', 'mentorofthebillion', 'menwithclass', 'menwithfootwear', 'menwithstreetstyle', 'meryturiel', 'mevy', 'mia_astral', 'micahgianneli', 'michaelchristopherbrown', 'michaelgiroux', 'michaelmelford', 'michelle_lewin', 'mija_mija', 'mikekus', 'mikeleceppi', 'mikkolagerstedt', 'mimielashiry', 'minilicious', 'miraduma', 'mishbridges', 'missalena.92', 'misscoolpics', 'misselvani', 'misshattan', 'missphitran', 'misswinter', 'miss_gunner', 'miss_tina_louise', 'misterflopatrick', 'mjdwarner', 'mo', 'moasalem', 'modaparameninas', 'modaprahomens', 'model_roz', 'moners', 'monycaeleogram', 'moonmountainman', 'morganphillips', 'motiheidari', 'motivafoods', 'movifiedbollywood', 'mrpaddingtonbear', 'mrscasual', 'muenchmax', 'muitointeressante', 'muradosmann', 'mustafaseven', 'myoliemyolie', 'myspacetom', 'm_eye_nd', 'nadiadamaso_ebnl', 'nadia_mejia', 'naguevona', 'nahcardoso', 'nakedplanet', 'namkcaps', 'nashgrier', 'nastilove', 'nataliareyesg', 'nataliehalcro', 'nataliejillfit', 'natalietong_tsw', 'natgeoyourshot', 'nathparis', 'nationaldestinations', 'natlustosa', 'nazlihb', 'negin_mirsalehi', 'neriad', 'newdarlings', 'ngoldenberg', 'nicanorgarcia', 'nick__bateman', 'nico__riera', 'nihatkayin', 'ninaserebrova', 'noel.alva', 'nois7', 'norbertthedog', 'nouraridaofficial', 'nourish_atelier', 'nude_yogagirl', 'nwuuu', 'ocean', 'ohhcouture', 'ohwowfashion', 'olayseven', 'oliviaemilyx', 'oliviapierson', 'omarhuss', 'omgdeedee', 'omundoanimal', 'ovunno', 'owright', 'paigehathaway', 'paleyphoto', 'pamela_rf', 'pamemcbeath', 'pamhetlinger', 'pangea', 'paolausme', 'paollaoliveirareal', 'parisbyvegan', 'parisianfloors', 'parisinfourmonths', 'paulinhohop', 'paulnicklen', 'pedromcbride', 'pegasusunicorn', 'petekmuller', 'petisco', 'petitesluxures', 'piamuehlenbeck', 'pickupjazz', 'pilotpatric', 'pimtha', 'pinkperception', 'piques', 'pitterpatterfurryfeet', 'plriley', 'pnwonderland', 'polabur', 'popeyethefoodie', 'prettyfrowns', 'pretty__home', 'princepelayo', 'professor_pouncey', 'puanindya', 'r.h.sin', 'rachelapollonio', 'raffinagita1717', 'raldo', 'randyolson', 'raymacdonald', 'rayzanicacio', 'realdiddykong', 'realgrumpycat', 'reallilscrappy', 'real_nbamemes', 'rebelrecipes', 'rebferrari', 'rembake', 'renan_ozturk', 'renegrincourt', 'restless.arch', 'retrieverpuppies', 'rezaphotography', 'riverviiperi', 'robertclarkphoto', 'robinmartinyoga', 'rodhodgeii', 'rokenr', 'romaincolin', 'ronan_donovan', 'roofusandkilo', 'rosannaarkle', 'rosielondoner', 'roundtheworldgirl', 'rsimacourbe', 'rubiamood', 'rumineely', 'runnerspace', 'rupikaur_', 'rvstapleton', 'ryanleslie', 'sagegoldnik', 'salehalbraik', 'salvarezphoto', 'samblacky', 'samhorine', 'sandraprikker', 'sandro', 'santantactical', 'sapnavyaspatel', 'sarabuho', 'sarahayuh_', 'sarahpour', 'sarahstage', 'saschafitness', 'sashaspilberg', 'sashsuicide', 'sassychris1', 'savourschool', 'science', 'scott_kranz', 'seacannon', 'seanopry55', 'sea_see_you', 'sebinaah', 'secdus', 'sefayamak', 'sejkko', 'sergiocarlo', 'sergiocarvajal7', 'shannakress83', 'sharlenetaule', 'shaunacoxsey', 'sheidafashionista', 'sheidlina', 'sheikeandco', 'sherifartisan', 'sherylrubio', 'shitheadsteve', 'shonephoto', 'shorteline', 'shoutmysneakz', 'shradsblog', 'simbathebengal2015', 'simplysona', 'sincerelyjules', 'sisterlystyle', 'slikhaartv', 'smithsonian', 'sneakernews', 'solelyjumpman', 'solelynikes', 'soloenvenezuela', 'sonchicc', 'sondos_aq', 'songofstyle', 'soniatlevfitness', 'sonyaesman', 'soysaludable', 'speedsociety', 'spencercotton', 'stationcdrkelly', 'stefaniegoldmarie', 'stefankunz', 'stefanopirini', 'stefanotratto', 'stefanounterthiner', 'stellahudgens', 'stephenwilkes', 'stephsinclairpix', 'stevebooker', 'stevemccurryofficial', 'stevewinterphoto', 'streetsfashions', 'strictlyweddings', 'stylebook_', 'stylizimoblog', 'sucharcodzienny', 'sunkissalba', 'supercarlifestyle', 'superchinois801', 'supernewslive', 'swaypaul', 'swisswatches', 'sx.crudo', 'sydneyfashionblogger', 'symphanisoto', 'talk_to_the_paw', 'tammyhembrow', 'taramilktea', 'tarastiles', 'tastyasheck', 'tattoodo', 'tavicastro', 'teamfk', 'tetongravity', 'theballoondiary', 'theclassypeople', 'thefashionguitar', 'thefatjewish', 'thefella', 'thegoodquote', 'thegreylayers', 'thehautepursuit', 'thejianhaotan', 'themrsgibby', 'thenativefox', 'theobonaparte', 'theplanetd', 'theradavist', 'therealfouz', 'thesartorialist', 'theseanodonnell', 'theshadowconspiracy', 'thesheerconnection', 'thetrottergirl', 'thevisualscollective', 'theworldguru', 'the_fabcloset', 'the_salty_blonde', 'thiagomlcorrea', 'thisisamans.world', 'thiswildidea', 'thomaspeschak', 'thomas_k', 'thriftsandthreads', 'tiablanco', 'tiboinshape', 'timethai', 'timlaman', 'tomer_gelb', 'tommycaldwell', 'tonnyboom', 'trainforfitspo', 'travelandleisure', 'travelrack', 'travisburkephotography', 'travisrice', 'twallisch', 'twinkleintrendz', 'ulyana.aster', 'universityofrock', 'uolesporte', 'uptopquotes', 'vacationwolf', 'val.mercado', 'vanesabasanta', 'vanessasenior', 'vanlifers', 'vaughngittinjr', 'vegan', 'vegancommunity', 'vegas_nay', 'vexx_art', 'victoriabonya', 'victoriaportfolio', 'victoriarpro', 'victoriatornegren', 'vikikacosta', 'violetbens0n', 'vonmiller', 'vutheara', 'weddingz.in', 'weinspireyourfashion', 'weinspireyouroutfits', 'whatmyboyfriendwore', 'whereloveisillegal', 'whiteaddicted', 'wildcoyphotography', 'wilde_oates', 'willamazing', 'williamjardell', 'williegomez', 'wisslaren', 'withhearts', 'withlovekarissa', 'wolfdeutschland', 'wonderful_location', 'wonderful_places', 'worldoflabs', 'worldwanderlust', 'wristtakers', 'wycked_shaun', 'xenia', 'xeniaoverdose', 'xiaxue', 'xostylistxo', 'xserrano9', 'yarasantosoficial', 'ygolsharifi', 'yoga_girl', 'youngmeerim', 'yuyacst', 'zachallia', 'zacsmithfitness', 'zaraamaria', 'zhanna_badoeva', 'zoelaz', 'zoepastelle', 'zynp', 'zyoshka', '_foodstories_', '_hollyt', '_ingo_1', '_mariannejacobsen_', '_picolo', '_tinamaria', '_tuck4']\n"
     ]
    }
   ],
   "source": [
    "import os\n",
    "Path = \"profile\"\n",
    "userList = []\n",
    "for file in os.listdir(Path): #create filelist with all user json files\n",
    "    if file.endswith(\".json\"):\n",
    "        file = file[:-5]\n",
    "        userList.append(file)\n",
    "print(userList)  "
   ]
  },
  {
   "cell_type": "code",
   "execution_count": 24,
   "metadata": {
    "id": "83YY2cKy7nba"
   },
   "outputs": [],
   "source": [
    "final_list = list(set(user_list).union(set(userList)))"
   ]
  },
  {
   "cell_type": "code",
   "execution_count": 25,
   "metadata": {
    "colab": {
     "base_uri": "https://localhost:8080/"
    },
    "executionInfo": {
     "elapsed": 3,
     "status": "ok",
     "timestamp": 1632996728165,
     "user": {
      "displayName": "Jyotsna Bisht",
      "photoUrl": "https://lh3.googleusercontent.com/a-/AOh14GiwqMjAYTnEiawyJJWKlc8XVlDKBRMm7YxhZKtUcw=s64",
      "userId": "03539750941216959448"
     },
     "user_tz": -330
    },
    "id": "ImZVoZZ698Tq",
    "outputId": "8fa1acd2-af53-477d-ead5-99e6e845de9a"
   },
   "outputs": [
    {
     "data": {
      "text/plain": [
       "1941"
      ]
     },
     "execution_count": 25,
     "metadata": {},
     "output_type": "execute_result"
    }
   ],
   "source": [
    "len(final_list)"
   ]
  },
  {
   "cell_type": "code",
   "execution_count": 26,
   "metadata": {
    "id": "ZF-Gy6Kh-VkA"
   },
   "outputs": [],
   "source": [
    "with open('final_user_list.txt', 'w') as f:\n",
    "    for item in final_list:\n",
    "        f.write(\"%s\\n\" % item)"
   ]
  },
  {
   "cell_type": "code",
   "execution_count": 27,
   "metadata": {
    "id": "KByvgf9eMRgG"
   },
   "outputs": [],
   "source": [
    "with open('final_user_list.txt', 'r') as f:\n",
    "    newList = f.read().splitlines()"
   ]
  },
  {
   "cell_type": "code",
   "execution_count": 28,
   "metadata": {
    "colab": {
     "base_uri": "https://localhost:8080/"
    },
    "executionInfo": {
     "elapsed": 440,
     "status": "ok",
     "timestamp": 1632996784565,
     "user": {
      "displayName": "Jyotsna Bisht",
      "photoUrl": "https://lh3.googleusercontent.com/a-/AOh14GiwqMjAYTnEiawyJJWKlc8XVlDKBRMm7YxhZKtUcw=s64",
      "userId": "03539750941216959448"
     },
     "user_tz": -330
    },
    "id": "C5SreZStMUEh",
    "outputId": "1452a0ea-ac3a-4d08-e2c3-5b33f0f0df2d"
   },
   "outputs": [
    {
     "data": {
      "text/plain": [
       "1941"
      ]
     },
     "execution_count": 28,
     "metadata": {},
     "output_type": "execute_result"
    }
   ],
   "source": [
    "len(newList)"
   ]
  },
  {
   "cell_type": "code",
   "execution_count": 29,
   "metadata": {
    "id": "am2KQE3vMXDu"
   },
   "outputs": [],
   "source": [
    "UserDataPath = \"UserData/\"\n",
    "ImageDataPath = \"InstagramImages/\"\n",
    "userDataList = []\n",
    "imageDataList = []\n",
    "for file in os.listdir(UserDataPath): #create filelist with all user json files\n",
    "    if file.endswith(\".json\"):\n",
    "        file = file[:-5]\n",
    "        userDataList.append(file)\n",
    "for dir in os.listdir(ImageDataPath): #create filelist with all user json files\n",
    "    imageDataList.append(dir)\n",
    "imageDataList = imageDataList[1:]"
   ]
  },
  {
   "cell_type": "code",
   "execution_count": 30,
   "metadata": {
    "colab": {
     "base_uri": "https://localhost:8080/"
    },
    "executionInfo": {
     "elapsed": 439,
     "status": "ok",
     "timestamp": 1632996870609,
     "user": {
      "displayName": "Jyotsna Bisht",
      "photoUrl": "https://lh3.googleusercontent.com/a-/AOh14GiwqMjAYTnEiawyJJWKlc8XVlDKBRMm7YxhZKtUcw=s64",
      "userId": "03539750941216959448"
     },
     "user_tz": -330
    },
    "id": "LmsFkmfmMZvW",
    "outputId": "efb59bb4-3ad7-4ea2-9ea1-ee760be33fd7"
   },
   "outputs": [
    {
     "data": {
      "text/plain": [
       "55"
      ]
     },
     "execution_count": 30,
     "metadata": {},
     "output_type": "execute_result"
    }
   ],
   "source": [
    "len(imageDataList)"
   ]
  },
  {
   "cell_type": "code",
   "execution_count": 31,
   "metadata": {
    "id": "DOMFtrkKMsTt"
   },
   "outputs": [],
   "source": [
    "listToDelete1 = [x for x in imageDataList if x not in userDataList]"
   ]
  },
  {
   "cell_type": "code",
   "execution_count": 32,
   "metadata": {
    "executionInfo": {
     "elapsed": 609,
     "status": "ok",
     "timestamp": 1632997662742,
     "user": {
      "displayName": "Jyotsna Bisht",
      "photoUrl": "https://lh3.googleusercontent.com/a-/AOh14GiwqMjAYTnEiawyJJWKlc8XVlDKBRMm7YxhZKtUcw=s64",
      "userId": "03539750941216959448"
     },
     "user_tz": -330
    },
    "id": "R-SrsQvCO4ht"
   },
   "outputs": [
    {
     "name": "stdout",
     "output_type": "stream",
     "text": [
      "['alexis_officia1', 'avani', 'aycaaysinturan', 'belindapop', 'bretmanrock', 'brielarson', 'camerondallas', 'carles5puyol', 'charlidamelio', 'cristiano', 'demetozdemir', 'dilettaleotta', 'enginaltandzytn', 'gemmastyles', 'hazardeden_10', 'hi_sseulgi', 'iambeckyg', 'iamsrk', 'jannatzubair29', 'jaydacheaves', 'kajol', 'kimheenim', 'kimkardashian', 'lizgillz', 'marimaria', 'memezar', 'memphisdepay', 'mirandacosgrove', 'nct', 'nikkietutorials', 'noahschnapp', 'noorstars', 'ozuna', 'paulolondra', 'pedroalonsoochoro', 'psg', 'realhinakhan', 'rezende', 'salshabillaadr', 'sarcasm_only', 'sergioramos', 'strangerthingstv', 'tamannaahspeaks', 'tanamongeau', 'therock', 'tomo.y9', 'trippieredd', 'vivi', 'wow_kimsohyun', 'zhanabylov_e']\n"
     ]
    }
   ],
   "source": [
    "print(listToDelete1)"
   ]
  },
  {
   "cell_type": "code",
   "execution_count": null,
   "metadata": {},
   "outputs": [],
   "source": []
  }
 ],
 "metadata": {
  "colab": {
   "authorship_tag": "ABX9TyPrWN9culI0YsGkunyhHj88",
   "collapsed_sections": [],
   "name": "instagram.ipynb",
   "provenance": []
  },
  "kernelspec": {
   "display_name": "Python 3 (ipykernel)",
   "language": "python",
   "name": "python3"
  },
  "language_info": {
   "codemirror_mode": {
    "name": "ipython",
    "version": 3
   },
   "file_extension": ".py",
   "mimetype": "text/x-python",
   "name": "python",
   "nbconvert_exporter": "python",
   "pygments_lexer": "ipython3",
   "version": "3.9.6"
  }
 },
 "nbformat": 4,
 "nbformat_minor": 1
}
