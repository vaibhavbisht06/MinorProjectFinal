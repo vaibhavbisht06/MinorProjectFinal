{
 "cells": [
  {
   "cell_type": "code",
   "execution_count": 1,
   "metadata": {
    "collapsed": true
   },
   "outputs": [],
   "source": [
    "import urllib\n",
    "from bs4 import BeautifulSoup"
   ]
  },
  {
   "cell_type": "code",
   "execution_count": 49,
   "metadata": {},
   "outputs": [
    {
     "name": "stdout",
     "output_type": "stream",
     "text": [
      "['1misssmeis', '3ala2o', '433', '6senseofficial', '7ikhals', 'a.sharif92', 'aaronsanimals', 'abanddoned', 'achievetheimpossible', 'adenorah', 'adesignersmind', 'adingattamimi_photography', 'adriancmurray', 'afnan_albatel', 'afofa', 'aguynamedpatrick', 'ahmet.erdem', 'aialahernando', 'aka.the.one', 'akusepp', 'aleksmusika', 'alenaakhmadullina', 'alessandro_carpentiero', 'alessioalbi', 'alexandrabring', 'alexandreagarza', 'alexcentomo', 'alexhonnold', 'alexiarayee', 'alexisren', 'alexmidler', 'alexstrohl', 'alice_gao', 'aliona_hilt', 'alissaviolet', 'alldaytravel', 'alliemtaylor', 'amandabisk', 'amandacerny', 'amiraa88', 'amivitale', 'ammish', 'amymarie', 'amytoensing', 'anadeliafitness', 'ana_lombardini', 'anddicted', 'andicsinger', 'andreabadendyck', 'andreadenver3', 'andreamelchiorre1', 'andreleonardooficial', 'andyheart', 'andy_mann', 'angela_mazzanti', 'angelicablick', 'anilarjandas', 'anllela_sagra', 'annanystrom', 'anniethorisdottir', 'annijor', 'anniksas', 'annlestyle', 'annybakhireva', 'antonlofer', 'applebums', 'arc.only', 'archilovers', 'archixxi', 'argonautphoto', 'arielealasko', 'arikasato', 'arni_coraldo', 'arqsketch', 'artofdrawingg', 'artofvio', 'artofvisuals', 'art_spotlight', 'ashimashiraishi', 'ashybines', 'aspynovard', 'audidriven', 'audiosoup', 'audi_obsession', 'aureta', 'avaallan', 'averagerob', 'awesome.pix', 'awesomedreamplaces', 'badasscassfit_', 'baloublue', 'barcelonacitizen', 'beachyogagirl', 'beckermanblog', 'bejamin', 'belenhostalet', 'benakribo', 'benlowy', 'berlinstagram', 'bestofmenstyle', 'bestofstreetstyled', 'bestwoof', 'bethanyhamilton', 'bethsusu', 'bettyautier', 'beverlyjoubert', 'bibbideg', 'bigchunkymonkey', 'bjcalvillo', 'blackjaguarwhitetiger', 'blaireadiebee', 'blakescott_', 'blanca_suarez', 'blogilates', 'blvckd0pe', 'bobbimac', 'borgeousmusic', 'bossbabe.inc', 'boxingguru', 'brahmino', 'brettcap', 'brianskerry', 'brigadeirochoc', 'brightonkeller', 'britishfashioncouncil', 'brookewillson', 'brooklynandbailey', 'brosnacion', 'brunaviolamt', 'bryceyoga', 'burakkahveci', 'buseterim', 'butusofa', 'cacatengker', 'cactusmagazine', 'cafajestando', 'caitbarkerr', 'caitlin__oconnor', 'camaro.family', 'camilacoelho', 'camilasenna', 'canadasworld', 'capucineanavoff', 'car', 'carinstagram', 'carlibel', 'carlifestyle', 'carlorevenga', 'carlosestini', 'carly', 'carodaur', 'carolsaraivafitness', 'caro_e_', 'carringtondurham', 'catherinepaiz', 'cathiarivera', 'cath_belle', 'catmantoo', 'cbquality', 'cedarwright', 'cesinha', 'chaileeson', 'chamiltonjames', 'changmakeup', 'charlestrippy', 'chiarabiasi', 'chiaraferragni', 'chicagofoodauthority', 'chico_lachowski', 'chiliphilly', 'chloemorello', 'chloeszep', 'chloe_penderie', 'chrisburkard', 'chrisjohnmillington', 'chrisozer', 'christendominique', 'christianziegler', 'christinabiluca', 'christinehmcconnell', 'christopherandersonphoto', 'chris_sharma', 'chuck', 'cimkedi', 'cintascotch', 'ciriljazbec', 'civilking', 'claireonline', 'clarecrawley', 'classiccarchasers', 'colbybrownphotography', 'colerise', 'collagevintage', 'college_housewife', 'conrad_anker', 'coryrichards', 'couturenotebook', 'cozinhadalbo', 'cravingsinamsterdam', 'crazyjewishmom', 'cristinamittermeier', 'crochetgirl99', 'croyable', 'cuchira', 'cucinadigitale', 'culturizate', 'cutegirlshairstyles', 'cyarine', 'd.signers', 'daddyissues_', 'dailyfoodfeed', 'daisyclementine', 'dalalid', 'damselindior', 'danbilzerian', 'danica.torres', 'daniel_ernst', 'dani_thorne', 'dannibelle', 'dannyzappa', 'danrubin', 'dansmoe', 'daveyoder', 'davidalanharvey', 'daviddoubilet', 'davidson_frere', 'davidstea', 'dawilda', 'deemabayyaa', 'deliciouslyella', 'deliscake', 'deporloversteam', 'der_landgraf', 'designdecor', 'destinationwolf', 'destination_wow', 'devanondeck', 'devourpower', 'dguttenfelder', 'diegobarrueco', 'digernes', 'diipakhosla', 'diogopicarra', 'disney_nuts', 'doctor.mike', 'doentesporfutebol', 'doina', 'donkarlito_', 'donnahaymagazine', 'dotzsoh', 'doyoutravel', 'drewtrush', 'drmusatokmak', 'dulceida', 'dunk', 'eatandshout', 'eatfamous', 'eatingnyc', 'eddypinto_', 'edkashi', 'edmhumor', 'elaine_yiu', 'elenacarriere.official', 'elensham', 'elisabeth.rioux', 'elizabethgadd', 'eljuanpazurita', 'elladvornik', 'elliott.mae', 'elliottsailors', 'elnenecio', 'elsas_wholesomelife', 'el_kilombo', 'emilyostbro', 'emilyschuman', 'emilyskyefit', 'emily_katz', 'emwng', 'enjoyphoenix', 'epictravelpost', 'erikjonesart', 'ernandaputra', 'erubes1', 'escolhiesperar', 'estonianna', 'eternal_noir', 'europe.vacations', 'euvictornogueira', 'evakosmasflores', 'everlook_photography', 'everythingeverywhere', 'exoticsbrazil', 'extremenature', 'f1mike28', 'faafirds', 'fabumakeup4u', 'faby_mamaedegemeos', 'faheeym', 'faktastisch', 'fantastic_earth', 'fashionboystyle', 'fashionforfemmes', 'fashion_by_gi', 'fatosfemininos', 'featureshoot', 'felicitegrace', 'felixsiauw', 'filippofiora', 'finn', 'fitopaezmusica', 'fitqueenirene', 'fit_trio', 'fixthisbuildthat', 'flamuruk', 'flettemamma', 'fluffypack', 'forn_sant_francesc', 'fozaza', 'framboisejam', 'francescocostagliola_', 'frangocombatatadoce', 'frank_the_funnyfrenchie', 'franslanting', 'frasesdem3rda', 'frasibianche.it', 'frenchiebutt', 'frenchwords', 'funforlouis', 'gabrielapugliesi', 'gabyespino', 'galagonzalez', 'garancedore', 'garypeppergirl', 'gatherandfeast', 'gavinoneillphoto', 'gentbelike', 'gentslounge', 'geosteinmetz', 'gerdludwig', 'germanroamers', 'giangi_81', 'gianmarcovalenza', 'giizeleoliveira', 'ginizzle', 'giulianafortuna', 'gizemozdem1', 'gkstories', 'glencyfeliz', 'globe.travelpix', 'goldengianpy', 'goldenretrievers_', 'goodnewsfeed', 'gregsideris', 'grungesource', 'gui_', 'gurukafa', 'guytang_mydentity', 'guy_tang', 'gwilymcpugh', 'gypsea_lust', 'gypsetgoddess', 'hadiaghaleb', 'hahahahahahahaahahahahahahahah', 'hairgod_zito', 'halliedaily', 'hammond_robin', 'hannes_becker', 'hapatime', 'happinessbtq', 'hawkeyehuey', 'hayden_williams', 'heidimakeupartist', 'helenblandino', 'helloemilie', 'hillaryoff', 'hosico_cat', 'hotdudesreading', 'hotelsandresorts', 'house.of.leaders', 'hudabeauty', 'humansofny', 'iamamypham', 'iamgalla', 'iartos', 'ibrahimgi', 'icandyfitbeauty', 'iconize', 'idalaerke', 'idawarg', 'ideas_tatoo', 'ifuckinglovewatches', 'igorszucs', 'ig_pups', 'ihavethisthingwithfloors', 'indian_wedding_inspiration', 'ines_arroyo', 'ingridnilsen', 'insideweddings', 'instagrafite', 'instasurreal', 'interiorwife', 'ipaniza', 'irablockphoto', 'ireneisgood', 'irinahp', 'isnathan', 'italy.vacations', 'itsanuthida', 'itscaroo', 'itslydboss', 'iuriebelegurschi', 'ivankphoto', 'izkiz', 'j.hannah', 'jacob', 'jacobauesobolnew', 'jadeywadey180', 'jaglever', 'jai_nice', 'jamesalexanderellis', 'jamesgunn', 'janeteaestranha', 'janicejoostemaa', 'janinauhse', 'jannid', 'jannikobenhoff', 'jaredwhitney', 'jasminleonie.official', 'jasoncharleshill', 'javierrrey', 'jayalvarrez', 'jaydepierce', 'jeffmackdesigns', 'jenselter', 'jessiejamesdecker', 'jessiekass', 'jestemzolza', 'jethromullen', 'jimmy_chin', 'jimrichardsonng', 'jiordyn', 'jldrae', 'jn', 'joannagaines', 'joannakuchta', 'joelsartore', 'joemcnallyphoto', 'johannaeolsson', 'johnstanmeyer', 'jonanwiergo', 'jonathan_irish', 'jonesmarcia', 'joselyncano', 'juanjaramilloe', 'jujujuxiaowen', 'juliahengel', 'justhanni', 'kardinalmelon', 'karinalarrauri', 'karina_nigay', 'kateclapp', 'katerina_perez', 'katia_mi', 'katia_mi_', 'katya_mtsitouridze', 'kat_in_nyc', 'kayla_itsines', 'keenanpearce', 'keiyamazaki', 'kelsbrianne', 'kelsrfloyd', 'kenzas', 'kerrently', 'kerriehessillustration', 'kessara', 'kewiki', 'khivju', 'kickposters', 'kilianjornet', 'kinoyoga', 'kirstenalana', 'kirstenzellers', 'kitkat_ch', 'knifeaxe', 'kochifaraj', 'konaction', 'konservatif', 'kosta_williams', 'kpunkka', 'kristinabazan', 'kthegroove', 'kylekriegerhair', 'kyrenian', 'ladyaddict', 'ladzinski', 'lalasizahands89', 'landonnordeman', 'lane_toran', 'lasselom', 'latifitness', 'laughtercolours', 'laurajenkinson', 'laurasykora', 'laurenepbath', 'laurensimpson', 'lavicvic', 'leagueofupdates', 'leighannsays', 'lenas_view', 'lennart', 'levijfoster', 'le_blanc', 'libesona', 'lilithmoonlife', 'lilymaymac', 'linatesch', 'linda_lomelino', 'lioninthewild', 'lipstickfables', 'lisahyde_', 'lissletters', 'littlelizziev', 'livemontreal', 'livingitrural', 'livingonearth', 'lizaonair', 'local_milk', 'lojain_omran', 'louisdarcis', 'louteasdale', 'love.watts', 'loveandlemons', 'lovelypepa', 'luanasilva', 'lucamacellaripalmieri', 'luckybsmith', 'lumadeline', 'luxurybridalblogger', 'lyzabethlopez', 'lyzabeth_lopez', 'maaren_xx', 'macenzo', 'madds', 'madwhips_aston', 'madwhips_benz', 'madwhips_bimmer', 'madwhips_british', 'madwhips_frd', 'madwhips_german', 'madwhips_gtr', 'madwhips_import', 'madwhips_italian', 'madwhips_mas', 'madwhips_mcl', 'madwhips_pag', 'madwhips_por', 'madwhips_usa', 'magic_fox', 'majachocolat', 'makaniterror', 'makanpakereceh', 'makeupartistale', 'makeupbydenise', 'makeupshayla', 'manalalalem', 'mangorabbitrabbit', 'manizha', 'manny_the_frenchie', 'man__magazine', 'maraferreira', 'marcelfloruss', 'marcusbleasdale', 'marcusbutler', 'margaret__zhang', 'mariafranciska', 'mariale', 'marianodivaio', 'maria__way', 'marinlle', 'marioncameleon', 'marioteguh', 'mariotestino', 'martabevacqua', 'marte_marie_forsberg', 'martinalapeligrosa', 'marutaro', 'maryamnyc', 'marycake', 'massy.arias', 'mathildegoehler', 'mattblack_blackmatt', 'matthiasmalmedie', 'mattiasklumofficial', 'mattscutt', 'mauricetravelphotos', 'mayabeaute', 'mayonose', 'meeeeeeeel_', 'meganhess_official', 'meghanrienks', 'melissafarlow', 'mensfashions', 'mensflair', 'menshairs', 'menshoesfashions', 'mentorofthebillion', 'menwithclass', 'menwithfootwear', 'menwithstreetstyle', 'meryturiel', 'mevy', 'mia_astral', 'micahgianneli', 'michaelchristopherbrown', 'michaelgiroux', 'michaelmelford', 'michelle_lewin', 'mija_mija', 'mikekus', 'mikeleceppi', 'mikkolagerstedt', 'mimielashiry', 'minilicious', 'miraduma', 'mishbridges', 'missalena.92', 'misscoolpics', 'misselvani', 'misshattan', 'missphitran', 'misswinter', 'miss_gunner', 'miss_tina_louise', 'misterflopatrick', 'mjdwarner', 'mo', 'moasalem', 'modaparameninas', 'modaprahomens', 'model_roz', 'moners', 'monycaeleogram', 'moonmountainman', 'morganphillips', 'motiheidari', 'motivafoods', 'movifiedbollywood', 'mrpaddingtonbear', 'mrscasual', 'muenchmax', 'muitointeressante', 'muradosmann', 'mustafaseven', 'myoliemyolie', 'myspacetom', 'm_eye_nd', 'nadiadamaso_ebnl', 'nadia_mejia', 'naguevona', 'nahcardoso', 'nakedplanet', 'namkcaps', 'nashgrier', 'nastilove', 'nataliareyesg', 'nataliehalcro', 'nataliejillfit', 'natalietong_tsw', 'natgeoyourshot', 'nathparis', 'nationaldestinations', 'natlustosa', 'nazlihb', 'negin_mirsalehi', 'neriad', 'newdarlings', 'ngoldenberg', 'nicanorgarcia', 'nick__bateman', 'nico__riera', 'nihatkayin', 'ninaserebrova', 'noel.alva', 'nois7', 'norbertthedog', 'nouraridaofficial', 'nourish_atelier', 'nude_yogagirl', 'nwuuu', 'ocean', 'ohhcouture', 'ohwowfashion', 'olayseven', 'oliviaemilyx', 'oliviapierson', 'omarhuss', 'omgdeedee', 'omundoanimal', 'ovunno', 'owright', 'paigehathaway', 'paleyphoto', 'pamela_rf', 'pamemcbeath', 'pamhetlinger', 'pangea', 'paolausme', 'paollaoliveirareal', 'parisbyvegan', 'parisianfloors', 'parisinfourmonths', 'paulinhohop', 'paulnicklen', 'pedromcbride', 'pegasusunicorn', 'petekmuller', 'petisco', 'petitesluxures', 'piamuehlenbeck', 'pickupjazz', 'pilotpatric', 'pimtha', 'pinkperception', 'piques', 'pitterpatterfurryfeet', 'plriley', 'pnwonderland', 'polabur', 'popeyethefoodie', 'prettyfrowns', 'pretty__home', 'princepelayo', 'professor_pouncey', 'puanindya', 'r.h.sin', 'rachelapollonio', 'raffinagita1717', 'raldo', 'randyolson', 'raymacdonald', 'rayzanicacio', 'realdiddykong', 'realgrumpycat', 'reallilscrappy', 'real_nbamemes', 'rebelrecipes', 'rebferrari', 'rembake', 'renan_ozturk', 'renegrincourt', 'restless.arch', 'retrieverpuppies', 'rezaphotography', 'riverviiperi', 'robertclarkphoto', 'robinmartinyoga', 'rodhodgeii', 'rokenr', 'romaincolin', 'ronan_donovan', 'roofusandkilo', 'rosannaarkle', 'rosielondoner', 'roundtheworldgirl', 'rsimacourbe', 'rubiamood', 'rumineely', 'runnerspace', 'rupikaur_', 'rvstapleton', 'ryanleslie', 'sagegoldnik', 'salehalbraik', 'salvarezphoto', 'samblacky', 'samhorine', 'sandraprikker', 'sandro', 'santantactical', 'sapnavyaspatel', 'sarabuho', 'sarahayuh_', 'sarahpour', 'sarahstage', 'saschafitness', 'sashaspilberg', 'sashsuicide', 'sassychris1', 'savourschool', 'science', 'scott_kranz', 'seacannon', 'seanopry55', 'sea_see_you', 'sebinaah', 'secdus', 'sefayamak', 'sejkko', 'sergiocarlo', 'sergiocarvajal7', 'shannakress83', 'sharlenetaule', 'shaunacoxsey', 'sheidafashionista', 'sheidlina', 'sheikeandco', 'sherifartisan', 'sherylrubio', 'shitheadsteve', 'shonephoto', 'shorteline', 'shoutmysneakz', 'shradsblog', 'simbathebengal2015', 'simplysona', 'sincerelyjules', 'sisterlystyle', 'slikhaartv', 'smithsonian', 'sneakernews', 'solelyjumpman', 'solelynikes', 'soloenvenezuela', 'sonchicc', 'sondos_aq', 'songofstyle', 'soniatlevfitness', 'sonyaesman', 'soysaludable', 'speedsociety', 'spencercotton', 'stationcdrkelly', 'stefaniegoldmarie', 'stefankunz', 'stefanopirini', 'stefanotratto', 'stefanounterthiner', 'stellahudgens', 'stephenwilkes', 'stephsinclairpix', 'stevebooker', 'stevemccurryofficial', 'stevewinterphoto', 'streetsfashions', 'strictlyweddings', 'stylebook_', 'stylizimoblog', 'sucharcodzienny', 'sunkissalba', 'supercarlifestyle', 'superchinois801', 'supernewslive', 'swaypaul', 'swisswatches', 'sx.crudo', 'sydneyfashionblogger', 'symphanisoto', 'talk_to_the_paw', 'tammyhembrow', 'taramilktea', 'tarastiles', 'tastyasheck', 'tattoodo', 'tavicastro', 'teamfk', 'tetongravity', 'theballoondiary', 'theclassypeople', 'thefashionguitar', 'thefatjewish', 'thefella', 'thegoodquote', 'thegreylayers', 'thehautepursuit', 'thejianhaotan', 'themrsgibby', 'thenativefox', 'theobonaparte', 'theplanetd', 'theradavist', 'therealfouz', 'thesartorialist', 'theseanodonnell', 'theshadowconspiracy', 'thesheerconnection', 'thetrottergirl', 'thevisualscollective', 'theworldguru', 'the_fabcloset', 'the_salty_blonde', 'thiagomlcorrea', 'thisisamans.world', 'thiswildidea', 'thomaspeschak', 'thomas_k', 'thriftsandthreads', 'tiablanco', 'tiboinshape', 'timethai', 'timlaman', 'tomer_gelb', 'tommycaldwell', 'tonnyboom', 'trainforfitspo', 'travelandleisure', 'travelrack', 'travisburkephotography', 'travisrice', 'twallisch', 'twinkleintrendz', 'ulyana.aster', 'universityofrock', 'uolesporte', 'uptopquotes', 'vacationwolf', 'val.mercado', 'vanesabasanta', 'vanessasenior', 'vanlifers', 'vaughngittinjr', 'vegan', 'vegancommunity', 'vegas_nay', 'vexx_art', 'victoriabonya', 'victoriaportfolio', 'victoriarpro', 'victoriatornegren', 'vikikacosta', 'violetbens0n', 'vonmiller', 'vutheara', 'weddingz.in', 'weinspireyourfashion', 'weinspireyouroutfits', 'whatmyboyfriendwore', 'whereloveisillegal', 'whiteaddicted', 'wildcoyphotography', 'wilde_oates', 'willamazing', 'williamjardell', 'williegomez', 'wisslaren', 'withhearts', 'withlovekarissa', 'wolfdeutschland', 'wonderful_location', 'wonderful_places', 'worldoflabs', 'worldwanderlust', 'wristtakers', 'wycked_shaun', 'xenia', 'xeniaoverdose', 'xiaxue', 'xostylistxo', 'xserrano9', 'yarasantosoficial', 'ygolsharifi', 'yoga_girl', 'youngmeerim', 'yuyacst', 'zachallia', 'zacsmithfitness', 'zaraamaria', 'zhanna_badoeva', 'zoelaz', 'zoepastelle', 'zynp', 'zyoshka', '_foodstories_', '_hollyt', '_ingo_1', '_mariannejacobsen_', '_picolo', '_tinamaria', '_tuck4']\n"
     ]
    }
   ],
   "source": [
    "import os\n",
    "Path = \"profiles/\"\n",
    "userList = []\n",
    "for file in os.listdir(Path): #create filelist with all user json files\n",
    "    if file.endswith(\".json\"):\n",
    "        file = file[:-5]\n",
    "        userList.append(file)\n",
    "print(userList)  "
   ]
  },
  {
   "cell_type": "code",
   "execution_count": 68,
   "metadata": {},
   "outputs": [
    {
     "data": {
      "text/plain": [
       "978"
      ]
     },
     "execution_count": 68,
     "metadata": {},
     "output_type": "execute_result"
    }
   ],
   "source": [
    "len(userList)"
   ]
  },
  {
   "cell_type": "code",
   "execution_count": 66,
   "metadata": {},
   "outputs": [],
   "source": [
    "url = \"https://hypeauditor.com/en/top-instagram/?p=\"\n",
    "items = []\n",
    "for i in range (0, 20):\n",
    "    page = urllib.request.urlopen(url+str(i+1))\n",
    "    soup = BeautifulSoup(page, 'html.parser')\n",
    "    table = soup.find('table')\n",
    "    body = table.find('tbody')\n",
    "    for row in body.findAll('tr'):\n",
    "        user = row.find(\"a\", class_=\"kyb-ellipsis\")\n",
    "        username = user.decode_contents()\n",
    "        username = username[1:]\n",
    "        items.append(username)"
   ]
  },
  {
   "cell_type": "code",
   "execution_count": 67,
   "metadata": {},
   "outputs": [
    {
     "name": "stdout",
     "output_type": "stream",
     "text": [
      "['cristiano', 'selenagomez', 'kyliejenner', 'leomessi', 'kimkardashian', 'beyonce', 'kendalljenner', 'ddlovato', 'therock', 'justinbieber', 'taylorswift', 'arianagrande', 'instagram', 'neymarjr', 'khloekardashian', 'badgalriri', 'mileycyrus', 'nickiminaj', 'shawnmendes', 'emmawatson', 'lelepons', 'zayn', 'zacefron', 'deepikapadukone', 'kourtneykardash', 'zendaya', 'kingjames', 'realmadrid', 'jamesrodriguez10', 'wherearetheavocados', 'lalalalisa_m', 'lilireinhart', 'iamcardib', 'champagnepapi', 'virat.kohli', 'gigihadid', 'robertdowneyjr', 'vindiesel', 'world_record_egg', 'aliaabhatt', 'fcbarcelona', 'nike', 'paulodybala', 'chrishemsworth', 'jennierubyjane', 'vancityreynolds', 'camimendes', 'jlo', 'brunamarquezine', 'real__pcy', 'colesprouse', 'nasa', 'shraddhakapoor', 'mosalah', 'sooyaaa__', 'jamescharles', 'k.mbappe', 'lizakoshy', 'davidbeckham', 'adele', 'bts.bighitofficial', 'iamzlatanibrahimovic', 'milliebobbybrown', 'madelame', 'danbilzerian', 'kimberly.loaiza', 'tomholland2013', 'oohsehun', 'kjapa', 'willsmith', 'priyankachopra', 'shakira', 'jasonstatham', 'paulpogba', 'emilia_clarke', 'thenotoriousmma', 'pewdiepie', 'theellenshow', 'roses_are_rosie', 'natgeo', 'beingsalmankhan', 'ranveersingh', 'maluma', 'katyperry', 'blackpinkofficial', 'chrisbrownofficial', 'camila_cabello', 'brunomars', 'ncentineo', 'katrinakaif', 'jacquelinef143', 'baekhyunee_exo', 'dualipa', 'caradelevingne', 'championsleague', 'kevinhart4real', '9gag', 'lilpump', 'whinderssonnunes', 'sergioramos', 'haileybieber', 'gal_gadot', 'amandacerny', 'mahi7781', 'vanessahudgens', 'zidane', 'justintimberlake', 'marcelotwelve', 'nehakakkar', 'antogriezmann', 'garethbale11', 'margotrobbie', 'varundvn', 'nickjonas', 'anuel_2blea', 'emrata', 'hrithikroshan', 'shanedawson', 'badbunnypr', 'eljuanpazurita', 'toni.kr8s', 'liamhemsworth', 'teddysphotos', 'prattprattpratt', 'katherinelangford', 'travisscott', 'nikefootball', 'brentrivera', 'karolg', 'barackobama', 'michelleobama', 'postmalone', 'hannahstocking', 'daddyyankee', 'sophiet', 'hazardeden_10', 'lukamodric10', 'graysondolan', 'stephencurry30', 'dovecameron', 'maddieziegler', 'bellahadid', 'narendramodi', 'loganpaul', 'catherinepaiz', 'zachking', 'ethandolan', 'dishapatani', 'victoriassecret', 'akshaykumar', 'anushkasharma', 'realbarbarapalvin', 'bretmanrock', 'phil.coutinho', 'niallhoran', 'georginagio', 'ronaldinho', 'karimbenzema', 'nusr_et', 'daviddobrik', 'raisa6690', 'luissuarez9', 'juventus', 'saraalikhan95', 'yuyacst', '_emmachamberlain', 'annakendrick47', 'jeffreestar', 'larissamanoela', 'jokowi', 'shahidkapoor', 'sommerray', 'iamhalsey', 'chrissyteigen', 'marinaruybarbosa', 'nina', 'lucyhale', 'nba', 'marvelstudios', 'fortnite', 'skawngur', 'manchesterunited', 'liampayne', 'sunnyleone', 'jbalvin', 'charlieputh', 'theweeknd', 'm10_official', '3gerardpique', 'noahschnapp', 'parineetichopra', 'sabrinacarpenter', '433', 'jacksonwang852g7', 'alissaviolet', 'iamsrk', 'zyxzjs', 'alexisren', 'camerondallas', 'zkdlin', 'krisjenner', 'elle', 'loren', 'iansomerhalder', 'antoroccuzzo88', 'heybiblee', 'ashleybenson', 'bambam1a', 'marshmellomusic', 'nikkietutorials', 'burakozcivit', '_agentgirl_', 'handemiyy', 'anitta', 'annehathaway', 'luisitocomunica', 'princessyahrini', 'tigerjackieshroff', 'gusein.gasanov', 'kartikaaryan', 'leaelui', 'austinmcbroom', 'daquan', '21savage', 'bhadbhabie', 'chiaraferragni', 'kenzie', 'dwyanewade', 'lilyjcollins', 'c.syresmith', 'ninja', 'urvashirautela', 'letthelordbewithyou', 'taeyeon_ss', 'gisele', 'leonardodicaprio', 'britneyspears', 'perrieedwards', 'luisafernandaw', 'troyesivan', 'elrubiuswtf', 'prideofgypsies', 'obj', 'martingarrix', 'gameofthrones', 'mirandacosgrove', 'liluzivert', 'thehughjackman', '5.min.crafts', 'iqbaal.e', 'amitabhbachchan', 'jordynwoods', 'markruffalo', 'adidasoriginals', 'mcmirella', 'bn_sj2013', 'kritisanon', 'juki_lop', 'jensenackles', 'germangarmendia', 'ozuna', 'tyga', 'iscoalarcon', 'reynmen', 'carlinhosmaiaof', 'victoriajustice', 'finnwolfhardofficial', 'channingtatum', 'adidasfootball', 'simoneses', 'meekmill', 'yoona__lim', 'asaprocky', 'michaelbjordan', 'russwest44', 'jakepaul', 'miakhalifa', 'maisa', 'madisonbeer', 'mark_tuan', 'kapilsharma', 'lizbethrodriguezoficial', 'twicetagram', 'skuukzky', 'dava_m', 'dlwlrma', 'buzzfeedtasty', 'mikhail_litvin', 'shelengovskiy', 'marcoasensio10', 'tatawerneck', 'iambeckyg', 'henrycavill', 'andresiniesta8', 'annieleblanc', 'kingbach', 'jacobelordi', 'vanessamorgan', 'aishwaryaraibachchan_arb', 'sav.labrant', 'wizkhalifa', 'hassan_reyvandi', 'kimjuncotton', 'joeyking', 'nancyajram', 'lanacondor', 'thenewclassic', 'hudabeauty', 'soydannyalfaro', 'claireholt', 'rohitsharma45', 'lizgillz', 'houseofhighlights', 'peytonlist', 'taylor_hill', 'chapolinsincero', 'emmaroberts', 'zara', 'nissa_sabyan', 'kyo1122', 'sachintendulkar', 'kevinho', 'offsetyrn', 'aslisona', 'earthpix', 'marimariamakeup', 'alexandradaddario', 'gururandhawa', 'paulwalker', 'joannagaines', 'premierleague', 'prillylatuconsina96', 'd_degeaofficial', 'mariliamendoncacantora', 'bhuvan.bam22', 'alok', 'losangelesconfidential', 'alexis_officia1', '_rl9', 'shuapeck', 'brittanya187', 'kyliecosmetics', 'haileesteinfeld', 'shaymitchell', 'liverpoolfc', 'ricky_martin', 'lanadelrey', 'future', 'chelseafc', 'o.dembele7', '50cent', 'twhiddleston', 'lukehemmings', 'ladivaza', 'viniciusjunior', 'banksy', 'joejonas', 'reesewitherspoon', 'kyrieirving', 'egorkreed', 'thefatjewish', 'vousmevoyez', 'jannatzubair29', 'khabib_nurmagomedov', 'marvel', 'dannapaola', 'kriswu', 'danirussotv', 'schwarzenegger', 'adidas', 'sofiacarson', 'floydmayweather', 'nickyjampr', 'laflare1017', 'auronplay', 'sebas', 'weareone.exo', 'trippieredd', 'riaricis1795', 'samsmith', 'gianlucavacchi', 'ciara', 'ustadzabdulsomad', 'tammyhembrow', 'easportsfifa', 'laurenlondon', 'madhuridixitnene', 'maisie_williams', 'sonamkapoor', 'kimshantal', 'danialves', 'laurenjauregui', 'bmw', 'nattinatasha', 'luisasonza', 'ivanrakitic', 'redvelvet.smtown', 'jinyoung_0922jy', 'debbyryan', 'fedez', 'ssinz7', 'yu_gyeom', 'bigsean', 'lunamaya', 'strangerthingstv', 'ursulolita', 'marcinho11', 'watanabenaomi703', 'cole.labrant', 'grantgust', 'jenniferwinget1', 'ivetesangalo', 'shreyaghoshal', 'easymoneysniper', 'sandiuno', 'fcbayern', 'phs1116', 'harialmeida_', 'inanna', 'samoylovaoxana', 'kaka', 'psg', 'samantharuthprabhuoffl', 'jaredpadalecki', '10aguerosergiokun', 'roberto_firmino', 'chaelincl', 'karolsevillaofc', 'amandaeliselee', 'francinyehlke', 'kajalaggarwalofficial', 'iisuperwomanii', 'sadiesink_', 'soycarolinadiaz', 'mterstegen1', 'marcusrashford', 'lisaandlena', 'shirleysetia', 'bts.jungkook', 'gatenm123', 'rossbutler', 'irinashayk', 'paulolondra', 'colleen', 'bibisbeautypalace', 'lamborghini', 'gucci', 'brielarson', 'sureshraina3', 'renner4real', 'enriqueiglesias', 'jadepicon', 'melton', 'caeliyt', 'natgeotravel', 'sofiaalcastro', 'soyummy', 'lizasoberano', '1demetozdemir', 'therealstanlee', 'caiocastro', 'greeicy1', 'rubyrose', 'ileana_official', 'pefabiodemelo', 'badabun', 'viavallen', 'rterdogan', 'serenawilliams', 'soyandreazuniga', 'buzova86', 'zo', 'markiplier', 'lacikaysomers', 'demirosemawby', 'joshuadun', 'lilbaby_1', 'nikita_dragun', 'neslihanatagul', 'porsche', 'ygtrece', 'nianaguerrero', 'maudyayunda', 'attahalilintar', 'golfarahani', 'chadwickboseman', 'pautips', 'kingarturo23oficial', 'sabrinasato', 'nehasharmaofficial', 'thecwriverdale', 'adrianalima', 'laudyacynthiabella', 'viihtube', 'hardikpandya93', 'snoopdogg', 'juandediospantoja', 'chloegmoretz', 'ayutingting92', 'tfue', 'twentyonepilots', 'supremepatty', 'lewishamilton', 'paollaoliveirareal', 'chanelofficial', 'amberrose', 'felipeneto', 'jesselingard', 'martial_9', 'prabowo', 'eliana', 'rezagolzar', 'nfl', 'kehlani', 'officialslystallone', 'alfysaga', 'cznburak', 'tinistoessel', 'luansantana', 'sofiavergara', 'netflix', 'gisel_la', 'aliciakeys', 'tiffanyyoungofficial', 'vickykaushal09', 'calleypoche', 'lilyachty', 'angelcandices', 'avengers', 'kodakblack', 'salmahayek', 'mohamadaminkarimpor', 'mylifeaseva', 'yg', 'madonna', 'bernardokath', 'sza', 'queennaija', 'ikercasillas', 'wesleysafadao', 'alaiamcbroom', 'mr_faisu_07', 'ksi', 'chancetherapper', 'jaclynhill', 'malutrevejo', 'kajol', 'massafera', 'cleo', 'ludmilla', 'brooklynbeckham', 'iamyanetgarcia', 'thedeverakonda', 'angeliqueboyer', 'wwe', 'quavohuncho', 'oprah', 'songjoongkionly', 'kevindebruyne', 'arron_crascall', 'ellenpompeo', 'borodylia', 'thecameronboyce', 'salicerose', 'jessicabiel', 'beberexha', 'anaclaraac', 'lizzzak', 'princeroyce', 'sarasampaio', 'txt_bighit', 'humansofny', 'apple', 'jharden13', 'playstation', 'jordialbaoficial', 'celestebarber', 'easymoneysniper', 'youtube', 'kristenhanby', 'joselyncano', 'divyankatripathidahiya', 'calumhood', 'agnezmo', 'bugatti', 'zuck', 'wolfiecindy', 'sidmalhotra', 'jimmyfallon', 'mercedesbenz', 'streetartglobe', '_irishbella_', 'sarcasm_only', 'malcriado.x', 'manuelneuer', 'hztttao', 'jaredleto', 'starbucks', 'jessica.syj', 'klaythompson', 'nagiev.universal', 'serenayss', 'timatiofficial', 'yamigautam', 'simaria', 'jude_devir', 'gabunion', 'belenrodriguezreal', 'poche', 'casemiro', 'friends', 'alidaei', 'aubameyang97', 'audi', 'raffinagita1717', 'waynerooney', 'beautifuldestinations', 'janhvikapoor', 'flaviapavanelli', 'joaoguilherme', 'btsjimin', 'cvillaloboss', 'cocielo', 'saythename_17', 'candiceking', 'giannis_an34', 'gan_13_', 'karinakross', 'littlemix', 'tiktok', 'troubleman31', 'miguel.g.herran', 'acunilicali', 'got7.with.igot7', 'inijedar', 'hanan_attaki', 'jacksepticeye', 'manurios', 'edwestwick', 'lilskies', 'catriona_gray', 'julianapaes', 'bighit_ent', 'aliiiiiiiikarimi8', 'praybeytbenjamin', 'aslienver', 'ritaora', 'jayalvarrez', 'anastasiya_kvitko', 'carles5puyol', 'nattyiceofficial', 'salshabillaadr', 'alvaromorata', 'davikah', 'uncle_jezzy', 'teyanataylor', 'claudialeitte', 'ross_lynch', 'bleacherreport', 'theslumpgod', 'fernandasouzaoficial', 'valeyellow46', 'woodyandkleiny', 'sleepinthegardn', 'aniyudhoyono', 'imouniroy', 'starwars', 'faz3', 'chomismaterialgirl', 'jacobsartorius', 'abdevilliers17', 'rogerfederer', 'raphaelvarane', 'gopro', 'xsqueezie', 'g_eazy', 'zoesugg', 'lucasvazquez91', 'mariapedraza_', 'bellathorne', 'galichida', 'wow_kimsohyun', 'harrykane', 'wizkidayo', 'farahdhukai', 'maiamitchell', 'priya.p.varrier', 'itsmarziapie', 'thegr8khalid', 'zelenskiy_official', 'kobebryant', 'lupitanyongo', 'skeetme1', 'ronaldo', 'priscillaalcantara', 'dhasiawezka', 'hazalkaya', 'thuggerthugger1', 'baronjimena', 'stevengerrard', 'natashawilona12', 'daniellachavezofficial', 'danielaacallee', 'dylansprouse', 'supremenewyork', 'louisvuitton', 'logic', 'keylornavas1', 'arjunkapoor', 'johnnyorlando', 'rambodjavan1', 'jenselter', 'jumpman23', 'thiagosilva', 'imsebastianstan', 'cagatayulusoy', 'anthony_joshua', 'rylandadams', 'kiernanshipka', '5sos', 'childishgambino', 'aislinnderbez', 'ferrari', 'sethrogen', 'skrillex', 'bumkeyk', 'codychristian', 'myriamfares', 'prdsdef', 'taapsee', 'melissabenoist', 'rudymancuso', 'jaimelorentelo', 'manushi_chhillar', 'wonderful_places', 'pokimanelol', 'tarajiphenson', 'nct', 'alejandroflrs', 'tombrady', 'michaelclifford', 'sashapieterse', 'o_betancourt', 'margie_rasri', 'hilaryduff', 'remixadam', 'romeosantos', 'mclivinho', 'julienco_', 'hotvocals', 'rondarousey', 'gessicakayane', 'btstae', 'andreaespadatv', 'emiliovmartinez', 'mauochmann', 'biancaandradeoficial', 'nick__bateman', 'sussexroyal', 'tessabrooks', 'liltunechi', 'shxxbi131', 'camilaqueiroz', 'gusttavolima', 'snooki', 'annanystrom', 'dejesusoficial', 'mcpocahontas', 'twan', 'stephenamell', 'warriors', 'ahmedhelmy', 'optimushwang', 'rachelvennya', 'tamerhosny', 'chelseahouska', 'zionlw10', 'indiancricketteam', 'jairmessiasbolsonaro', 'iynemliarasbulut', 'djsnake', '0529.jihoon.ig', 'lilpeep', 'lauramarano', 'theshilpashetty', 'sebastianyatra', 'nashgrier', 'gio_ewbank', 'tatafersoza', 'justsul', 'danielhowell', 'sushantsinghrajput', 'henryl89', 'jailyneojeda', 'giovannachaves', 'realdonaldtrump', 'somsomi0309', 'diddy', 'mancity', 'jonasbrothers', 'rachel_mypark', 'realstraykids', 'avneetkaur_13', 'rodrigofaro', 'tolgasaritas_', 'gabrielmedina', 'meghan_trainor', 'playboicarti', 'tchalamet', 'pevpearce', 'osw_onge', 'jin.bts', 'alghazali7', 'iamamyjackson', 'ashishchanchlani', 'bundleofbrittany', 'cosculluela', 'urgantcom', 'gadiiing', 'negodoborel', 'rakulpreet', 'drdre', 'icecube', 'sportscenter', 'vans', 'enesbatur', 'caseycott', 'juicewrld999', 'juliaroberts', 'justyoss', 'taylorlautner', 'richthekid', 'siwonchoi', 'tanamongeau', 'svetabily', '13reasonswhy', 'mturizomusic', 'joe_sugg', 'samumtiti', 'tylerposey58', 'sherine', 'sssniperwolf', 'thedodo', 'realhinakhan', 'elettramiuralamborghini', 'queenbuenrostro', 'chanteljeffries', 'dalang.pelo', 'cazzu', 'kimheenim', 'shirindavid', 'raditya_dika', 'therealjosephmorgan', 'laliga', 'sergiroberto', 'jackson_odoherty', 'hadise', 'camilacoelho', 'danilogentili', 'chelseaoliviaa', 'kensingtonroyal', 'brysontiller', 'taina', 'marioruiz', 'si_nopal', 'ppteamlesslie', 'lakenini', 'ederbez', 'disney', 'lucianohuck', 'mariaventure', 'armaanmalik22', 'dylanminnette', 'pabllovittar', 'anwar', 'maserati', 'flynnagin11', 'thalia', 'kefera', 'cleo', 'katehudson', 'hegdepooja', 'urassayas', '333cyj333', 'belle.delphine', '_kikanieto', 'kentooyamazaki', 'spacex', 'cuadrado', 'palomamami', 'thegoodquote', 'juanpa', 'model_roz', 'antoniiogarza', 'therealcalebmclaughlin', 'eunwo.o_c', 'muratboz', 'lestykejora', 'christian_fig', 'yastunes', 'ashtonirwin', 'anupamaparameswaran96', 'elizabetholsenofficial', 'katieangeltv', 'mahnaz_afshar', 'rosiehw', 'sushitrash', 'davidluiz_4', 'maiaestiantyreal', 'marianrivera', 'grefg_official', 'melo', 'michelle_lewin', 'willevy', 'youngma', 'dudeperfect', 'sandyoficial', 'kianlawley', 'ppteamkaren', 'blacyoungsta', 'panicatthedisco', 'kimmy_kimberley', 'netflixbrasil', 'pharrell', 'khiza_13', 'kateclapp', 'evaristocostaoficial', 'claudiaalende', 'coltonlhaynes', 'shrutzhaasan', 'michaelronda', 'ramadhaniabakrie', '6pri1', 'ufc', 'jscmila', 'romanatwood', 'realllllmino', 'gianluigibuffon', 'ch14_', 'dearra', 'swaelee', 'mario_houses', 'lexibrookerivera', 'juulianapaiva', 'anastasiabeverlyhills', 'la_liendraa', 'dele', 'evgeny_kulik', 'rockstargames', 'ruggeropasquarelli', 'juanpa', 'dqsalmaan', 'gleicidamasceno', 'angeldimariajm', 'romeestrijd', 'tsm_myth', 'victoriabeckham', 'markwahlberg', 'tsm_daequan', 'juneeeeeeya', 'laurdiy', 'garrett_watts', 'tiamowry', 'mohanshakti', 'mrbeast', 'anacheri', 'maccosmetics', 'canyaman', 'jassie.gill', 'ashleygraham', 'josephineskriver', 'btsnamjoon', 'leosantana', 'jesynelson', 'belindapop', 'bts_jhope', 'brisiajodie96', 'machinegunkelly', 'killadamente', 'malaikaaroraofficial', 'hitocaesar', 'parvizparastouei', 'normani', 'lucas_lira', 'yoongibts', 'sadiomaneofficiel', 'juliabarretto', 'tylerhoechlin', 'jessicaalba', 'lucaspaqueta', 'whydontwemusic', 'bobbyindaeyo', 'falcao', 'johncena', 'aykutelmas', 'jacenorman', 'lazar_angelov_official', 'kristenanniebell', 'leo.osuna', 'nadine']\n"
     ]
    }
   ],
   "source": [
    "print(items)"
   ]
  },
  {
   "cell_type": "code",
   "execution_count": 69,
   "metadata": {
    "collapsed": true
   },
   "outputs": [],
   "source": [
    "final_list = list(set(items).union(set(userList)))"
   ]
  },
  {
   "cell_type": "code",
   "execution_count": 70,
   "metadata": {},
   "outputs": [
    {
     "data": {
      "text/plain": [
       "1947"
      ]
     },
     "execution_count": 70,
     "metadata": {},
     "output_type": "execute_result"
    }
   ],
   "source": [
    "len(final_list)"
   ]
  },
  {
   "cell_type": "code",
   "execution_count": 71,
   "metadata": {
    "collapsed": true
   },
   "outputs": [],
   "source": [
    "with open('final_user_list.txt', 'w') as f:\n",
    "    for item in final_list:\n",
    "        f.write(\"%s\\n\" % item)"
   ]
  },
  {
   "cell_type": "code",
   "execution_count": 76,
   "metadata": {},
   "outputs": [],
   "source": [
    "with open('final_user_list.txt', 'r') as f:\n",
    "    newList = f.read().splitlines()"
   ]
  },
  {
   "cell_type": "code",
   "execution_count": 78,
   "metadata": {},
   "outputs": [
    {
     "data": {
      "text/plain": [
       "1947"
      ]
     },
     "execution_count": 78,
     "metadata": {},
     "output_type": "execute_result"
    }
   ],
   "source": [
    "len(newList)"
   ]
  },
  {
   "cell_type": "code",
   "execution_count": 104,
   "metadata": {},
   "outputs": [],
   "source": [
    "InstagramImages"
   ]
  },
  {
   "cell_type": "code",
   "execution_count": 105,
   "metadata": {},
   "outputs": [
    {
     "data": {
      "text/plain": [
       "1897"
      ]
     },
     "execution_count": 105,
     "metadata": {},
     "output_type": "execute_result"
    }
   ],
   "source": [
    "len(imageDataList)"
   ]
  },
  {
   "cell_type": "code",
   "execution_count": 94,
   "metadata": {
    "collapsed": true
   },
   "outputs": [],
   "source": [
    "listToDelete = [x for x in imageDataList if x not in userDataList]"
   ]
  },
  {
   "cell_type": "code",
   "execution_count": 106,
   "metadata": {},
   "outputs": [],
   "source": [
    "listToDelete1 = [x for x in imageDataList if x not in userDataList]"
   ]
  },
  {
   "cell_type": "code",
   "execution_count": 107,
   "metadata": {},
   "outputs": [
    {
     "data": {
      "text/plain": [
       "[]"
      ]
     },
     "execution_count": 107,
     "metadata": {},
     "output_type": "execute_result"
    }
   ],
   "source": [
    "listToDelete1"
   ]
  }
 ],
 "metadata": {
  "kernelspec": {
   "display_name": "Python 3 (ipykernel)",
   "language": "python",
   "name": "python3"
  },
  "language_info": {
   "codemirror_mode": {
    "name": "ipython",
    "version": 3
   },
   "file_extension": ".py",
   "mimetype": "text/x-python",
   "name": "python",
   "nbconvert_exporter": "python",
   "pygments_lexer": "ipython3",
   "version": "3.9.6"
  }
 },
 "nbformat": 4,
 "nbformat_minor": 2
}
